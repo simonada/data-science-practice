{
 "cells": [
  {
   "cell_type": "code",
   "execution_count": 1044,
   "metadata": {
    "collapsed": true
   },
   "outputs": [],
   "source": [
    "import numpy as np\n",
    "import pandas as pd\n",
    "\n",
    "import matplotlib.pyplot as plt\n",
    "import seaborn as sns\n",
    "%matplotlib inline\n",
    "import tensorflow as tf"
   ]
  },
  {
   "cell_type": "markdown",
   "metadata": {},
   "source": [
    "# Weather data prediction (temperature for a single city)\n",
    "## Example Data Science Project exploring:\n",
    "- working with time series data for univariate and multivariate regression\n",
    "- FC Networks and LSTMs\n",
    "- Decision Trees and Random Forest\n",
    "- sklearn and keras\n",
    "- including categorical variables"
   ]
  },
  {
   "cell_type": "markdown",
   "metadata": {},
   "source": [
    "### Open Questions/ Todos\n",
    "- can we improve by including wind, pressure and humidiy?\n",
    "- the splits for the LSTM models are still a bit hard to understand, see https://www.tensorflow.org/api_docs/python/tf/keras/preprocessing/timeseries_dataset_from_array\n",
    "- validation performance is better than train for some cases -> underfitting?\n",
    "- consider State Space Models such as ARIMA, see https://www.statsmodels.org/dev/statespace.html"
   ]
  },
  {
   "cell_type": "markdown",
   "metadata": {},
   "source": [
    "### References:\n",
    "- data: https://www.kaggle.com/selfishgene/historical-hourly-weather-data\n",
    "- https://colab.research.google.com/github/keras-team/keras-io/blob/master/examples/timeseries/ipynb/timeseries_weather_forecasting.ipynb#scrollTo=8uIMTjEtRGUt\n",
    "- https://www.kaggle.com/avanwyk/encoding-cyclical-features-for-deep-learning\n",
    "- Géron, Aurélien. \"Hands-on machine learning with Scikit-Learn, Keras, and TensorFlow: Concepts, tools, and techniques to build intelligent systems\". O'Reilly Media, 2019."
   ]
  },
  {
   "cell_type": "markdown",
   "metadata": {},
   "source": [
    "### 1. Frame the Problem and Look at the Big Picture\n",
    "- is it supervised, unsupervised or RL? -> supervised, since we have labelled data\n",
    "- is it classification, regression task or smth else? -> regression, since we're predicting a value; specifically, multiple regression since we use multiple features\n",
    "- should you use batch learning or online learning? -> batch learning ok; not online learning since there is no continous flow of data coming into the system, also no need to adjust to changing data rapidly\n",
    "#### 1.1. Select a Performance Measure\n",
    "- Residual Mean Squared Error (RMSE): corresponds to Euclidean Norm, sensitive to outliers; higher weight for large errors\n",
    "- Sum of Absolutes, i.e. Mean Absolute Error (MAE): Manhattan norm\n",
    "#### 1.2. Check the Assumptions\n",
    "- how is the output of your model going to be used?"
   ]
  },
  {
   "cell_type": "markdown",
   "metadata": {},
   "source": [
    "## Get and Explore the Data"
   ]
  },
  {
   "cell_type": "code",
   "execution_count": 932,
   "metadata": {
    "collapsed": true
   },
   "outputs": [],
   "source": [
    "data_temperature = pd.read_csv(\"temperature.csv\", parse_dates=[\"datetime\"])"
   ]
  },
  {
   "cell_type": "code",
   "execution_count": 933,
   "metadata": {},
   "outputs": [
    {
     "data": {
      "text/html": [
       "<div>\n",
       "<style scoped>\n",
       "    .dataframe tbody tr th:only-of-type {\n",
       "        vertical-align: middle;\n",
       "    }\n",
       "\n",
       "    .dataframe tbody tr th {\n",
       "        vertical-align: top;\n",
       "    }\n",
       "\n",
       "    .dataframe thead th {\n",
       "        text-align: right;\n",
       "    }\n",
       "</style>\n",
       "<table border=\"1\" class=\"dataframe\">\n",
       "  <thead>\n",
       "    <tr style=\"text-align: right;\">\n",
       "      <th></th>\n",
       "      <th>datetime</th>\n",
       "      <th>Vancouver</th>\n",
       "      <th>Portland</th>\n",
       "      <th>San Francisco</th>\n",
       "      <th>Seattle</th>\n",
       "      <th>Los Angeles</th>\n",
       "      <th>San Diego</th>\n",
       "      <th>Las Vegas</th>\n",
       "      <th>Phoenix</th>\n",
       "      <th>Albuquerque</th>\n",
       "      <th>...</th>\n",
       "      <th>Philadelphia</th>\n",
       "      <th>New York</th>\n",
       "      <th>Montreal</th>\n",
       "      <th>Boston</th>\n",
       "      <th>Beersheba</th>\n",
       "      <th>Tel Aviv District</th>\n",
       "      <th>Eilat</th>\n",
       "      <th>Haifa</th>\n",
       "      <th>Nahariyya</th>\n",
       "      <th>Jerusalem</th>\n",
       "    </tr>\n",
       "  </thead>\n",
       "  <tbody>\n",
       "    <tr>\n",
       "      <th>0</th>\n",
       "      <td>2012-10-01 12:00:00</td>\n",
       "      <td>NaN</td>\n",
       "      <td>NaN</td>\n",
       "      <td>NaN</td>\n",
       "      <td>NaN</td>\n",
       "      <td>NaN</td>\n",
       "      <td>NaN</td>\n",
       "      <td>NaN</td>\n",
       "      <td>NaN</td>\n",
       "      <td>NaN</td>\n",
       "      <td>...</td>\n",
       "      <td>NaN</td>\n",
       "      <td>NaN</td>\n",
       "      <td>NaN</td>\n",
       "      <td>NaN</td>\n",
       "      <td>NaN</td>\n",
       "      <td>NaN</td>\n",
       "      <td>309.100000</td>\n",
       "      <td>NaN</td>\n",
       "      <td>NaN</td>\n",
       "      <td>NaN</td>\n",
       "    </tr>\n",
       "    <tr>\n",
       "      <th>1</th>\n",
       "      <td>2012-10-01 13:00:00</td>\n",
       "      <td>284.630000</td>\n",
       "      <td>282.080000</td>\n",
       "      <td>289.480000</td>\n",
       "      <td>281.800000</td>\n",
       "      <td>291.870000</td>\n",
       "      <td>291.530000</td>\n",
       "      <td>293.410000</td>\n",
       "      <td>296.600000</td>\n",
       "      <td>285.120000</td>\n",
       "      <td>...</td>\n",
       "      <td>285.630000</td>\n",
       "      <td>288.220000</td>\n",
       "      <td>285.830000</td>\n",
       "      <td>287.170000</td>\n",
       "      <td>307.590000</td>\n",
       "      <td>305.470000</td>\n",
       "      <td>310.580000</td>\n",
       "      <td>304.4</td>\n",
       "      <td>304.4</td>\n",
       "      <td>303.5</td>\n",
       "    </tr>\n",
       "    <tr>\n",
       "      <th>2</th>\n",
       "      <td>2012-10-01 14:00:00</td>\n",
       "      <td>284.629041</td>\n",
       "      <td>282.083252</td>\n",
       "      <td>289.474993</td>\n",
       "      <td>281.797217</td>\n",
       "      <td>291.868186</td>\n",
       "      <td>291.533501</td>\n",
       "      <td>293.403141</td>\n",
       "      <td>296.608509</td>\n",
       "      <td>285.154558</td>\n",
       "      <td>...</td>\n",
       "      <td>285.663208</td>\n",
       "      <td>288.247676</td>\n",
       "      <td>285.834650</td>\n",
       "      <td>287.186092</td>\n",
       "      <td>307.590000</td>\n",
       "      <td>304.310000</td>\n",
       "      <td>310.495769</td>\n",
       "      <td>304.4</td>\n",
       "      <td>304.4</td>\n",
       "      <td>303.5</td>\n",
       "    </tr>\n",
       "    <tr>\n",
       "      <th>3</th>\n",
       "      <td>2012-10-01 15:00:00</td>\n",
       "      <td>284.626998</td>\n",
       "      <td>282.091866</td>\n",
       "      <td>289.460618</td>\n",
       "      <td>281.789833</td>\n",
       "      <td>291.862844</td>\n",
       "      <td>291.543355</td>\n",
       "      <td>293.392177</td>\n",
       "      <td>296.631487</td>\n",
       "      <td>285.233952</td>\n",
       "      <td>...</td>\n",
       "      <td>285.756824</td>\n",
       "      <td>288.326940</td>\n",
       "      <td>285.847790</td>\n",
       "      <td>287.231672</td>\n",
       "      <td>307.391513</td>\n",
       "      <td>304.281841</td>\n",
       "      <td>310.411538</td>\n",
       "      <td>304.4</td>\n",
       "      <td>304.4</td>\n",
       "      <td>303.5</td>\n",
       "    </tr>\n",
       "    <tr>\n",
       "      <th>4</th>\n",
       "      <td>2012-10-01 16:00:00</td>\n",
       "      <td>284.624955</td>\n",
       "      <td>282.100481</td>\n",
       "      <td>289.446243</td>\n",
       "      <td>281.782449</td>\n",
       "      <td>291.857503</td>\n",
       "      <td>291.553209</td>\n",
       "      <td>293.381213</td>\n",
       "      <td>296.654466</td>\n",
       "      <td>285.313345</td>\n",
       "      <td>...</td>\n",
       "      <td>285.850440</td>\n",
       "      <td>288.406203</td>\n",
       "      <td>285.860929</td>\n",
       "      <td>287.277251</td>\n",
       "      <td>307.145200</td>\n",
       "      <td>304.238015</td>\n",
       "      <td>310.327308</td>\n",
       "      <td>304.4</td>\n",
       "      <td>304.4</td>\n",
       "      <td>303.5</td>\n",
       "    </tr>\n",
       "  </tbody>\n",
       "</table>\n",
       "<p>5 rows × 37 columns</p>\n",
       "</div>"
      ],
      "text/plain": [
       "             datetime   Vancouver    Portland  San Francisco     Seattle  \\\n",
       "0 2012-10-01 12:00:00         NaN         NaN            NaN         NaN   \n",
       "1 2012-10-01 13:00:00  284.630000  282.080000     289.480000  281.800000   \n",
       "2 2012-10-01 14:00:00  284.629041  282.083252     289.474993  281.797217   \n",
       "3 2012-10-01 15:00:00  284.626998  282.091866     289.460618  281.789833   \n",
       "4 2012-10-01 16:00:00  284.624955  282.100481     289.446243  281.782449   \n",
       "\n",
       "   Los Angeles   San Diego   Las Vegas     Phoenix  Albuquerque    ...      \\\n",
       "0          NaN         NaN         NaN         NaN          NaN    ...       \n",
       "1   291.870000  291.530000  293.410000  296.600000   285.120000    ...       \n",
       "2   291.868186  291.533501  293.403141  296.608509   285.154558    ...       \n",
       "3   291.862844  291.543355  293.392177  296.631487   285.233952    ...       \n",
       "4   291.857503  291.553209  293.381213  296.654466   285.313345    ...       \n",
       "\n",
       "   Philadelphia    New York    Montreal      Boston   Beersheba  \\\n",
       "0           NaN         NaN         NaN         NaN         NaN   \n",
       "1    285.630000  288.220000  285.830000  287.170000  307.590000   \n",
       "2    285.663208  288.247676  285.834650  287.186092  307.590000   \n",
       "3    285.756824  288.326940  285.847790  287.231672  307.391513   \n",
       "4    285.850440  288.406203  285.860929  287.277251  307.145200   \n",
       "\n",
       "   Tel Aviv District       Eilat  Haifa  Nahariyya  Jerusalem  \n",
       "0                NaN  309.100000    NaN        NaN        NaN  \n",
       "1         305.470000  310.580000  304.4      304.4      303.5  \n",
       "2         304.310000  310.495769  304.4      304.4      303.5  \n",
       "3         304.281841  310.411538  304.4      304.4      303.5  \n",
       "4         304.238015  310.327308  304.4      304.4      303.5  \n",
       "\n",
       "[5 rows x 37 columns]"
      ]
     },
     "execution_count": 933,
     "metadata": {},
     "output_type": "execute_result"
    }
   ],
   "source": [
    "data_temperature.head()"
   ]
  },
  {
   "cell_type": "code",
   "execution_count": 934,
   "metadata": {},
   "outputs": [
    {
     "name": "stdout",
     "output_type": "stream",
     "text": [
      "<class 'pandas.core.frame.DataFrame'>\n",
      "RangeIndex: 45253 entries, 0 to 45252\n",
      "Data columns (total 37 columns):\n",
      "datetime             45253 non-null datetime64[ns]\n",
      "Vancouver            44458 non-null float64\n",
      "Portland             45252 non-null float64\n",
      "San Francisco        44460 non-null float64\n",
      "Seattle              45250 non-null float64\n",
      "Los Angeles          45250 non-null float64\n",
      "San Diego            45252 non-null float64\n",
      "Las Vegas            45252 non-null float64\n",
      "Phoenix              45250 non-null float64\n",
      "Albuquerque          45252 non-null float64\n",
      "Denver               45252 non-null float64\n",
      "San Antonio          45252 non-null float64\n",
      "Dallas               45249 non-null float64\n",
      "Houston              45250 non-null float64\n",
      "Kansas City          45252 non-null float64\n",
      "Minneapolis          45240 non-null float64\n",
      "Saint Louis          45252 non-null float64\n",
      "Chicago              45250 non-null float64\n",
      "Nashville            45251 non-null float64\n",
      "Indianapolis         45246 non-null float64\n",
      "Atlanta              45247 non-null float64\n",
      "Detroit              45252 non-null float64\n",
      "Jacksonville         45252 non-null float64\n",
      "Charlotte            45250 non-null float64\n",
      "Miami                44448 non-null float64\n",
      "Pittsburgh           45250 non-null float64\n",
      "Toronto              45252 non-null float64\n",
      "Philadelphia         45250 non-null float64\n",
      "New York             44460 non-null float64\n",
      "Montreal             45250 non-null float64\n",
      "Boston               45250 non-null float64\n",
      "Beersheba            44455 non-null float64\n",
      "Tel Aviv District    44460 non-null float64\n",
      "Eilat                44461 non-null float64\n",
      "Haifa                44455 non-null float64\n",
      "Nahariyya            44456 non-null float64\n",
      "Jerusalem            44460 non-null float64\n",
      "dtypes: datetime64[ns](1), float64(36)\n",
      "memory usage: 12.8 MB\n"
     ]
    }
   ],
   "source": [
    "data_temperature.info()"
   ]
  },
  {
   "cell_type": "code",
   "execution_count": 935,
   "metadata": {
    "collapsed": true
   },
   "outputs": [],
   "source": [
    "# alternative for converting the datetime column to a datetime object\n",
    "# (if we forgot to set the parsing strategy when loading the csv)\n",
    "data_temperature[\"datetime\"] = pd.to_datetime(data_temperature.datetime)"
   ]
  },
  {
   "cell_type": "markdown",
   "metadata": {},
   "source": [
    "### Select data of a single city and rename the target column"
   ]
  },
  {
   "cell_type": "code",
   "execution_count": 1026,
   "metadata": {
    "collapsed": true
   },
   "outputs": [],
   "source": [
    "data_montreal = data_temperature[[\"Montreal\",\"datetime\"]]"
   ]
  },
  {
   "cell_type": "code",
   "execution_count": 1027,
   "metadata": {
    "collapsed": true
   },
   "outputs": [],
   "source": [
    "data_montreal = data_montreal.rename(columns={\"Montreal\":\"temperature\"})"
   ]
  },
  {
   "cell_type": "markdown",
   "metadata": {},
   "source": [
    "### Convert to Celsius for more intuitive interpretation"
   ]
  },
  {
   "cell_type": "code",
   "execution_count": 1028,
   "metadata": {
    "collapsed": true
   },
   "outputs": [],
   "source": [
    "data_montreal[\"temperature\"] = data_montreal[\"temperature\"] - 273.15"
   ]
  },
  {
   "cell_type": "code",
   "execution_count": 1029,
   "metadata": {},
   "outputs": [
    {
     "data": {
      "text/plain": [
       "temperature           float64\n",
       "datetime       datetime64[ns]\n",
       "dtype: object"
      ]
     },
     "execution_count": 1029,
     "metadata": {},
     "output_type": "execute_result"
    }
   ],
   "source": [
    "data_montreal.dtypes"
   ]
  },
  {
   "cell_type": "code",
   "execution_count": 1030,
   "metadata": {},
   "outputs": [
    {
     "data": {
      "text/plain": [
       "(45253, 2)"
      ]
     },
     "execution_count": 1030,
     "metadata": {},
     "output_type": "execute_result"
    }
   ],
   "source": [
    "data_montreal.shape"
   ]
  },
  {
   "cell_type": "code",
   "execution_count": 1031,
   "metadata": {},
   "outputs": [
    {
     "data": {
      "text/html": [
       "<div>\n",
       "<style scoped>\n",
       "    .dataframe tbody tr th:only-of-type {\n",
       "        vertical-align: middle;\n",
       "    }\n",
       "\n",
       "    .dataframe tbody tr th {\n",
       "        vertical-align: top;\n",
       "    }\n",
       "\n",
       "    .dataframe thead th {\n",
       "        text-align: right;\n",
       "    }\n",
       "</style>\n",
       "<table border=\"1\" class=\"dataframe\">\n",
       "  <thead>\n",
       "    <tr style=\"text-align: right;\">\n",
       "      <th></th>\n",
       "      <th>temperature</th>\n",
       "      <th>datetime</th>\n",
       "    </tr>\n",
       "  </thead>\n",
       "  <tbody>\n",
       "    <tr>\n",
       "      <th>0</th>\n",
       "      <td>NaN</td>\n",
       "      <td>2012-10-01 12:00:00</td>\n",
       "    </tr>\n",
       "    <tr>\n",
       "      <th>1</th>\n",
       "      <td>12.68000</td>\n",
       "      <td>2012-10-01 13:00:00</td>\n",
       "    </tr>\n",
       "    <tr>\n",
       "      <th>2</th>\n",
       "      <td>12.68465</td>\n",
       "      <td>2012-10-01 14:00:00</td>\n",
       "    </tr>\n",
       "  </tbody>\n",
       "</table>\n",
       "</div>"
      ],
      "text/plain": [
       "   temperature            datetime\n",
       "0          NaN 2012-10-01 12:00:00\n",
       "1     12.68000 2012-10-01 13:00:00\n",
       "2     12.68465 2012-10-01 14:00:00"
      ]
     },
     "execution_count": 1031,
     "metadata": {},
     "output_type": "execute_result"
    }
   ],
   "source": [
    "data_montreal.head(3)"
   ]
  },
  {
   "cell_type": "markdown",
   "metadata": {},
   "source": [
    "### Handle NAN values -> usually done separately on train and test\n",
    "#### options:\n",
    "- get rid of the row\n",
    "- get rig of the whole attribute\n",
    "- set the values to some value (e.g. mean, median, zero etc.)"
   ]
  },
  {
   "cell_type": "code",
   "execution_count": 1009,
   "metadata": {},
   "outputs": [
    {
     "data": {
      "text/html": [
       "<div>\n",
       "<style scoped>\n",
       "    .dataframe tbody tr th:only-of-type {\n",
       "        vertical-align: middle;\n",
       "    }\n",
       "\n",
       "    .dataframe tbody tr th {\n",
       "        vertical-align: top;\n",
       "    }\n",
       "\n",
       "    .dataframe thead th {\n",
       "        text-align: right;\n",
       "    }\n",
       "</style>\n",
       "<table border=\"1\" class=\"dataframe\">\n",
       "  <thead>\n",
       "    <tr style=\"text-align: right;\">\n",
       "      <th></th>\n",
       "      <th>temperature</th>\n",
       "      <th>datetime</th>\n",
       "    </tr>\n",
       "  </thead>\n",
       "  <tbody>\n",
       "    <tr>\n",
       "      <th>0</th>\n",
       "      <td>7.959000</td>\n",
       "      <td>2012-10-01 12:00:00</td>\n",
       "    </tr>\n",
       "    <tr>\n",
       "      <th>1</th>\n",
       "      <td>12.680000</td>\n",
       "      <td>2012-10-01 13:00:00</td>\n",
       "    </tr>\n",
       "    <tr>\n",
       "      <th>2</th>\n",
       "      <td>12.684650</td>\n",
       "      <td>2012-10-01 14:00:00</td>\n",
       "    </tr>\n",
       "    <tr>\n",
       "      <th>3</th>\n",
       "      <td>12.697790</td>\n",
       "      <td>2012-10-01 15:00:00</td>\n",
       "    </tr>\n",
       "    <tr>\n",
       "      <th>4</th>\n",
       "      <td>12.710929</td>\n",
       "      <td>2012-10-01 16:00:00</td>\n",
       "    </tr>\n",
       "  </tbody>\n",
       "</table>\n",
       "</div>"
      ],
      "text/plain": [
       "   temperature            datetime\n",
       "0     7.959000 2012-10-01 12:00:00\n",
       "1    12.680000 2012-10-01 13:00:00\n",
       "2    12.684650 2012-10-01 14:00:00\n",
       "3    12.697790 2012-10-01 15:00:00\n",
       "4    12.710929 2012-10-01 16:00:00"
      ]
     },
     "execution_count": 1009,
     "metadata": {},
     "output_type": "execute_result"
    }
   ],
   "source": [
    "data_montreal_copy = data_montreal.copy(deep=True)\n",
    "data_montreal_copy.dropna(subset=[\"temperature\"]).head(3) # option 1\n",
    "data_montreal_copy.drop(\"temperature\", axis=1).head(3) # option 2, here makes no sense to drop the whole column\n",
    "median = data_montreal_copy[\"temperature\"].median() # option 3, note that we need to store the value to use\n",
    "# use later on the test and validation data sets\n",
    "data_montreal_copy[\"temperature\"].fillna(median, inplace= True)\n",
    "data_montreal_copy.head()"
   ]
  },
  {
   "cell_type": "markdown",
   "metadata": {},
   "source": [
    "#### option with sklearn: useful if we want to apply the same strategy to multiple columns"
   ]
  },
  {
   "cell_type": "code",
   "execution_count": 1010,
   "metadata": {
    "collapsed": true
   },
   "outputs": [],
   "source": [
    "from sklearn.impute import SimpleImputer"
   ]
  },
  {
   "cell_type": "code",
   "execution_count": 1011,
   "metadata": {
    "collapsed": true
   },
   "outputs": [],
   "source": [
    "imputer = SimpleImputer(strategy=\"median\") # can be used only on numerical values!\n",
    "data_montreal_num = data_montreal_copy.drop(\"datetime\", axis=1)"
   ]
  },
  {
   "cell_type": "code",
   "execution_count": 1014,
   "metadata": {},
   "outputs": [
    {
     "data": {
      "text/plain": [
       "array([7.959])"
      ]
     },
     "execution_count": 1014,
     "metadata": {},
     "output_type": "execute_result"
    }
   ],
   "source": [
    "imputer.fit(data_montreal_num)\n",
    "imputer.statistics_"
   ]
  },
  {
   "cell_type": "code",
   "execution_count": 1015,
   "metadata": {
    "collapsed": true
   },
   "outputs": [],
   "source": [
    "X = imputer.transform(data_montreal_num)"
   ]
  },
  {
   "cell_type": "code",
   "execution_count": 1017,
   "metadata": {},
   "outputs": [],
   "source": [
    "data_montreal_copy_tr = pd.DataFrame(X, columns=data_montreal_num.columns, \n",
    "                                    index = data_montreal_num.index)"
   ]
  },
  {
   "cell_type": "code",
   "execution_count": 1018,
   "metadata": {},
   "outputs": [
    {
     "data": {
      "text/html": [
       "<div>\n",
       "<style scoped>\n",
       "    .dataframe tbody tr th:only-of-type {\n",
       "        vertical-align: middle;\n",
       "    }\n",
       "\n",
       "    .dataframe tbody tr th {\n",
       "        vertical-align: top;\n",
       "    }\n",
       "\n",
       "    .dataframe thead th {\n",
       "        text-align: right;\n",
       "    }\n",
       "</style>\n",
       "<table border=\"1\" class=\"dataframe\">\n",
       "  <thead>\n",
       "    <tr style=\"text-align: right;\">\n",
       "      <th></th>\n",
       "      <th>temperature</th>\n",
       "    </tr>\n",
       "  </thead>\n",
       "  <tbody>\n",
       "    <tr>\n",
       "      <th>0</th>\n",
       "      <td>7.95900</td>\n",
       "    </tr>\n",
       "    <tr>\n",
       "      <th>1</th>\n",
       "      <td>12.68000</td>\n",
       "    </tr>\n",
       "    <tr>\n",
       "      <th>2</th>\n",
       "      <td>12.68465</td>\n",
       "    </tr>\n",
       "  </tbody>\n",
       "</table>\n",
       "</div>"
      ],
      "text/plain": [
       "   temperature\n",
       "0      7.95900\n",
       "1     12.68000\n",
       "2     12.68465"
      ]
     },
     "execution_count": 1018,
     "metadata": {},
     "output_type": "execute_result"
    }
   ],
   "source": [
    "data_montreal_copy_tr.head(3)"
   ]
  },
  {
   "cell_type": "markdown",
   "metadata": {},
   "source": [
    "### actual transform"
   ]
  },
  {
   "cell_type": "code",
   "execution_count": 1032,
   "metadata": {},
   "outputs": [
    {
     "data": {
      "text/html": [
       "<div>\n",
       "<style scoped>\n",
       "    .dataframe tbody tr th:only-of-type {\n",
       "        vertical-align: middle;\n",
       "    }\n",
       "\n",
       "    .dataframe tbody tr th {\n",
       "        vertical-align: top;\n",
       "    }\n",
       "\n",
       "    .dataframe thead th {\n",
       "        text-align: right;\n",
       "    }\n",
       "</style>\n",
       "<table border=\"1\" class=\"dataframe\">\n",
       "  <thead>\n",
       "    <tr style=\"text-align: right;\">\n",
       "      <th></th>\n",
       "      <th>temperature</th>\n",
       "      <th>datetime</th>\n",
       "    </tr>\n",
       "  </thead>\n",
       "  <tbody>\n",
       "    <tr>\n",
       "      <th>0</th>\n",
       "      <td>7.193010</td>\n",
       "      <td>2012-10-01 12:00:00</td>\n",
       "    </tr>\n",
       "    <tr>\n",
       "      <th>1</th>\n",
       "      <td>12.680000</td>\n",
       "      <td>2012-10-01 13:00:00</td>\n",
       "    </tr>\n",
       "    <tr>\n",
       "      <th>2</th>\n",
       "      <td>12.684650</td>\n",
       "      <td>2012-10-01 14:00:00</td>\n",
       "    </tr>\n",
       "    <tr>\n",
       "      <th>3</th>\n",
       "      <td>12.697790</td>\n",
       "      <td>2012-10-01 15:00:00</td>\n",
       "    </tr>\n",
       "    <tr>\n",
       "      <th>4</th>\n",
       "      <td>12.710929</td>\n",
       "      <td>2012-10-01 16:00:00</td>\n",
       "    </tr>\n",
       "  </tbody>\n",
       "</table>\n",
       "</div>"
      ],
      "text/plain": [
       "   temperature            datetime\n",
       "0     7.193010 2012-10-01 12:00:00\n",
       "1    12.680000 2012-10-01 13:00:00\n",
       "2    12.684650 2012-10-01 14:00:00\n",
       "3    12.697790 2012-10-01 15:00:00\n",
       "4    12.710929 2012-10-01 16:00:00"
      ]
     },
     "execution_count": 1032,
     "metadata": {},
     "output_type": "execute_result"
    }
   ],
   "source": [
    "mean = data_montreal[\"temperature\"].mean() \n",
    "data_montreal[\"temperature\"].fillna(mean, inplace= True)\n",
    "data_montreal.head()"
   ]
  },
  {
   "cell_type": "code",
   "execution_count": 1033,
   "metadata": {},
   "outputs": [
    {
     "data": {
      "text/plain": [
       "(45253, 2)"
      ]
     },
     "execution_count": 1033,
     "metadata": {},
     "output_type": "execute_result"
    }
   ],
   "source": [
    "data_montreal.shape"
   ]
  },
  {
   "cell_type": "markdown",
   "metadata": {},
   "source": [
    "## Explore the numerical attributes values (here only temperature)\n",
    "\n",
    "#### Things to consider:\n",
    "- have the values been preprocessed?\n",
    "- are the scales similar or very different?\n",
    "- are the histograms \"tail-heavy\"?"
   ]
  },
  {
   "cell_type": "code",
   "execution_count": 947,
   "metadata": {},
   "outputs": [
    {
     "data": {
      "text/plain": [
       "count    45253.000000\n",
       "mean         7.192744\n",
       "std         11.953399\n",
       "min        -29.850000\n",
       "25%         -1.180000\n",
       "50%          7.959000\n",
       "75%         17.218333\n",
       "max         34.730000\n",
       "Name: temperature, dtype: float64"
      ]
     },
     "execution_count": 947,
     "metadata": {},
     "output_type": "execute_result"
    }
   ],
   "source": [
    "data_montreal.temperature.describe()"
   ]
  },
  {
   "cell_type": "code",
   "execution_count": 948,
   "metadata": {},
   "outputs": [
    {
     "data": {
      "text/plain": [
       "<matplotlib.axes._subplots.AxesSubplot at 0x1970c96a0>"
      ]
     },
     "execution_count": 948,
     "metadata": {},
     "output_type": "execute_result"
    },
    {
     "data": {
      "image/png": "[encoded data removed]",
      "text/plain": [
       "<matplotlib.figure.Figure at 0x1973bc4a8>"
      ]
     },
     "metadata": {},
     "output_type": "display_data"
    }
   ],
   "source": [
    "data_montreal.temperature.plot()"
   ]
  },
  {
   "cell_type": "code",
   "execution_count": 949,
   "metadata": {},
   "outputs": [
    {
     "data": {
      "text/plain": [
       "<matplotlib.axes._subplots.AxesSubplot at 0x197f11080>"
      ]
     },
     "execution_count": 949,
     "metadata": {},
     "output_type": "execute_result"
    },
    {
     "data": {
      "image/png": "[encoded data removed]",
      "text/plain": [
       "<matplotlib.figure.Figure at 0x1973bc748>"
      ]
     },
     "metadata": {},
     "output_type": "display_data"
    }
   ],
   "source": [
    "data_montreal.temperature.hist(bins=50)"
   ]
  },
  {
   "cell_type": "code",
   "execution_count": 950,
   "metadata": {},
   "outputs": [
    {
     "name": "stderr",
     "output_type": "stream",
     "text": [
      "/Users/sdoneva/.local/lib/python3.6/site-packages/scipy/stats/stats.py:1713: FutureWarning: Using a non-tuple sequence for multidimensional indexing is deprecated; use `arr[tuple(seq)]` instead of `arr[seq]`. In the future this will be interpreted as an array index, `arr[np.array(seq)]`, which will result either in an error or a different result.\n",
      "  return np.add.reduce(sorted[indexer] * weights, axis=axis) / sumval\n"
     ]
    },
    {
     "data": {
      "text/plain": [
       "<matplotlib.axes._subplots.AxesSubplot at 0x1987276d8>"
      ]
     },
     "execution_count": 950,
     "metadata": {},
     "output_type": "execute_result"
    },
    {
     "data": {
      "image/png": "[encoded data removed]",
      "text/plain": [
       "<matplotlib.figure.Figure at 0x198111828>"
      ]
     },
     "metadata": {},
     "output_type": "display_data"
    }
   ],
   "source": [
    "sns.distplot(data_montreal.temperature)"
   ]
  },
  {
   "cell_type": "markdown",
   "metadata": {},
   "source": [
    "## Train/Test Data Split\n",
    "- ensure that you use the same train and test set each time you ring the training\n",
    "- two basic options: save after the split and load each time or set random_state \n",
    "- issue: train/test split not stable if you update the dataset\n",
    "- advanced option: use the instance identifier to decide whether or not it should go to the test set, see function in the next cell"
   ]
  },
  {
   "cell_type": "code",
   "execution_count": 754,
   "metadata": {
    "collapsed": true
   },
   "outputs": [],
   "source": [
    "from zlib import crc32"
   ]
  },
  {
   "cell_type": "markdown",
   "metadata": {},
   "source": [
    "- compute a hash value for each instance id \n",
    "- put that instance in the test set if the hash is lower than 20% of the maximum hash value\n",
    "- ensures that the test set will remain consistent\n",
    "- if you have no identifuer column, you can use the row index or the most stable feature (e.g. coordinates)"
   ]
  },
  {
   "cell_type": "code",
   "execution_count": 755,
   "metadata": {
    "collapsed": true
   },
   "outputs": [],
   "source": [
    "def test_set_check(identifier, test_ratio):\n",
    "    return crc32(np.int64(identifier) & 0xffffffff < test_ratio *2**32)\n",
    "\n",
    "def split_train_test_by_id(data, test_ratio, id_column):\n",
    "    ids = data[id_column]\n",
    "    in_test_set = ids.apply(lambda id_ : test_set_check(id_, test_ratio))\n",
    "    return data.loc[~in_test_set], data.loc[in_test_set]"
   ]
  },
  {
   "cell_type": "code",
   "execution_count": 688,
   "metadata": {
    "collapsed": true
   },
   "outputs": [],
   "source": [
    "from sklearn.model_selection import train_test_split"
   ]
  },
  {
   "cell_type": "markdown",
   "metadata": {},
   "source": [
    "### note that due to the time series property, we don't use random shuffling before the split"
   ]
  },
  {
   "cell_type": "code",
   "execution_count": 689,
   "metadata": {
    "collapsed": true
   },
   "outputs": [],
   "source": [
    "#train_set, test_set = train_test_split(data_montreal, test_size=0.4, random_state = 42)\n",
    "#valid_set, test_set = train_test_split(test_set, test_size=0.5, random_state = 42)"
   ]
  },
  {
   "cell_type": "code",
   "execution_count": 977,
   "metadata": {
    "collapsed": true
   },
   "outputs": [],
   "source": [
    "column_indices = {name: i for i, name in enumerate(data_montreal.columns)}\n",
    "\n",
    "n = len(data_montreal)\n",
    "train_set = data_montreal[0:int(n*0.7)].copy()\n",
    "val_set = data_montreal[int(n*0.7):int(n*0.9)].copy()\n",
    "test_set = data_montreal[int(n*0.9):].copy()\n",
    "\n",
    "#num_features = data_montreal.shape[1]"
   ]
  },
  {
   "cell_type": "code",
   "execution_count": 968,
   "metadata": {},
   "outputs": [
    {
     "data": {
      "text/html": [
       "<div>\n",
       "<style scoped>\n",
       "    .dataframe tbody tr th:only-of-type {\n",
       "        vertical-align: middle;\n",
       "    }\n",
       "\n",
       "    .dataframe tbody tr th {\n",
       "        vertical-align: top;\n",
       "    }\n",
       "\n",
       "    .dataframe thead th {\n",
       "        text-align: right;\n",
       "    }\n",
       "</style>\n",
       "<table border=\"1\" class=\"dataframe\">\n",
       "  <thead>\n",
       "    <tr style=\"text-align: right;\">\n",
       "      <th></th>\n",
       "      <th>temperature</th>\n",
       "      <th>datetime</th>\n",
       "    </tr>\n",
       "  </thead>\n",
       "  <tbody>\n",
       "    <tr>\n",
       "      <th>0</th>\n",
       "      <td>12.68</td>\n",
       "      <td>2012-10-01 12:00:00</td>\n",
       "    </tr>\n",
       "    <tr>\n",
       "      <th>1</th>\n",
       "      <td>12.68</td>\n",
       "      <td>2012-10-01 13:00:00</td>\n",
       "    </tr>\n",
       "  </tbody>\n",
       "</table>\n",
       "</div>"
      ],
      "text/plain": [
       "   temperature            datetime\n",
       "0        12.68 2012-10-01 12:00:00\n",
       "1        12.68 2012-10-01 13:00:00"
      ]
     },
     "execution_count": 968,
     "metadata": {},
     "output_type": "execute_result"
    }
   ],
   "source": [
    "train_set.head(2)"
   ]
  },
  {
   "cell_type": "markdown",
   "metadata": {},
   "source": [
    "## Discover and Visualize the Data to Gain Insights\n",
    "- done on TRAIN set\n",
    "#### Here \n",
    "- we experiment by using another of the datasets -> we explore how the mean temperature depends on the location\n",
    "#### General\n",
    "- compute standard correlation coefficients between every pair of attribute, e.g. df.corr() or scatter_matrix from pandas.plotting (NB! only linear combination is measured)\n",
    "- experiment with attribute combinations -> get new attributes that are more correlated with our target"
   ]
  },
  {
   "cell_type": "code",
   "execution_count": 817,
   "metadata": {},
   "outputs": [],
   "source": [
    "df_city_attributes = pd.read_csv(\"city_attributes.csv\")"
   ]
  },
  {
   "cell_type": "markdown",
   "metadata": {},
   "source": [
    "### first we compute the overall mean temperature per city"
   ]
  },
  {
   "cell_type": "code",
   "execution_count": 831,
   "metadata": {},
   "outputs": [],
   "source": [
    "data_temperature_transposed = data_temperature.drop(\"datetime\", axis=1).fillna(method = \"bfill\", axis=0).T.dropna(axis=1)"
   ]
  },
  {
   "cell_type": "code",
   "execution_count": 833,
   "metadata": {},
   "outputs": [],
   "source": [
    "data_temperature_transposed['mean_temperature'] = data_temperature_transposed.mean(axis=1)"
   ]
  },
  {
   "cell_type": "code",
   "execution_count": 834,
   "metadata": {},
   "outputs": [],
   "source": [
    "data_temperature_mean = data_temperature_transposed[['mean_temperature']] - 273.15"
   ]
  },
  {
   "cell_type": "code",
   "execution_count": 835,
   "metadata": {
    "collapsed": true
   },
   "outputs": [],
   "source": [
    "data_temperature_mean.reset_index(level=0, inplace=True)\n",
    "data_temperature_mean = data_temperature_mean.rename(columns={\"index\":\"City\"})"
   ]
  },
  {
   "cell_type": "code",
   "execution_count": 836,
   "metadata": {},
   "outputs": [
    {
     "data": {
      "text/html": [
       "<div>\n",
       "<style scoped>\n",
       "    .dataframe tbody tr th:only-of-type {\n",
       "        vertical-align: middle;\n",
       "    }\n",
       "\n",
       "    .dataframe tbody tr th {\n",
       "        vertical-align: top;\n",
       "    }\n",
       "\n",
       "    .dataframe thead th {\n",
       "        text-align: right;\n",
       "    }\n",
       "</style>\n",
       "<table border=\"1\" class=\"dataframe\">\n",
       "  <thead>\n",
       "    <tr style=\"text-align: right;\">\n",
       "      <th></th>\n",
       "      <th>City</th>\n",
       "      <th>mean_temperature</th>\n",
       "    </tr>\n",
       "  </thead>\n",
       "  <tbody>\n",
       "    <tr>\n",
       "      <th>0</th>\n",
       "      <td>Vancouver</td>\n",
       "      <td>10.712426</td>\n",
       "    </tr>\n",
       "    <tr>\n",
       "      <th>1</th>\n",
       "      <td>Portland</td>\n",
       "      <td>11.899524</td>\n",
       "    </tr>\n",
       "    <tr>\n",
       "      <th>2</th>\n",
       "      <td>San Francisco</td>\n",
       "      <td>15.005850</td>\n",
       "    </tr>\n",
       "    <tr>\n",
       "      <th>3</th>\n",
       "      <td>Seattle</td>\n",
       "      <td>11.323758</td>\n",
       "    </tr>\n",
       "    <tr>\n",
       "      <th>4</th>\n",
       "      <td>Los Angeles</td>\n",
       "      <td>17.691278</td>\n",
       "    </tr>\n",
       "  </tbody>\n",
       "</table>\n",
       "</div>"
      ],
      "text/plain": [
       "            City  mean_temperature\n",
       "0      Vancouver         10.712426\n",
       "1       Portland         11.899524\n",
       "2  San Francisco         15.005850\n",
       "3        Seattle         11.323758\n",
       "4    Los Angeles         17.691278"
      ]
     },
     "execution_count": 836,
     "metadata": {},
     "output_type": "execute_result"
    }
   ],
   "source": [
    "data_temperature_mean.head()"
   ]
  },
  {
   "cell_type": "markdown",
   "metadata": {},
   "source": [
    "### now we can merge the temperature with the city attributes"
   ]
  },
  {
   "cell_type": "code",
   "execution_count": 837,
   "metadata": {},
   "outputs": [],
   "source": [
    "df_city_attributes_and_temp = pd.merge(left=data_temperature_mean,\n",
    "                                       right=df_city_attributes, left_on='City', right_on='City')"
   ]
  },
  {
   "cell_type": "code",
   "execution_count": 838,
   "metadata": {},
   "outputs": [
    {
     "data": {
      "text/html": [
       "<div>\n",
       "<style scoped>\n",
       "    .dataframe tbody tr th:only-of-type {\n",
       "        vertical-align: middle;\n",
       "    }\n",
       "\n",
       "    .dataframe tbody tr th {\n",
       "        vertical-align: top;\n",
       "    }\n",
       "\n",
       "    .dataframe thead th {\n",
       "        text-align: right;\n",
       "    }\n",
       "</style>\n",
       "<table border=\"1\" class=\"dataframe\">\n",
       "  <thead>\n",
       "    <tr style=\"text-align: right;\">\n",
       "      <th></th>\n",
       "      <th>City</th>\n",
       "      <th>mean_temperature</th>\n",
       "      <th>Country</th>\n",
       "      <th>Latitude</th>\n",
       "      <th>Longitude</th>\n",
       "    </tr>\n",
       "  </thead>\n",
       "  <tbody>\n",
       "    <tr>\n",
       "      <th>0</th>\n",
       "      <td>Vancouver</td>\n",
       "      <td>10.712426</td>\n",
       "      <td>Canada</td>\n",
       "      <td>49.249660</td>\n",
       "      <td>-123.119339</td>\n",
       "    </tr>\n",
       "    <tr>\n",
       "      <th>1</th>\n",
       "      <td>Portland</td>\n",
       "      <td>11.899524</td>\n",
       "      <td>United States</td>\n",
       "      <td>45.523449</td>\n",
       "      <td>-122.676208</td>\n",
       "    </tr>\n",
       "    <tr>\n",
       "      <th>2</th>\n",
       "      <td>San Francisco</td>\n",
       "      <td>15.005850</td>\n",
       "      <td>United States</td>\n",
       "      <td>37.774929</td>\n",
       "      <td>-122.419418</td>\n",
       "    </tr>\n",
       "    <tr>\n",
       "      <th>3</th>\n",
       "      <td>Seattle</td>\n",
       "      <td>11.323758</td>\n",
       "      <td>United States</td>\n",
       "      <td>47.606209</td>\n",
       "      <td>-122.332069</td>\n",
       "    </tr>\n",
       "    <tr>\n",
       "      <th>4</th>\n",
       "      <td>Los Angeles</td>\n",
       "      <td>17.691278</td>\n",
       "      <td>United States</td>\n",
       "      <td>34.052231</td>\n",
       "      <td>-118.243683</td>\n",
       "    </tr>\n",
       "  </tbody>\n",
       "</table>\n",
       "</div>"
      ],
      "text/plain": [
       "            City  mean_temperature        Country   Latitude   Longitude\n",
       "0      Vancouver         10.712426         Canada  49.249660 -123.119339\n",
       "1       Portland         11.899524  United States  45.523449 -122.676208\n",
       "2  San Francisco         15.005850  United States  37.774929 -122.419418\n",
       "3        Seattle         11.323758  United States  47.606209 -122.332069\n",
       "4    Los Angeles         17.691278  United States  34.052231 -118.243683"
      ]
     },
     "execution_count": 838,
     "metadata": {},
     "output_type": "execute_result"
    }
   ],
   "source": [
    "df_city_attributes_and_temp.head()"
   ]
  },
  {
   "cell_type": "code",
   "execution_count": 889,
   "metadata": {},
   "outputs": [
    {
     "data": {
      "image/png": "[encoded data removed]",
      "text/plain": [
       "<matplotlib.figure.Figure at 0x199e4b668>"
      ]
     },
     "metadata": {},
     "output_type": "display_data"
    }
   ],
   "source": [
    "# note: important to set the axis in the plot, i.e. ax=ax, otherwise there are some issues with the plot annotations\n",
    "fig, ax = plt.subplots()\n",
    "df_city_attributes_and_temp.plot(kind=\"scatter\", x = \"Longitude\", y= \"Latitude\", s=100,\n",
    "                                 figsize=(10,7), c=\"mean_temperature\", cmap=plt.get_cmap(\"jet\"), ax=ax)\n",
    "_ = df_city_attributes_and_temp[['Longitude','Latitude','City']].apply(lambda row: ax.text(*row, fontsize=13),axis=1)\n",
    "\n",
    "ax.grid(False)\n",
    "ax.set_facecolor('whitesmoke')\n",
    "ax.set_ylabel(\"Latitude\", size = 15)\n",
    "ax.set_xlabel(\"Longitude\", size = 15)\n",
    "plt.tight_layout()\n"
   ]
  },
  {
   "cell_type": "markdown",
   "metadata": {},
   "source": [
    "## Prepare the Data for ML algorithms\n",
    "Note: Transofrmation pipelines and the treatment of text data is discussed later in the notebook"
   ]
  },
  {
   "cell_type": "markdown",
   "metadata": {},
   "source": [
    "- here we encode the date time into cyclic features\n",
    "- create two new features, deriving a sine transform and cosine transform\n",
    "- see https://ianlondon.github.io/blog/encoding-cyclical-features-24hour-time/"
   ]
  },
  {
   "cell_type": "code",
   "execution_count": 981,
   "metadata": {},
   "outputs": [],
   "source": [
    "train_set['hour'] = train_set.datetime.dt.hour\n",
    "data_sampe = train_set[:48]"
   ]
  },
  {
   "cell_type": "code",
   "execution_count": 982,
   "metadata": {},
   "outputs": [
    {
     "data": {
      "text/plain": [
       "Text(0.5,1,'Hour feature before encoding')"
      ]
     },
     "execution_count": 982,
     "metadata": {},
     "output_type": "execute_result"
    },
    {
     "data": {
      "image/png": "[encoded data removed]",
      "text/plain": [
       "<matplotlib.figure.Figure at 0x1975664a8>"
      ]
     },
     "metadata": {},
     "output_type": "display_data"
    }
   ],
   "source": [
    "data_sampe[\"hour\"].plot()\n",
    "plt.title(\"Hour feature before encoding\")"
   ]
  },
  {
   "cell_type": "code",
   "execution_count": 973,
   "metadata": {
    "collapsed": true
   },
   "outputs": [],
   "source": [
    "def encode(data, col, max_value):\n",
    "    data[col + \"_sin\"] = np.sin(2*np.pi*data[col]/max_value)\n",
    "    data[col + \"_cos\"] = np.cos(2*np.pi*data[col]/max_value)\n",
    "    return data"
   ]
  },
  {
   "cell_type": "code",
   "execution_count": 989,
   "metadata": {
    "collapsed": true
   },
   "outputs": [],
   "source": [
    "# TODO: make all the changes related to the datetime column execute in a single function\n",
    "# TODO: maybe write a custom transformer?"
   ]
  },
  {
   "cell_type": "code",
   "execution_count": 983,
   "metadata": {},
   "outputs": [],
   "source": [
    "train_set = encode(train_set, \"hour\", 23)\n",
    "train_set[\"month\"] = train_set.datetime.dt.month\n",
    "train_set = encode(train_set, \"month\", 12)\n",
    "train_set[\"day\"] = train_set.datetime.dt.day\n",
    "train_set = encode(train_set, \"day\", 365)"
   ]
  },
  {
   "cell_type": "code",
   "execution_count": 984,
   "metadata": {},
   "outputs": [],
   "source": [
    "val_set['hour'] = val_set.datetime.dt.hour\n",
    "val_set = encode(val_set, \"hour\", 23)\n",
    "val_set[\"month\"] = val_set.datetime.dt.month\n",
    "val_set = encode(val_set, \"month\", 12)\n",
    "val_set[\"day\"] = val_set.datetime.dt.day\n",
    "val_set = encode(val_set, \"day\", 365)"
   ]
  },
  {
   "cell_type": "code",
   "execution_count": 987,
   "metadata": {
    "collapsed": true
   },
   "outputs": [],
   "source": [
    "test_set['hour'] = test_set.datetime.dt.hour\n",
    "test_set = encode(test_set, \"hour\", 23)\n",
    "test_set[\"month\"] = test_set.datetime.dt.month\n",
    "test_set = encode(test_set, \"month\", 12)\n",
    "test_set[\"day\"] = test_set.datetime.dt.day\n",
    "test_set = encode(test_set, \"day\", 365)"
   ]
  },
  {
   "cell_type": "code",
   "execution_count": 985,
   "metadata": {},
   "outputs": [
    {
     "data": {
      "text/html": [
       "<div>\n",
       "<style scoped>\n",
       "    .dataframe tbody tr th:only-of-type {\n",
       "        vertical-align: middle;\n",
       "    }\n",
       "\n",
       "    .dataframe tbody tr th {\n",
       "        vertical-align: top;\n",
       "    }\n",
       "\n",
       "    .dataframe thead th {\n",
       "        text-align: right;\n",
       "    }\n",
       "</style>\n",
       "<table border=\"1\" class=\"dataframe\">\n",
       "  <thead>\n",
       "    <tr style=\"text-align: right;\">\n",
       "      <th></th>\n",
       "      <th>temperature</th>\n",
       "      <th>datetime</th>\n",
       "      <th>hour</th>\n",
       "      <th>hour_sin</th>\n",
       "      <th>hour_cos</th>\n",
       "      <th>month</th>\n",
       "      <th>month_sin</th>\n",
       "      <th>month_cos</th>\n",
       "      <th>day</th>\n",
       "      <th>day_sin</th>\n",
       "      <th>day_cos</th>\n",
       "    </tr>\n",
       "  </thead>\n",
       "  <tbody>\n",
       "    <tr>\n",
       "      <th>0</th>\n",
       "      <td>12.680000</td>\n",
       "      <td>2012-10-01 12:00:00</td>\n",
       "      <td>12</td>\n",
       "      <td>-0.136167</td>\n",
       "      <td>-0.990686</td>\n",
       "      <td>10</td>\n",
       "      <td>-0.866025</td>\n",
       "      <td>0.5</td>\n",
       "      <td>1</td>\n",
       "      <td>0.017213</td>\n",
       "      <td>0.999852</td>\n",
       "    </tr>\n",
       "    <tr>\n",
       "      <th>1</th>\n",
       "      <td>12.680000</td>\n",
       "      <td>2012-10-01 13:00:00</td>\n",
       "      <td>13</td>\n",
       "      <td>-0.398401</td>\n",
       "      <td>-0.917211</td>\n",
       "      <td>10</td>\n",
       "      <td>-0.866025</td>\n",
       "      <td>0.5</td>\n",
       "      <td>1</td>\n",
       "      <td>0.017213</td>\n",
       "      <td>0.999852</td>\n",
       "    </tr>\n",
       "    <tr>\n",
       "      <th>2</th>\n",
       "      <td>12.684650</td>\n",
       "      <td>2012-10-01 14:00:00</td>\n",
       "      <td>14</td>\n",
       "      <td>-0.631088</td>\n",
       "      <td>-0.775711</td>\n",
       "      <td>10</td>\n",
       "      <td>-0.866025</td>\n",
       "      <td>0.5</td>\n",
       "      <td>1</td>\n",
       "      <td>0.017213</td>\n",
       "      <td>0.999852</td>\n",
       "    </tr>\n",
       "    <tr>\n",
       "      <th>3</th>\n",
       "      <td>12.697790</td>\n",
       "      <td>2012-10-01 15:00:00</td>\n",
       "      <td>15</td>\n",
       "      <td>-0.816970</td>\n",
       "      <td>-0.576680</td>\n",
       "      <td>10</td>\n",
       "      <td>-0.866025</td>\n",
       "      <td>0.5</td>\n",
       "      <td>1</td>\n",
       "      <td>0.017213</td>\n",
       "      <td>0.999852</td>\n",
       "    </tr>\n",
       "    <tr>\n",
       "      <th>4</th>\n",
       "      <td>12.710929</td>\n",
       "      <td>2012-10-01 16:00:00</td>\n",
       "      <td>16</td>\n",
       "      <td>-0.942261</td>\n",
       "      <td>-0.334880</td>\n",
       "      <td>10</td>\n",
       "      <td>-0.866025</td>\n",
       "      <td>0.5</td>\n",
       "      <td>1</td>\n",
       "      <td>0.017213</td>\n",
       "      <td>0.999852</td>\n",
       "    </tr>\n",
       "  </tbody>\n",
       "</table>\n",
       "</div>"
      ],
      "text/plain": [
       "   temperature            datetime  hour  hour_sin  hour_cos  month  \\\n",
       "0    12.680000 2012-10-01 12:00:00    12 -0.136167 -0.990686     10   \n",
       "1    12.680000 2012-10-01 13:00:00    13 -0.398401 -0.917211     10   \n",
       "2    12.684650 2012-10-01 14:00:00    14 -0.631088 -0.775711     10   \n",
       "3    12.697790 2012-10-01 15:00:00    15 -0.816970 -0.576680     10   \n",
       "4    12.710929 2012-10-01 16:00:00    16 -0.942261 -0.334880     10   \n",
       "\n",
       "   month_sin  month_cos  day   day_sin   day_cos  \n",
       "0  -0.866025        0.5    1  0.017213  0.999852  \n",
       "1  -0.866025        0.5    1  0.017213  0.999852  \n",
       "2  -0.866025        0.5    1  0.017213  0.999852  \n",
       "3  -0.866025        0.5    1  0.017213  0.999852  \n",
       "4  -0.866025        0.5    1  0.017213  0.999852  "
      ]
     },
     "execution_count": 985,
     "metadata": {},
     "output_type": "execute_result"
    }
   ],
   "source": [
    "train_set.head()"
   ]
  },
  {
   "cell_type": "code",
   "execution_count": 986,
   "metadata": {},
   "outputs": [
    {
     "data": {
      "text/plain": [
       "Text(0.5,1,'Hour signal after encoding')"
      ]
     },
     "execution_count": 986,
     "metadata": {},
     "output_type": "execute_result"
    },
    {
     "data": {
      "image/png": "[encoded data removed]",
      "text/plain": [
       "<matplotlib.figure.Figure at 0x196f7b0f0>"
      ]
     },
     "metadata": {},
     "output_type": "display_data"
    }
   ],
   "source": [
    "plt.plot(np.array(train_set['hour_sin'])[:48])\n",
    "plt.plot(np.array(train_set['hour_cos'])[:48])\n",
    "plt.xlabel('Time [h]')\n",
    "plt.title('Hour signal after encoding')"
   ]
  },
  {
   "cell_type": "markdown",
   "metadata": {},
   "source": [
    "## Select and Train a Model"
   ]
  },
  {
   "cell_type": "markdown",
   "metadata": {},
   "source": [
    "### Dense NN for a single temperature value prediction"
   ]
  },
  {
   "cell_type": "code",
   "execution_count": 1046,
   "metadata": {},
   "outputs": [],
   "source": [
    "from tensorflow.keras.models import Sequential, Model\n",
    "from tensorflow.keras.layers import Dense, Activation, Input\n",
    "from tensorflow.keras.optimizers import Adam"
   ]
  },
  {
   "cell_type": "code",
   "execution_count": 1047,
   "metadata": {
    "collapsed": true
   },
   "outputs": [],
   "source": [
    "def train_model(X_train, y_train, X_valid, y_valid, epochs):\n",
    "    \n",
    "    model = Sequential(\n",
    "            [Dense(30, activation = \"relu\", input_shape=(X_train.shape[1],)),\n",
    "             Dense(30, activation =\"relu\"),\n",
    "             Dense(30, activation = \"relu\"),\n",
    "             Dense(1, activation = \"linear\")])\n",
    "    \n",
    "    model.compile(optimizer = Adam(), loss = \"mean_squared_error\")\n",
    "    \n",
    "    history = model.fit(X_train, y_train, epochs=epochs, validation_data=(X_valid, y_valid))\n",
    "    \n",
    "    return model, history"
   ]
  },
  {
   "cell_type": "code",
   "execution_count": 1048,
   "metadata": {
    "collapsed": true
   },
   "outputs": [],
   "source": [
    "def get_unencoded_features(df):\n",
    "    return df[[\"day\",\"hour\",\"month\"]]\n",
    "\n",
    "def get_encoded_features(df):\n",
    "    return df[['month_sin', 'month_cos', 'day_sin', 'day_cos', 'hour_sin', 'hour_cos']]"
   ]
  },
  {
   "cell_type": "markdown",
   "metadata": {},
   "source": [
    "#### Train without the sin/cos encoding of the date time features"
   ]
  },
  {
   "cell_type": "code",
   "execution_count": 1049,
   "metadata": {
    "collapsed": true
   },
   "outputs": [],
   "source": [
    "X_train = get_unencoded_features(train_set)\n",
    "y_train = train_set.temperature"
   ]
  },
  {
   "cell_type": "code",
   "execution_count": 1050,
   "metadata": {
    "collapsed": true
   },
   "outputs": [],
   "source": [
    "X_valid = get_unencoded_features(valid_set)\n",
    "y_valid = valid_set.temperature"
   ]
  },
  {
   "cell_type": "code",
   "execution_count": 1051,
   "metadata": {},
   "outputs": [
    {
     "name": "stdout",
     "output_type": "stream",
     "text": [
      "Epoch 1/50\n",
      "990/990 [==============================] - 2s 2ms/step - loss: 99.8445 - val_loss: 71.3671\n",
      "Epoch 2/50\n",
      "990/990 [==============================] - 2s 2ms/step - loss: 51.3191 - val_loss: 36.7654\n",
      "Epoch 3/50\n",
      "990/990 [==============================] - 1s 1ms/step - loss: 35.4929 - val_loss: 30.6541\n",
      "Epoch 4/50\n",
      "990/990 [==============================] - 1s 2ms/step - loss: 32.3057 - val_loss: 29.9033\n",
      "Epoch 5/50\n",
      "990/990 [==============================] - 1s 1ms/step - loss: 31.4618 - val_loss: 29.5925\n",
      "Epoch 6/50\n",
      "990/990 [==============================] - 1s 1ms/step - loss: 30.6108 - val_loss: 29.9754\n",
      "Epoch 7/50\n",
      "990/990 [==============================] - 2s 2ms/step - loss: 30.2001 - val_loss: 27.5433\n",
      "Epoch 8/50\n",
      "990/990 [==============================] - 1s 1ms/step - loss: 29.9155 - val_loss: 29.9191\n",
      "Epoch 9/50\n",
      "990/990 [==============================] - 1s 1ms/step - loss: 29.8604 - val_loss: 28.1944\n",
      "Epoch 10/50\n",
      "990/990 [==============================] - 2s 2ms/step - loss: 29.6400 - val_loss: 27.8905\n",
      "Epoch 11/50\n",
      "990/990 [==============================] - 1s 1ms/step - loss: 29.7917 - val_loss: 27.8433\n",
      "Epoch 12/50\n",
      "990/990 [==============================] - 1s 1ms/step - loss: 29.1580 - val_loss: 27.9890\n",
      "Epoch 13/50\n",
      "990/990 [==============================] - 1s 1ms/step - loss: 28.9073 - val_loss: 27.2820\n",
      "Epoch 14/50\n",
      "990/990 [==============================] - 1s 1ms/step - loss: 28.9729 - val_loss: 29.7972\n",
      "Epoch 15/50\n",
      "990/990 [==============================] - 2s 2ms/step - loss: 28.7375 - val_loss: 27.0077\n",
      "Epoch 16/50\n",
      "990/990 [==============================] - 2s 2ms/step - loss: 28.6570 - val_loss: 28.5188\n",
      "Epoch 17/50\n",
      "990/990 [==============================] - 2s 2ms/step - loss: 28.6972 - val_loss: 28.2994\n",
      "Epoch 18/50\n",
      "990/990 [==============================] - 2s 2ms/step - loss: 28.5584 - val_loss: 26.5360\n",
      "Epoch 19/50\n",
      "990/990 [==============================] - 2s 2ms/step - loss: 28.4737 - val_loss: 27.8764\n",
      "Epoch 20/50\n",
      "990/990 [==============================] - 1s 2ms/step - loss: 28.5570 - val_loss: 27.5256\n",
      "Epoch 21/50\n",
      "990/990 [==============================] - 2s 2ms/step - loss: 28.1576 - val_loss: 27.4939\n",
      "Epoch 22/50\n",
      "990/990 [==============================] - 2s 2ms/step - loss: 28.2801 - val_loss: 29.7128\n",
      "Epoch 23/50\n",
      "990/990 [==============================] - 2s 2ms/step - loss: 28.1395 - val_loss: 26.9500\n",
      "Epoch 24/50\n",
      "990/990 [==============================] - 2s 2ms/step - loss: 28.0256 - val_loss: 28.3028\n",
      "Epoch 25/50\n",
      "990/990 [==============================] - 2s 2ms/step - loss: 28.0296 - val_loss: 28.4253\n",
      "Epoch 26/50\n",
      "990/990 [==============================] - 1s 1ms/step - loss: 27.8683 - val_loss: 26.5190\n",
      "Epoch 27/50\n",
      "990/990 [==============================] - 2s 2ms/step - loss: 27.8321 - val_loss: 27.9016\n",
      "Epoch 28/50\n",
      "990/990 [==============================] - 2s 2ms/step - loss: 27.9431 - val_loss: 26.4195\n",
      "Epoch 29/50\n",
      "990/990 [==============================] - 2s 2ms/step - loss: 27.8111 - val_loss: 26.4385\n",
      "Epoch 30/50\n",
      "990/990 [==============================] - 1s 2ms/step - loss: 27.5800 - val_loss: 26.5998\n",
      "Epoch 31/50\n",
      "990/990 [==============================] - 1s 1ms/step - loss: 27.8208 - val_loss: 26.4426\n",
      "Epoch 32/50\n",
      "990/990 [==============================] - 2s 2ms/step - loss: 27.6009 - val_loss: 28.9683\n",
      "Epoch 33/50\n",
      "990/990 [==============================] - 2s 2ms/step - loss: 27.6278 - val_loss: 26.7083\n",
      "Epoch 34/50\n",
      "990/990 [==============================] - 2s 2ms/step - loss: 27.5221 - val_loss: 26.2082\n",
      "Epoch 35/50\n",
      "990/990 [==============================] - 2s 2ms/step - loss: 27.5774 - val_loss: 26.7084\n",
      "Epoch 36/50\n",
      "990/990 [==============================] - 2s 2ms/step - loss: 27.4309 - val_loss: 25.9343\n",
      "Epoch 37/50\n",
      "990/990 [==============================] - 2s 2ms/step - loss: 27.6711 - val_loss: 27.3775\n",
      "Epoch 38/50\n",
      "990/990 [==============================] - 2s 2ms/step - loss: 27.3766 - val_loss: 26.2100\n",
      "Epoch 39/50\n",
      "990/990 [==============================] - 2s 2ms/step - loss: 27.3386 - val_loss: 26.2689\n",
      "Epoch 40/50\n",
      "990/990 [==============================] - 2s 2ms/step - loss: 27.3828 - val_loss: 26.2578\n",
      "Epoch 41/50\n",
      "990/990 [==============================] - 2s 2ms/step - loss: 27.3468 - val_loss: 26.2040\n",
      "Epoch 42/50\n",
      "990/990 [==============================] - 2s 2ms/step - loss: 27.5317 - val_loss: 27.4282\n",
      "Epoch 43/50\n",
      "990/990 [==============================] - 1s 1ms/step - loss: 27.2539 - val_loss: 26.7022\n",
      "Epoch 44/50\n",
      "990/990 [==============================] - 1s 2ms/step - loss: 27.0803 - val_loss: 26.1393\n",
      "Epoch 45/50\n",
      "990/990 [==============================] - 1s 1ms/step - loss: 27.1686 - val_loss: 26.0493\n",
      "Epoch 46/50\n",
      "990/990 [==============================] - 1s 1ms/step - loss: 27.2664 - val_loss: 27.0741\n",
      "Epoch 47/50\n",
      "990/990 [==============================] - 2s 2ms/step - loss: 27.2177 - val_loss: 26.8204\n",
      "Epoch 48/50\n",
      "990/990 [==============================] - 2s 2ms/step - loss: 27.0404 - val_loss: 25.9755\n",
      "Epoch 49/50\n",
      "990/990 [==============================] - 2s 2ms/step - loss: 26.9174 - val_loss: 25.7622\n",
      "Epoch 50/50\n",
      "990/990 [==============================] - 1s 1ms/step - loss: 27.1299 - val_loss: 26.5380\n"
     ]
    }
   ],
   "source": [
    "model, history = train_model(X_train, y_train, X_valid, y_valid, 50)"
   ]
  },
  {
   "cell_type": "markdown",
   "metadata": {},
   "source": [
    "#### Train with the sin/cos encoding of the date time features"
   ]
  },
  {
   "cell_type": "code",
   "execution_count": 1052,
   "metadata": {
    "collapsed": true
   },
   "outputs": [],
   "source": [
    "X_train_enc = get_encoded_features(train_set)\n",
    "X_valid_enc = get_encoded_features(valid_set)"
   ]
  },
  {
   "cell_type": "code",
   "execution_count": 1053,
   "metadata": {},
   "outputs": [
    {
     "name": "stdout",
     "output_type": "stream",
     "text": [
      "Epoch 1/50\n",
      "990/990 [==============================] - 2s 2ms/step - loss: 41.7720 - val_loss: 27.3838\n",
      "Epoch 2/50\n",
      "990/990 [==============================] - 1s 1ms/step - loss: 28.4904 - val_loss: 26.8749\n",
      "Epoch 3/50\n",
      "990/990 [==============================] - 1s 1ms/step - loss: 28.0473 - val_loss: 26.5988\n",
      "Epoch 4/50\n",
      "990/990 [==============================] - 1s 1ms/step - loss: 27.9800 - val_loss: 26.3652\n",
      "Epoch 5/50\n",
      "990/990 [==============================] - 1s 1ms/step - loss: 27.8658 - val_loss: 26.5521\n",
      "Epoch 6/50\n",
      "990/990 [==============================] - 2s 2ms/step - loss: 27.8508 - val_loss: 26.4368\n",
      "Epoch 7/50\n",
      "990/990 [==============================] - 2s 2ms/step - loss: 27.8444 - val_loss: 26.4887\n",
      "Epoch 8/50\n",
      "990/990 [==============================] - 2s 2ms/step - loss: 27.8416 - val_loss: 26.4979\n",
      "Epoch 9/50\n",
      "990/990 [==============================] - 2s 2ms/step - loss: 27.7783 - val_loss: 26.3474\n",
      "Epoch 10/50\n",
      "990/990 [==============================] - 2s 2ms/step - loss: 27.7809 - val_loss: 26.4709\n",
      "Epoch 11/50\n",
      "990/990 [==============================] - 2s 2ms/step - loss: 27.7801 - val_loss: 26.6959\n",
      "Epoch 12/50\n",
      "990/990 [==============================] - 2s 2ms/step - loss: 27.7582 - val_loss: 26.4007\n",
      "Epoch 13/50\n",
      "990/990 [==============================] - 2s 2ms/step - loss: 27.6934 - val_loss: 26.9897\n",
      "Epoch 14/50\n",
      "990/990 [==============================] - 2s 2ms/step - loss: 27.6656 - val_loss: 26.8774\n",
      "Epoch 15/50\n",
      "990/990 [==============================] - 2s 2ms/step - loss: 27.6778 - val_loss: 26.3274\n",
      "Epoch 16/50\n",
      "990/990 [==============================] - 2s 2ms/step - loss: 27.6090 - val_loss: 26.3851\n",
      "Epoch 17/50\n",
      "990/990 [==============================] - 1s 1ms/step - loss: 27.5872 - val_loss: 26.4968\n",
      "Epoch 18/50\n",
      "990/990 [==============================] - 2s 2ms/step - loss: 27.5115 - val_loss: 26.7148\n",
      "Epoch 19/50\n",
      "990/990 [==============================] - 2s 2ms/step - loss: 27.5112 - val_loss: 26.3705\n",
      "Epoch 20/50\n",
      "990/990 [==============================] - 2s 2ms/step - loss: 27.4378 - val_loss: 26.6319\n",
      "Epoch 21/50\n",
      "990/990 [==============================] - 2s 2ms/step - loss: 27.3920 - val_loss: 26.3326\n",
      "Epoch 22/50\n",
      "990/990 [==============================] - 2s 2ms/step - loss: 27.3014 - val_loss: 26.1331\n",
      "Epoch 23/50\n",
      "990/990 [==============================] - 2s 2ms/step - loss: 27.2529 - val_loss: 26.2626\n",
      "Epoch 24/50\n",
      "990/990 [==============================] - 2s 2ms/step - loss: 27.1633 - val_loss: 26.5476\n",
      "Epoch 25/50\n",
      "990/990 [==============================] - 2s 2ms/step - loss: 27.0955 - val_loss: 26.1256\n",
      "Epoch 26/50\n",
      "990/990 [==============================] - 1s 1ms/step - loss: 26.9856 - val_loss: 26.0091\n",
      "Epoch 27/50\n",
      "990/990 [==============================] - 2s 2ms/step - loss: 26.9300 - val_loss: 25.8968\n",
      "Epoch 28/50\n",
      "990/990 [==============================] - 2s 2ms/step - loss: 26.8959 - val_loss: 26.0356\n",
      "Epoch 29/50\n",
      "990/990 [==============================] - 2s 2ms/step - loss: 26.8218 - val_loss: 26.2510\n",
      "Epoch 30/50\n",
      "990/990 [==============================] - 2s 2ms/step - loss: 26.7457 - val_loss: 26.1788\n",
      "Epoch 31/50\n",
      "990/990 [==============================] - 2s 2ms/step - loss: 26.7110 - val_loss: 26.1248\n",
      "Epoch 32/50\n",
      "990/990 [==============================] - 2s 2ms/step - loss: 26.6749 - val_loss: 26.2913\n",
      "Epoch 33/50\n",
      "990/990 [==============================] - 2s 2ms/step - loss: 26.6136 - val_loss: 26.4179\n",
      "Epoch 34/50\n",
      "990/990 [==============================] - 1s 1ms/step - loss: 26.6048 - val_loss: 25.7586\n",
      "Epoch 35/50\n",
      "990/990 [==============================] - 2s 2ms/step - loss: 26.5382 - val_loss: 25.9829\n",
      "Epoch 36/50\n",
      "990/990 [==============================] - 2s 2ms/step - loss: 26.4696 - val_loss: 25.7590\n",
      "Epoch 37/50\n",
      "990/990 [==============================] - 2s 2ms/step - loss: 26.4070 - val_loss: 26.6525\n",
      "Epoch 38/50\n",
      "990/990 [==============================] - 1s 1ms/step - loss: 26.4185 - val_loss: 25.8142\n",
      "Epoch 39/50\n",
      "990/990 [==============================] - 1s 1ms/step - loss: 26.3390 - val_loss: 25.7989\n",
      "Epoch 40/50\n",
      "990/990 [==============================] - 2s 2ms/step - loss: 26.3309 - val_loss: 25.9485\n",
      "Epoch 41/50\n",
      "990/990 [==============================] - 1s 1ms/step - loss: 26.2610 - val_loss: 25.9122\n",
      "Epoch 42/50\n",
      "990/990 [==============================] - 1s 1ms/step - loss: 26.1773 - val_loss: 25.6505\n",
      "Epoch 43/50\n",
      "990/990 [==============================] - 2s 2ms/step - loss: 26.1741 - val_loss: 25.7606\n",
      "Epoch 44/50\n",
      "990/990 [==============================] - 1s 1ms/step - loss: 26.1326 - val_loss: 25.8677\n",
      "Epoch 45/50\n",
      "990/990 [==============================] - 1s 1ms/step - loss: 26.0929 - val_loss: 25.8778\n",
      "Epoch 46/50\n",
      "990/990 [==============================] - 2s 2ms/step - loss: 26.0505 - val_loss: 25.7226\n",
      "Epoch 47/50\n",
      "990/990 [==============================] - 1s 1ms/step - loss: 26.0317 - val_loss: 26.2389\n",
      "Epoch 48/50\n",
      "990/990 [==============================] - 1s 1ms/step - loss: 26.0110 - val_loss: 25.8770\n",
      "Epoch 49/50\n",
      "990/990 [==============================] - 1s 1ms/step - loss: 26.0065 - val_loss: 25.6587\n",
      "Epoch 50/50\n",
      "990/990 [==============================] - 1s 1ms/step - loss: 26.0110 - val_loss: 26.5187\n"
     ]
    }
   ],
   "source": [
    "model_enc, history_enc = train_model(X_train_enc, y_train, X_valid_enc, y_valid, 50)"
   ]
  },
  {
   "cell_type": "markdown",
   "metadata": {},
   "source": [
    "#### Compare Performances"
   ]
  },
  {
   "cell_type": "code",
   "execution_count": 1054,
   "metadata": {},
   "outputs": [
    {
     "data": {
      "text/plain": [
       "<matplotlib.legend.Legend at 0x199651d30>"
      ]
     },
     "execution_count": 1054,
     "metadata": {},
     "output_type": "execute_result"
    },
    {
     "data": {
      "image/png": "[encoded data removed]",
      "text/plain": [
       "<matplotlib.figure.Figure at 0x1992937b8>"
      ]
     },
     "metadata": {},
     "output_type": "display_data"
    }
   ],
   "source": [
    "plt.plot(history.history[\"val_loss\"], c=\"b\", label=\"original features\")\n",
    "plt.plot(history_enc.history[\"val_loss\"], c=\"r\", label=\"transformed features\")\n",
    "plt.legend(fontsize=12)"
   ]
  },
  {
   "cell_type": "code",
   "execution_count": 1055,
   "metadata": {
    "collapsed": true
   },
   "outputs": [],
   "source": [
    "X_test = get_unencoded_features(test_set)\n",
    "X_test_enc = get_encoded_features(test_set)\n",
    "y_test = test_set.temperature"
   ]
  },
  {
   "cell_type": "code",
   "execution_count": 1056,
   "metadata": {
    "collapsed": true
   },
   "outputs": [],
   "source": [
    "from sklearn.metrics import mean_squared_error as MSE"
   ]
  },
  {
   "cell_type": "code",
   "execution_count": 1057,
   "metadata": {
    "collapsed": true
   },
   "outputs": [],
   "source": [
    "mse = MSE(y_test, model.predict(X_test))\n",
    "mse_enc = MSE(y_test, model_enc.predict(X_test_enc))"
   ]
  },
  {
   "cell_type": "code",
   "execution_count": 1058,
   "metadata": {},
   "outputs": [
    {
     "name": "stdout",
     "output_type": "stream",
     "text": [
      "Test MSE without 19.979170401943364, with 21.13412520153671\n"
     ]
    }
   ],
   "source": [
    "print(\"Test MSE without {}, with {}\".format(mse, mse_enc))"
   ]
  },
  {
   "cell_type": "markdown",
   "metadata": {},
   "source": [
    "Surprisingly the model trained with the unencoded time values performs better. TODO: more detailed evaluation."
   ]
  },
  {
   "cell_type": "markdown",
   "metadata": {},
   "source": [
    "### LSTM"
   ]
  },
  {
   "cell_type": "code",
   "execution_count": 177,
   "metadata": {
    "collapsed": true
   },
   "outputs": [],
   "source": [
    "from tensorflow import keras"
   ]
  },
  {
   "cell_type": "code",
   "execution_count": 1160,
   "metadata": {
    "collapsed": true
   },
   "outputs": [],
   "source": [
    "def get_montreal_data_encoded():\n",
    "    data_montreal_enc = data_montreal.copy(deep=True)\n",
    "    data_montreal_enc['hour'] = data_montreal_enc.datetime.dt.hour\n",
    "    data_montreal_enc = encode(data_montreal_enc, \"hour\", 23)\n",
    "    data_montreal_enc[\"month\"] = data_montreal_enc.datetime.dt.month\n",
    "    data_montreal_enc = encode(data_montreal_enc, \"month\", 12)\n",
    "    data_montreal_enc[\"day\"] = data_montreal_enc.datetime.dt.day\n",
    "    data_montreal_enc = encode(data_montreal_enc, \"day\", 365)\n",
    "    return data_montreal_enc"
   ]
  },
  {
   "cell_type": "code",
   "execution_count": 1063,
   "metadata": {},
   "outputs": [],
   "source": [
    "# We will do some more sophisticated train/test splitting\n",
    "\n",
    "data_montreal_enc = get_montreal_data_encoded()\n",
    "\n",
    "df = get_encoded_features(data_montreal_enc)"
   ]
  },
  {
   "cell_type": "code",
   "execution_count": 1064,
   "metadata": {},
   "outputs": [
    {
     "data": {
      "text/html": [
       "<div>\n",
       "<style scoped>\n",
       "    .dataframe tbody tr th:only-of-type {\n",
       "        vertical-align: middle;\n",
       "    }\n",
       "\n",
       "    .dataframe tbody tr th {\n",
       "        vertical-align: top;\n",
       "    }\n",
       "\n",
       "    .dataframe thead th {\n",
       "        text-align: right;\n",
       "    }\n",
       "</style>\n",
       "<table border=\"1\" class=\"dataframe\">\n",
       "  <thead>\n",
       "    <tr style=\"text-align: right;\">\n",
       "      <th></th>\n",
       "      <th>month_sin</th>\n",
       "      <th>month_cos</th>\n",
       "      <th>day_sin</th>\n",
       "      <th>day_cos</th>\n",
       "      <th>hour_sin</th>\n",
       "      <th>hour_cos</th>\n",
       "    </tr>\n",
       "  </thead>\n",
       "  <tbody>\n",
       "    <tr>\n",
       "      <th>0</th>\n",
       "      <td>-0.866025</td>\n",
       "      <td>0.5</td>\n",
       "      <td>0.017213</td>\n",
       "      <td>0.999852</td>\n",
       "      <td>-0.136167</td>\n",
       "      <td>-0.990686</td>\n",
       "    </tr>\n",
       "    <tr>\n",
       "      <th>1</th>\n",
       "      <td>-0.866025</td>\n",
       "      <td>0.5</td>\n",
       "      <td>0.017213</td>\n",
       "      <td>0.999852</td>\n",
       "      <td>-0.398401</td>\n",
       "      <td>-0.917211</td>\n",
       "    </tr>\n",
       "    <tr>\n",
       "      <th>2</th>\n",
       "      <td>-0.866025</td>\n",
       "      <td>0.5</td>\n",
       "      <td>0.017213</td>\n",
       "      <td>0.999852</td>\n",
       "      <td>-0.631088</td>\n",
       "      <td>-0.775711</td>\n",
       "    </tr>\n",
       "    <tr>\n",
       "      <th>3</th>\n",
       "      <td>-0.866025</td>\n",
       "      <td>0.5</td>\n",
       "      <td>0.017213</td>\n",
       "      <td>0.999852</td>\n",
       "      <td>-0.816970</td>\n",
       "      <td>-0.576680</td>\n",
       "    </tr>\n",
       "    <tr>\n",
       "      <th>4</th>\n",
       "      <td>-0.866025</td>\n",
       "      <td>0.5</td>\n",
       "      <td>0.017213</td>\n",
       "      <td>0.999852</td>\n",
       "      <td>-0.942261</td>\n",
       "      <td>-0.334880</td>\n",
       "    </tr>\n",
       "  </tbody>\n",
       "</table>\n",
       "</div>"
      ],
      "text/plain": [
       "   month_sin  month_cos   day_sin   day_cos  hour_sin  hour_cos\n",
       "0  -0.866025        0.5  0.017213  0.999852 -0.136167 -0.990686\n",
       "1  -0.866025        0.5  0.017213  0.999852 -0.398401 -0.917211\n",
       "2  -0.866025        0.5  0.017213  0.999852 -0.631088 -0.775711\n",
       "3  -0.866025        0.5  0.017213  0.999852 -0.816970 -0.576680\n",
       "4  -0.866025        0.5  0.017213  0.999852 -0.942261 -0.334880"
      ]
     },
     "execution_count": 1064,
     "metadata": {},
     "output_type": "execute_result"
    }
   ],
   "source": [
    "df.head()"
   ]
  },
  {
   "cell_type": "code",
   "execution_count": 1065,
   "metadata": {
    "collapsed": true
   },
   "outputs": [],
   "source": [
    "df = pd.concat([df, data_montreal.temperature], axis=1)"
   ]
  },
  {
   "cell_type": "code",
   "execution_count": 1066,
   "metadata": {},
   "outputs": [],
   "source": [
    "df.columns = list(range(7))"
   ]
  },
  {
   "cell_type": "code",
   "execution_count": 1067,
   "metadata": {},
   "outputs": [
    {
     "data": {
      "text/html": [
       "<div>\n",
       "<style scoped>\n",
       "    .dataframe tbody tr th:only-of-type {\n",
       "        vertical-align: middle;\n",
       "    }\n",
       "\n",
       "    .dataframe tbody tr th {\n",
       "        vertical-align: top;\n",
       "    }\n",
       "\n",
       "    .dataframe thead th {\n",
       "        text-align: right;\n",
       "    }\n",
       "</style>\n",
       "<table border=\"1\" class=\"dataframe\">\n",
       "  <thead>\n",
       "    <tr style=\"text-align: right;\">\n",
       "      <th></th>\n",
       "      <th>0</th>\n",
       "      <th>1</th>\n",
       "      <th>2</th>\n",
       "      <th>3</th>\n",
       "      <th>4</th>\n",
       "      <th>5</th>\n",
       "      <th>6</th>\n",
       "    </tr>\n",
       "  </thead>\n",
       "  <tbody>\n",
       "    <tr>\n",
       "      <th>0</th>\n",
       "      <td>-0.866025</td>\n",
       "      <td>0.5</td>\n",
       "      <td>0.017213</td>\n",
       "      <td>0.999852</td>\n",
       "      <td>-0.136167</td>\n",
       "      <td>-0.990686</td>\n",
       "      <td>7.193010</td>\n",
       "    </tr>\n",
       "    <tr>\n",
       "      <th>1</th>\n",
       "      <td>-0.866025</td>\n",
       "      <td>0.5</td>\n",
       "      <td>0.017213</td>\n",
       "      <td>0.999852</td>\n",
       "      <td>-0.398401</td>\n",
       "      <td>-0.917211</td>\n",
       "      <td>12.680000</td>\n",
       "    </tr>\n",
       "    <tr>\n",
       "      <th>2</th>\n",
       "      <td>-0.866025</td>\n",
       "      <td>0.5</td>\n",
       "      <td>0.017213</td>\n",
       "      <td>0.999852</td>\n",
       "      <td>-0.631088</td>\n",
       "      <td>-0.775711</td>\n",
       "      <td>12.684650</td>\n",
       "    </tr>\n",
       "    <tr>\n",
       "      <th>3</th>\n",
       "      <td>-0.866025</td>\n",
       "      <td>0.5</td>\n",
       "      <td>0.017213</td>\n",
       "      <td>0.999852</td>\n",
       "      <td>-0.816970</td>\n",
       "      <td>-0.576680</td>\n",
       "      <td>12.697790</td>\n",
       "    </tr>\n",
       "    <tr>\n",
       "      <th>4</th>\n",
       "      <td>-0.866025</td>\n",
       "      <td>0.5</td>\n",
       "      <td>0.017213</td>\n",
       "      <td>0.999852</td>\n",
       "      <td>-0.942261</td>\n",
       "      <td>-0.334880</td>\n",
       "      <td>12.710929</td>\n",
       "    </tr>\n",
       "  </tbody>\n",
       "</table>\n",
       "</div>"
      ],
      "text/plain": [
       "          0    1         2         3         4         5          6\n",
       "0 -0.866025  0.5  0.017213  0.999852 -0.136167 -0.990686   7.193010\n",
       "1 -0.866025  0.5  0.017213  0.999852 -0.398401 -0.917211  12.680000\n",
       "2 -0.866025  0.5  0.017213  0.999852 -0.631088 -0.775711  12.684650\n",
       "3 -0.866025  0.5  0.017213  0.999852 -0.816970 -0.576680  12.697790\n",
       "4 -0.866025  0.5  0.017213  0.999852 -0.942261 -0.334880  12.710929"
      ]
     },
     "execution_count": 1067,
     "metadata": {},
     "output_type": "execute_result"
    }
   ],
   "source": [
    "df.head()"
   ]
  },
  {
   "cell_type": "markdown",
   "metadata": {},
   "source": [
    "#### Idea: using the temperature data from the last 72 hours, predict what the temperature will be in 24 hours. "
   ]
  },
  {
   "cell_type": "code",
   "execution_count": 1105,
   "metadata": {},
   "outputs": [],
   "source": [
    "split_fraction = 0.7\n",
    "train_split = int(split_fraction * int(df.shape[0]))\n",
    "step = 1\n",
    "\n",
    "past = 72\n",
    "future = 24\n",
    "learning_rate = 0.002\n",
    "batch_size = 125\n",
    "epochs = 15"
   ]
  },
  {
   "cell_type": "code",
   "execution_count": 1106,
   "metadata": {
    "collapsed": true
   },
   "outputs": [],
   "source": [
    "train_data = df.loc[0 : train_split - 1]\n",
    "val_data = df.loc[train_split:]"
   ]
  },
  {
   "cell_type": "code",
   "execution_count": 1107,
   "metadata": {},
   "outputs": [
    {
     "data": {
      "text/plain": [
       "((31677, 7), (13576, 7))"
      ]
     },
     "execution_count": 1107,
     "metadata": {},
     "output_type": "execute_result"
    }
   ],
   "source": [
    "train_data.shape, val_data.shape"
   ]
  },
  {
   "cell_type": "code",
   "execution_count": 1108,
   "metadata": {},
   "outputs": [],
   "source": [
    "# prep train data\n",
    "start = past + future # labels start at 96\n",
    "end = start + train_split # end at 31773\n",
    "\n",
    "x_train = train_data[[i for i in range(7)]].values \n",
    "y_train = df.iloc[start:end][[6]] # temperature values"
   ]
  },
  {
   "cell_type": "code",
   "execution_count": 1109,
   "metadata": {},
   "outputs": [
    {
     "data": {
      "text/plain": [
       "((31677, 7), (31677, 1))"
      ]
     },
     "execution_count": 1109,
     "metadata": {},
     "output_type": "execute_result"
    }
   ],
   "source": [
    "x_train.shape, y_train.shape"
   ]
  },
  {
   "cell_type": "code",
   "execution_count": 1110,
   "metadata": {
    "collapsed": true
   },
   "outputs": [],
   "source": [
    "# prer validation data\n",
    "x_end = len(val_data) - past - future\n",
    "label_start = train_split + past + future\n",
    "\n",
    "x_val = val_data.iloc[:x_end][[i for i in range(7)]].values\n",
    "y_val = df.iloc[label_start:][[6]]"
   ]
  },
  {
   "cell_type": "code",
   "execution_count": 1111,
   "metadata": {},
   "outputs": [
    {
     "data": {
      "text/plain": [
       "(13480, 7)"
      ]
     },
     "execution_count": 1111,
     "metadata": {},
     "output_type": "execute_result"
    }
   ],
   "source": [
    "x_val.shape"
   ]
  },
  {
   "cell_type": "code",
   "execution_count": 1112,
   "metadata": {},
   "outputs": [
    {
     "data": {
      "text/plain": [
       "72"
      ]
     },
     "execution_count": 1112,
     "metadata": {},
     "output_type": "execute_result"
    }
   ],
   "source": [
    "sequence_length = int(past / step)\n",
    "sequence_length"
   ]
  },
  {
   "cell_type": "code",
   "execution_count": 1113,
   "metadata": {},
   "outputs": [],
   "source": [
    "dataset_train = keras.preprocessing.timeseries_dataset_from_array(\n",
    "    x_train,\n",
    "    y_train,\n",
    "    sequence_length=sequence_length, # how many steps will you use to make the prediction\n",
    "    sampling_rate=step, # if you want to pick only every 2nd or 6th element from the data\n",
    "    batch_size=batch_size\n",
    ")"
   ]
  },
  {
   "cell_type": "code",
   "execution_count": 1114,
   "metadata": {},
   "outputs": [
    {
     "name": "stdout",
     "output_type": "stream",
     "text": [
      "Input shape: (125, 72, 7)\n",
      "Target shape: (125, 1)\n"
     ]
    }
   ],
   "source": [
    "dataset_val = keras.preprocessing.timeseries_dataset_from_array(\n",
    "    x_val,\n",
    "    y_val,\n",
    "    sequence_length=sequence_length,\n",
    "    sampling_rate=step,\n",
    "    batch_size=batch_size,\n",
    ")\n",
    "\n",
    "\n",
    "for batch in dataset_train.take(1):\n",
    "    inputs, targets = batch\n",
    "\n",
    "print(\"Input shape:\", inputs.numpy().shape)\n",
    "print(\"Target shape:\", targets.numpy().shape)"
   ]
  },
  {
   "cell_type": "code",
   "execution_count": 1115,
   "metadata": {},
   "outputs": [
    {
     "name": "stdout",
     "output_type": "stream",
     "text": [
      "Model: \"functional_23\"\n",
      "_________________________________________________________________\n",
      "Layer (type)                 Output Shape              Param #   \n",
      "=================================================================\n",
      "input_13 (InputLayer)        [(None, 72, 7)]           0         \n",
      "_________________________________________________________________\n",
      "lstm_17 (LSTM)               (None, 32)                5120      \n",
      "_________________________________________________________________\n",
      "dense_24 (Dense)             (None, 1)                 33        \n",
      "=================================================================\n",
      "Total params: 5,153\n",
      "Trainable params: 5,153\n",
      "Non-trainable params: 0\n",
      "_________________________________________________________________\n"
     ]
    }
   ],
   "source": [
    "inputs = keras.layers.Input(shape=(inputs.shape[1], inputs.shape[2]))\n",
    "lstm_out = keras.layers.LSTM(32)(inputs)\n",
    "outputs = keras.layers.Dense(1)(lstm_out)\n",
    "\n",
    "model = keras.Model(inputs=inputs, outputs=outputs)\n",
    "model.compile(optimizer=keras.optimizers.Adam(learning_rate=learning_rate), loss=\"mse\")\n",
    "model.summary()"
   ]
  },
  {
   "cell_type": "code",
   "execution_count": 1116,
   "metadata": {},
   "outputs": [
    {
     "name": "stdout",
     "output_type": "stream",
     "text": [
      "Epoch 1/15\n",
      "253/253 [==============================] - 16s 62ms/step - loss: 97.8040 - val_loss: 56.7885\n",
      "Epoch 2/15\n",
      "253/253 [==============================] - 15s 61ms/step - loss: 38.1401 - val_loss: 33.1308\n",
      "Epoch 3/15\n",
      "253/253 [==============================] - 15s 61ms/step - loss: 27.4221 - val_loss: 23.8723\n",
      "Epoch 4/15\n",
      "253/253 [==============================] - 15s 60ms/step - loss: 25.1352 - val_loss: 23.7524\n",
      "Epoch 5/15\n",
      "253/253 [==============================] - 15s 61ms/step - loss: 23.4993 - val_loss: 18.7850\n",
      "Epoch 6/15\n",
      "253/253 [==============================] - 15s 61ms/step - loss: 22.5073 - val_loss: 18.3788\n",
      "Epoch 7/15\n",
      "253/253 [==============================] - 15s 60ms/step - loss: 21.9539 - val_loss: 17.8656\n",
      "Epoch 8/15\n",
      "253/253 [==============================] - 15s 61ms/step - loss: 21.6990 - val_loss: 17.6033\n",
      "Epoch 9/15\n",
      "253/253 [==============================] - 15s 60ms/step - loss: 21.3135 - val_loss: 17.3482\n",
      "Epoch 10/15\n",
      "253/253 [==============================] - 15s 60ms/step - loss: 21.2193 - val_loss: 16.8295\n",
      "Epoch 11/15\n",
      "253/253 [==============================] - 15s 61ms/step - loss: 21.1493 - val_loss: 18.8714\n",
      "Epoch 12/15\n",
      "253/253 [==============================] - 15s 59ms/step - loss: 20.9549 - val_loss: 18.3913\n",
      "Epoch 13/15\n",
      "253/253 [==============================] - 15s 59ms/step - loss: 20.6491 - val_loss: 17.2735\n",
      "Epoch 14/15\n",
      "253/253 [==============================] - 15s 60ms/step - loss: 20.6458 - val_loss: 17.1848\n",
      "Epoch 15/15\n",
      "253/253 [==============================] - 16s 62ms/step - loss: 20.4709 - val_loss: 18.1297\n"
     ]
    }
   ],
   "source": [
    "history = model.fit(\n",
    "    dataset_train,\n",
    "    epochs=epochs,\n",
    "    validation_data=dataset_val\n",
    ")"
   ]
  },
  {
   "cell_type": "code",
   "execution_count": 1117,
   "metadata": {},
   "outputs": [
    {
     "data": {
      "image/png": "[encoded data removed]",
      "text/plain": [
       "<matplotlib.figure.Figure at 0x144fa1358>"
      ]
     },
     "metadata": {},
     "output_type": "display_data"
    }
   ],
   "source": [
    "def visualize_loss(history, title):\n",
    "    loss = history.history[\"loss\"]\n",
    "    val_loss = history.history[\"val_loss\"]\n",
    "    epochs = range(len(loss))\n",
    "    plt.figure()\n",
    "    plt.plot(epochs, loss, \"b\", label=\"Training loss\")\n",
    "    plt.plot(epochs, val_loss, \"r\", label=\"Validation loss\")\n",
    "    plt.title(title)\n",
    "    plt.xlabel(\"Epochs\")\n",
    "    plt.ylabel(\"Loss\")\n",
    "    plt.legend()\n",
    "    plt.show()\n",
    "\n",
    "visualize_loss(history, \"Training and Validation Loss\")"
   ]
  },
  {
   "cell_type": "code",
   "execution_count": 1118,
   "metadata": {},
   "outputs": [
    {
     "data": {
      "image/png": "[encoded data removed]",
      "text/plain": [
       "<matplotlib.figure.Figure at 0x1477711d0>"
      ]
     },
     "metadata": {},
     "output_type": "display_data"
    },
    {
     "data": {
      "image/png": "[encoded data removed]",
      "text/plain": [
       "<matplotlib.figure.Figure at 0x19c3e16d8>"
      ]
     },
     "metadata": {},
     "output_type": "display_data"
    },
    {
     "data": {
      "image/png": "[encoded data removed]",
      "text/plain": [
       "<matplotlib.figure.Figure at 0x1468ea828>"
      ]
     },
     "metadata": {},
     "output_type": "display_data"
    },
    {
     "data": {
      "image/png": "[encoded data removed]",
      "text/plain": [
       "<matplotlib.figure.Figure at 0x19f84df28>"
      ]
     },
     "metadata": {},
     "output_type": "display_data"
    },
    {
     "data": {
      "image/png": "[encoded data removed]",
      "text/plain": [
       "<matplotlib.figure.Figure at 0x14893e0f0>"
      ]
     },
     "metadata": {},
     "output_type": "display_data"
    }
   ],
   "source": [
    "def show_plot(plot_data, delta, title):\n",
    "    labels = [\"History\", \"True Future\", \"Model Prediction\"]\n",
    "    marker = [\".-\", \"r^\", \"go\"]\n",
    "    time_steps = list(range(-(plot_data[0].shape[0]), 0))\n",
    "    if delta:\n",
    "        future = delta\n",
    "    else:\n",
    "        future = 0\n",
    "\n",
    "    plt.title(title)\n",
    "    for i, val in enumerate(plot_data):\n",
    "        if i:\n",
    "            plt.plot(future, plot_data[i], marker[i], markersize=10, label=labels[i])\n",
    "        else:\n",
    "            plt.plot(time_steps, plot_data[i].flatten(), marker[i], label=labels[i])\n",
    "    plt.legend()\n",
    "    plt.xlim([time_steps[0], (future + 5) * 2])\n",
    "    plt.xlabel(\"Time-Step\")\n",
    "    plt.show()\n",
    "    return\n",
    "\n",
    "# TODO TEST SET !\n",
    "for x, y in dataset_val.take(5):\n",
    "    show_plot(\n",
    "        [x[0][:, 6].numpy(), y[0].numpy(), model.predict(x)[0]],\n",
    "        12,\n",
    "        \"Single Step Prediction\",\n",
    "    )"
   ]
  },
  {
   "cell_type": "markdown",
   "metadata": {},
   "source": [
    "### Multi-steps ahead"
   ]
  },
  {
   "cell_type": "markdown",
   "metadata": {},
   "source": [
    "Below we experiment with predicting multiple steps in the future. In the previous example every train sequence of 72 hours was associated with a single target point 24h ahead. Here every train sequence is associated with a target sequence representing the next 24 hours."
   ]
  },
  {
   "cell_type": "code",
   "execution_count": 1095,
   "metadata": {},
   "outputs": [
    {
     "name": "stdout",
     "output_type": "stream",
     "text": [
      "Input shape: (125, 72, 7)\n",
      "Target shape: (125, 24)\n"
     ]
    }
   ],
   "source": [
    "y_train_multi = []\n",
    "\n",
    "target_size = 24\n",
    "start_index = 96 # where labels will start\n",
    "end_index = len(y_train) - target_size\n",
    "\n",
    "for i in range(0, end_index):\n",
    "    y_train_multi.append(y_train[i:i+target_size].values)\n",
    "\n",
    "y_train_multi = np.array(y_train_multi).squeeze() # target is a list of labels\n",
    "\n",
    "x_train_multi = x_train[:len(x_train)-target_size] # train data up to the last starting point of the targets\n",
    "\n",
    "dataset_train_multistep = keras.preprocessing.timeseries_dataset_from_array(\n",
    "    x_train_multi,\n",
    "    y_train_multi,\n",
    "    sequence_length=72,\n",
    "    sampling_rate=step,\n",
    "    batch_size=batch_size,\n",
    ")\n",
    "for batch in dataset_train_multistep.take(1):\n",
    "    inputs, targets = batch\n",
    "\n",
    "print(\"Input shape:\", inputs.numpy().shape)\n",
    "print(\"Target shape:\", targets.numpy().shape)"
   ]
  },
  {
   "cell_type": "code",
   "execution_count": 1096,
   "metadata": {},
   "outputs": [],
   "source": [
    "y_val_multi = []\n",
    "\n",
    "target_size = 24\n",
    "start_index = 96\n",
    "end_index = len(y_val) - target_size\n",
    "\n",
    "for i in range(0, end_index):\n",
    "\n",
    "    y_val_multi.append(y_val[i:i+target_size].values)\n",
    "\n",
    "y_val_multi = np.array(y_val_multi).squeeze()\n",
    "x_val_multi = x_val[:len(x_val)-target_size]\n",
    "y_val_multi.shape, x_val_multi.shape\n",
    "\n",
    "dataset_val_multistep = tf.keras.preprocessing.timeseries_dataset_from_array(\n",
    "    x_val_multi,\n",
    "    y_val_multi,\n",
    "    sequence_length=sequence_length,\n",
    "    sampling_rate=step,\n",
    "    batch_size=batch_size,\n",
    ")"
   ]
  },
  {
   "cell_type": "code",
   "execution_count": 1097,
   "metadata": {
    "collapsed": true
   },
   "outputs": [],
   "source": [
    "lstm_model_multi = tf.keras.models.Sequential([\n",
    "    # Shape [batch, time, features] => [batch, time, lstm_units]\n",
    "    tf.keras.layers.LSTM(32, return_sequences=False),\n",
    "    # Shape => [batch, time, features]\n",
    "    tf.keras.layers.Dense(units=target_size)\n",
    "])"
   ]
  },
  {
   "cell_type": "code",
   "execution_count": 1098,
   "metadata": {},
   "outputs": [
    {
     "name": "stdout",
     "output_type": "stream",
     "text": [
      "Epoch 1/25\n",
      "WARNING:tensorflow:Layer lstm_16 is casting an input tensor from dtype float64 to the layer's dtype of float32, which is new behavior in TensorFlow 2.  The layer has dtype float32 because its dtype defaults to floatx.\n",
      "\n",
      "If you intended to run this layer in float32, you can safely ignore this warning. If in doubt, this warning is likely only an issue if you are porting a TensorFlow 1.X model to TensorFlow 2.\n",
      "\n",
      "To change all layers to have dtype float64 by default, call `tf.keras.backend.set_floatx('float64')`. To change just this layer, pass dtype='float64' to the layer constructor. If you are the author of this layer, you can disable autocasting by passing autocast=False to the base Layer constructor.\n",
      "\n",
      "253/253 [==============================] - 16s 63ms/step - loss: 138.6471 - mean_absolute_error: 9.6202 - val_loss: 108.2751 - val_mean_absolute_error: 8.6208\n",
      "Epoch 2/25\n",
      "253/253 [==============================] - 16s 63ms/step - loss: 77.7088 - mean_absolute_error: 7.1816 - val_loss: 59.7786 - val_mean_absolute_error: 6.3444\n",
      "Epoch 3/25\n",
      "253/253 [==============================] - 15s 61ms/step - loss: 53.3244 - mean_absolute_error: 5.9271 - val_loss: 40.2064 - val_mean_absolute_error: 5.1541\n",
      "Epoch 4/25\n",
      "253/253 [==============================] - 16s 63ms/step - loss: 42.4421 - mean_absolute_error: 5.2448 - val_loss: 32.6431 - val_mean_absolute_error: 4.5840\n",
      "Epoch 5/25\n",
      "253/253 [==============================] - 16s 62ms/step - loss: 37.0433 - mean_absolute_error: 4.8603 - val_loss: 32.3075 - val_mean_absolute_error: 4.5338\n",
      "Epoch 6/25\n",
      "253/253 [==============================] - 16s 63ms/step - loss: 35.9695 - mean_absolute_error: 4.7768 - val_loss: 30.8301 - val_mean_absolute_error: 4.4213\n",
      "Epoch 7/25\n",
      "253/253 [==============================] - 16s 62ms/step - loss: 33.6264 - mean_absolute_error: 4.6072 - val_loss: 27.5554 - val_mean_absolute_error: 4.1335\n",
      "Epoch 8/25\n",
      "253/253 [==============================] - 16s 62ms/step - loss: 32.8123 - mean_absolute_error: 4.5486 - val_loss: 29.1632 - val_mean_absolute_error: 4.2987\n",
      "Epoch 9/25\n",
      "253/253 [==============================] - 16s 62ms/step - loss: 33.0748 - mean_absolute_error: 4.5895 - val_loss: 26.5684 - val_mean_absolute_error: 4.0653\n",
      "Epoch 10/25\n",
      "253/253 [==============================] - 16s 62ms/step - loss: 31.9553 - mean_absolute_error: 4.4990 - val_loss: 26.0478 - val_mean_absolute_error: 4.0483\n",
      "Epoch 11/25\n",
      "253/253 [==============================] - 16s 64ms/step - loss: 31.2198 - mean_absolute_error: 4.4348 - val_loss: 30.6181 - val_mean_absolute_error: 4.3798\n",
      "Epoch 12/25\n",
      "253/253 [==============================] - 16s 63ms/step - loss: 31.0749 - mean_absolute_error: 4.4233 - val_loss: 25.8020 - val_mean_absolute_error: 4.0259\n",
      "Epoch 13/25\n",
      "253/253 [==============================] - 16s 62ms/step - loss: 30.8406 - mean_absolute_error: 4.3990 - val_loss: 38.2691 - val_mean_absolute_error: 4.9982\n",
      "Epoch 14/25\n",
      "253/253 [==============================] - 16s 62ms/step - loss: 31.1507 - mean_absolute_error: 4.4397 - val_loss: 25.8535 - val_mean_absolute_error: 4.0224\n",
      "Epoch 15/25\n",
      "253/253 [==============================] - 15s 61ms/step - loss: 29.9735 - mean_absolute_error: 4.3322 - val_loss: 24.9730 - val_mean_absolute_error: 3.9429\n",
      "Epoch 16/25\n",
      "253/253 [==============================] - 15s 61ms/step - loss: 29.3123 - mean_absolute_error: 4.2744 - val_loss: 24.4777 - val_mean_absolute_error: 3.8966\n",
      "Epoch 17/25\n",
      "253/253 [==============================] - 16s 62ms/step - loss: 28.7908 - mean_absolute_error: 4.2267 - val_loss: 24.0978 - val_mean_absolute_error: 3.8749\n",
      "Epoch 18/25\n",
      "253/253 [==============================] - 16s 61ms/step - loss: 28.1519 - mean_absolute_error: 4.1718 - val_loss: 23.6520 - val_mean_absolute_error: 3.8145\n",
      "Epoch 19/25\n",
      "253/253 [==============================] - 16s 62ms/step - loss: 27.7485 - mean_absolute_error: 4.1388 - val_loss: 23.2147 - val_mean_absolute_error: 3.7518\n",
      "Epoch 20/25\n",
      "253/253 [==============================] - 15s 60ms/step - loss: 27.1634 - mean_absolute_error: 4.0816 - val_loss: 24.3700 - val_mean_absolute_error: 3.8695\n",
      "Epoch 21/25\n",
      "253/253 [==============================] - 15s 61ms/step - loss: 27.1995 - mean_absolute_error: 4.0801 - val_loss: 22.4062 - val_mean_absolute_error: 3.6979\n",
      "Epoch 22/25\n",
      "253/253 [==============================] - 15s 61ms/step - loss: 26.5284 - mean_absolute_error: 4.0244 - val_loss: 21.9002 - val_mean_absolute_error: 3.6447\n",
      "Epoch 23/25\n",
      "253/253 [==============================] - 16s 62ms/step - loss: 26.3025 - mean_absolute_error: 4.0067 - val_loss: 21.6289 - val_mean_absolute_error: 3.6064\n",
      "Epoch 24/25\n",
      "253/253 [==============================] - 16s 63ms/step - loss: 26.0107 - mean_absolute_error: 3.9707 - val_loss: 21.4936 - val_mean_absolute_error: 3.5854\n",
      "Epoch 25/25\n",
      "253/253 [==============================] - 16s 62ms/step - loss: 25.8752 - mean_absolute_error: 3.9616 - val_loss: 21.1007 - val_mean_absolute_error: 3.5635\n"
     ]
    }
   ],
   "source": [
    "lstm_model_multi.compile(loss=tf.losses.MeanSquaredError(),\n",
    "                optimizer=tf.optimizers.Adam(),\n",
    "                metrics=[tf.metrics.MeanAbsoluteError()])\n",
    "\n",
    "history = lstm_model_multi.fit(dataset_train_multistep, epochs=25,\n",
    "                      validation_data=dataset_val_multistep)"
   ]
  },
  {
   "cell_type": "code",
   "execution_count": 1104,
   "metadata": {},
   "outputs": [
    {
     "name": "stdout",
     "output_type": "stream",
     "text": [
      "\n"
     ]
    },
    {
     "data": {
      "image/png": "[encoded data removed]",
      "text/plain": [
       "<matplotlib.figure.Figure at 0x199047320>"
      ]
     },
     "metadata": {},
     "output_type": "display_data"
    },
    {
     "name": "stdout",
     "output_type": "stream",
     "text": [
      "\n"
     ]
    },
    {
     "data": {
      "image/png": "[encoded data removed]",
      "text/plain": [
       "<matplotlib.figure.Figure at 0x19f508ac8>"
      ]
     },
     "metadata": {},
     "output_type": "display_data"
    },
    {
     "name": "stdout",
     "output_type": "stream",
     "text": [
      "\n"
     ]
    },
    {
     "data": {
      "image/png": "[encoded data removed]",
      "text/plain": [
       "<matplotlib.figure.Figure at 0x19f775b00>"
      ]
     },
     "metadata": {},
     "output_type": "display_data"
    },
    {
     "name": "stdout",
     "output_type": "stream",
     "text": [
      "\n"
     ]
    },
    {
     "data": {
      "image/png": "[encoded data removed]",
      "text/plain": [
       "<matplotlib.figure.Figure at 0x19f84dcf8>"
      ]
     },
     "metadata": {},
     "output_type": "display_data"
    },
    {
     "name": "stdout",
     "output_type": "stream",
     "text": [
      "\n"
     ]
    },
    {
     "data": {
      "image/png": "[encoded data removed]",
      "text/plain": [
       "<matplotlib.figure.Figure at 0x19f88fcf8>"
      ]
     },
     "metadata": {},
     "output_type": "display_data"
    }
   ],
   "source": [
    "for x, y in dataset_val_multistep.take(5):\n",
    "    print()\n",
    "    data = x[0][:, 6].numpy()\n",
    "    #print(\"target\" , y[0].numpy())\n",
    "    #print(\"pred \",lstm_model_multi.predict(x)[0])\n",
    "    time_steps = list(range(-(data.shape[0]), 0))\n",
    "    future = list(range(0,target_size))\n",
    "    plt.plot(time_steps, x[0][:, 6].numpy())\n",
    "    plt.plot(future, y[0].numpy(), 'o', label=\"target\")\n",
    "    plt.plot(future, lstm_model_multi.predict(x)[0], 'o', label=\"prediction\")\n",
    "    plt.legend(fontsize=12)\n",
    "    plt.show()"
   ]
  },
  {
   "cell_type": "markdown",
   "metadata": {},
   "source": [
    "## Decision Tree and Random Forest Regression \n",
    "- including parameter fine tuning\n",
    "- Note: if you have large hyperparameters space, use Randomised Search."
   ]
  },
  {
   "cell_type": "code",
   "execution_count": 1122,
   "metadata": {
    "collapsed": true
   },
   "outputs": [],
   "source": [
    "from sklearn.tree import DecisionTreeRegressor\n",
    "from sklearn.ensemble import RandomForestRegressor\n",
    "from sklearn.model_selection import GridSearchCV"
   ]
  },
  {
   "cell_type": "code",
   "execution_count": 1123,
   "metadata": {},
   "outputs": [
    {
     "data": {
      "text/html": [
       "<div>\n",
       "<style scoped>\n",
       "    .dataframe tbody tr th:only-of-type {\n",
       "        vertical-align: middle;\n",
       "    }\n",
       "\n",
       "    .dataframe tbody tr th {\n",
       "        vertical-align: top;\n",
       "    }\n",
       "\n",
       "    .dataframe thead th {\n",
       "        text-align: right;\n",
       "    }\n",
       "</style>\n",
       "<table border=\"1\" class=\"dataframe\">\n",
       "  <thead>\n",
       "    <tr style=\"text-align: right;\">\n",
       "      <th></th>\n",
       "      <th>day</th>\n",
       "      <th>hour</th>\n",
       "      <th>month</th>\n",
       "    </tr>\n",
       "  </thead>\n",
       "  <tbody>\n",
       "    <tr>\n",
       "      <th>0</th>\n",
       "      <td>1</td>\n",
       "      <td>12</td>\n",
       "      <td>10</td>\n",
       "    </tr>\n",
       "    <tr>\n",
       "      <th>1</th>\n",
       "      <td>1</td>\n",
       "      <td>13</td>\n",
       "      <td>10</td>\n",
       "    </tr>\n",
       "    <tr>\n",
       "      <th>2</th>\n",
       "      <td>1</td>\n",
       "      <td>14</td>\n",
       "      <td>10</td>\n",
       "    </tr>\n",
       "    <tr>\n",
       "      <th>3</th>\n",
       "      <td>1</td>\n",
       "      <td>15</td>\n",
       "      <td>10</td>\n",
       "    </tr>\n",
       "    <tr>\n",
       "      <th>4</th>\n",
       "      <td>1</td>\n",
       "      <td>16</td>\n",
       "      <td>10</td>\n",
       "    </tr>\n",
       "  </tbody>\n",
       "</table>\n",
       "</div>"
      ],
      "text/plain": [
       "   day  hour  month\n",
       "0    1    12     10\n",
       "1    1    13     10\n",
       "2    1    14     10\n",
       "3    1    15     10\n",
       "4    1    16     10"
      ]
     },
     "execution_count": 1123,
     "metadata": {},
     "output_type": "execute_result"
    }
   ],
   "source": [
    "X_train.head()"
   ]
  },
  {
   "cell_type": "code",
   "execution_count": 1124,
   "metadata": {},
   "outputs": [
    {
     "data": {
      "text/html": [
       "<div>\n",
       "<style scoped>\n",
       "    .dataframe tbody tr th:only-of-type {\n",
       "        vertical-align: middle;\n",
       "    }\n",
       "\n",
       "    .dataframe tbody tr th {\n",
       "        vertical-align: top;\n",
       "    }\n",
       "\n",
       "    .dataframe thead th {\n",
       "        text-align: right;\n",
       "    }\n",
       "</style>\n",
       "<table border=\"1\" class=\"dataframe\">\n",
       "  <thead>\n",
       "    <tr style=\"text-align: right;\">\n",
       "      <th></th>\n",
       "      <th>month_sin</th>\n",
       "      <th>month_cos</th>\n",
       "      <th>day_sin</th>\n",
       "      <th>day_cos</th>\n",
       "      <th>hour_sin</th>\n",
       "      <th>hour_cos</th>\n",
       "    </tr>\n",
       "  </thead>\n",
       "  <tbody>\n",
       "    <tr>\n",
       "      <th>0</th>\n",
       "      <td>-0.866025</td>\n",
       "      <td>0.5</td>\n",
       "      <td>0.017213</td>\n",
       "      <td>0.999852</td>\n",
       "      <td>-0.136167</td>\n",
       "      <td>-0.990686</td>\n",
       "    </tr>\n",
       "    <tr>\n",
       "      <th>1</th>\n",
       "      <td>-0.866025</td>\n",
       "      <td>0.5</td>\n",
       "      <td>0.017213</td>\n",
       "      <td>0.999852</td>\n",
       "      <td>-0.398401</td>\n",
       "      <td>-0.917211</td>\n",
       "    </tr>\n",
       "    <tr>\n",
       "      <th>2</th>\n",
       "      <td>-0.866025</td>\n",
       "      <td>0.5</td>\n",
       "      <td>0.017213</td>\n",
       "      <td>0.999852</td>\n",
       "      <td>-0.631088</td>\n",
       "      <td>-0.775711</td>\n",
       "    </tr>\n",
       "    <tr>\n",
       "      <th>3</th>\n",
       "      <td>-0.866025</td>\n",
       "      <td>0.5</td>\n",
       "      <td>0.017213</td>\n",
       "      <td>0.999852</td>\n",
       "      <td>-0.816970</td>\n",
       "      <td>-0.576680</td>\n",
       "    </tr>\n",
       "    <tr>\n",
       "      <th>4</th>\n",
       "      <td>-0.866025</td>\n",
       "      <td>0.5</td>\n",
       "      <td>0.017213</td>\n",
       "      <td>0.999852</td>\n",
       "      <td>-0.942261</td>\n",
       "      <td>-0.334880</td>\n",
       "    </tr>\n",
       "  </tbody>\n",
       "</table>\n",
       "</div>"
      ],
      "text/plain": [
       "   month_sin  month_cos   day_sin   day_cos  hour_sin  hour_cos\n",
       "0  -0.866025        0.5  0.017213  0.999852 -0.136167 -0.990686\n",
       "1  -0.866025        0.5  0.017213  0.999852 -0.398401 -0.917211\n",
       "2  -0.866025        0.5  0.017213  0.999852 -0.631088 -0.775711\n",
       "3  -0.866025        0.5  0.017213  0.999852 -0.816970 -0.576680\n",
       "4  -0.866025        0.5  0.017213  0.999852 -0.942261 -0.334880"
      ]
     },
     "execution_count": 1124,
     "metadata": {},
     "output_type": "execute_result"
    }
   ],
   "source": [
    "X_train_enc.head()"
   ]
  },
  {
   "cell_type": "code",
   "execution_count": 1144,
   "metadata": {},
   "outputs": [
    {
     "data": {
      "text/plain": [
       "{'max_depth': 7, 'min_samples_leaf': 60}"
      ]
     },
     "execution_count": 1144,
     "metadata": {},
     "output_type": "execute_result"
    }
   ],
   "source": [
    "param_grid = [{'min_samples_leaf': [20,30,40,50,60], 'max_depth':[5,7,8,10,15,20,25]}]   \n",
    "\n",
    "grid_search = GridSearchCV(DecisionTreeRegressor(), param_grid, cv=5)\n",
    "grid_search.fit(X_train, y_train)\n",
    "grid_search.best_params_"
   ]
  },
  {
   "cell_type": "code",
   "execution_count": 1135,
   "metadata": {},
   "outputs": [
    {
     "data": {
      "text/plain": [
       "DecisionTreeRegressor(max_depth=7, min_samples_leaf=60)"
      ]
     },
     "execution_count": 1135,
     "metadata": {},
     "output_type": "execute_result"
    }
   ],
   "source": [
    "tree_model = DecisionTreeRegressor(min_samples_leaf=grid_search.best_params_['min_samples_leaf'], max_depth=grid_search.best_params_['max_depth'])\n",
    "tree_model.fit(X_train, y_train)"
   ]
  },
  {
   "cell_type": "markdown",
   "metadata": {},
   "source": [
    "#### Check on feature importance"
   ]
  },
  {
   "cell_type": "code",
   "execution_count": 1136,
   "metadata": {},
   "outputs": [
    {
     "name": "stdout",
     "output_type": "stream",
     "text": [
      "day weights 0.043196579529984645\n",
      "hour weights 0.031301281174108846\n",
      "month weights 0.9255021392959065\n"
     ]
    }
   ],
   "source": [
    "for feature, weight in zip(list(X_train.columns), tree_model.feature_importances_):\n",
    "    print(\"{} weights {}\".format(feature, weight))"
   ]
  },
  {
   "cell_type": "code",
   "execution_count": 1146,
   "metadata": {},
   "outputs": [
    {
     "data": {
      "text/plain": [
       "{'max_depth': 70, 'min_samples_leaf': 30, 'n_estimators': 100}"
      ]
     },
     "execution_count": 1146,
     "metadata": {},
     "output_type": "execute_result"
    }
   ],
   "source": [
    "param_grid = [{'min_samples_leaf': [10,20,30], 'max_depth': [30,40,50,70],\n",
    "              'n_estimators': [100, 200, 300]}]   \n",
    "\n",
    "grid_search = GridSearchCV(RandomForestRegressor(), param_grid, cv=5)\n",
    "grid_search.fit(X_train, y_train.values.ravel()) # https://stackoverflow.com/questions/34165731/a-column-vector-y-was-passed-when-a-1d-array-was-expected\n",
    "grid_search.best_params_\n",
    "grid_search.best_params_"
   ]
  },
  {
   "cell_type": "code",
   "execution_count": 1148,
   "metadata": {},
   "outputs": [
    {
     "name": "stderr",
     "output_type": "stream",
     "text": [
      "/Users/sdoneva/anaconda/lib/python3.6/site-packages/ipykernel_launcher.py:2: DataConversionWarning: A column-vector y was passed when a 1d array was expected. Please change the shape of y to (n_samples,), for example using ravel().\n",
      "  \n"
     ]
    },
    {
     "data": {
      "text/plain": [
       "RandomForestRegressor(max_depth=70, min_samples_leaf=30)"
      ]
     },
     "execution_count": 1148,
     "metadata": {},
     "output_type": "execute_result"
    }
   ],
   "source": [
    "rf_model = RandomForestRegressor(max_depth= 70, min_samples_leaf = 30, n_estimators= 100)\n",
    "rf_model.fit(X_train, y_train)"
   ]
  },
  {
   "cell_type": "markdown",
   "metadata": {},
   "source": [
    "#### predictions on test data"
   ]
  },
  {
   "cell_type": "code",
   "execution_count": 1149,
   "metadata": {},
   "outputs": [],
   "source": [
    "mse_tree = MSE(y_test, tree_model.predict(X_test))\n",
    "mse_forest = MSE(y_test, rf_model.predict(X_test))"
   ]
  },
  {
   "cell_type": "code",
   "execution_count": 1150,
   "metadata": {},
   "outputs": [
    {
     "data": {
      "text/plain": [
       "(21.35094664203046, 22.037530807117474)"
      ]
     },
     "execution_count": 1150,
     "metadata": {},
     "output_type": "execute_result"
    }
   ],
   "source": [
    "mse_tree, mse_forest"
   ]
  },
  {
   "cell_type": "markdown",
   "metadata": {},
   "source": [
    "## Using weather description data"
   ]
  },
  {
   "cell_type": "code",
   "execution_count": 1151,
   "metadata": {
    "collapsed": true
   },
   "outputs": [],
   "source": [
    "from sklearn.preprocessing import OneHotEncoder"
   ]
  },
  {
   "cell_type": "code",
   "execution_count": 1152,
   "metadata": {},
   "outputs": [
    {
     "data": {
      "text/html": [
       "<div>\n",
       "<style scoped>\n",
       "    .dataframe tbody tr th:only-of-type {\n",
       "        vertical-align: middle;\n",
       "    }\n",
       "\n",
       "    .dataframe tbody tr th {\n",
       "        vertical-align: top;\n",
       "    }\n",
       "\n",
       "    .dataframe thead th {\n",
       "        text-align: right;\n",
       "    }\n",
       "</style>\n",
       "<table border=\"1\" class=\"dataframe\">\n",
       "  <thead>\n",
       "    <tr style=\"text-align: right;\">\n",
       "      <th></th>\n",
       "      <th>datetime</th>\n",
       "      <th>Vancouver</th>\n",
       "      <th>Portland</th>\n",
       "      <th>San Francisco</th>\n",
       "      <th>Seattle</th>\n",
       "      <th>Los Angeles</th>\n",
       "      <th>San Diego</th>\n",
       "      <th>Las Vegas</th>\n",
       "      <th>Phoenix</th>\n",
       "      <th>Albuquerque</th>\n",
       "      <th>...</th>\n",
       "      <th>Philadelphia</th>\n",
       "      <th>New York</th>\n",
       "      <th>Montreal</th>\n",
       "      <th>Boston</th>\n",
       "      <th>Beersheba</th>\n",
       "      <th>Tel Aviv District</th>\n",
       "      <th>Eilat</th>\n",
       "      <th>Haifa</th>\n",
       "      <th>Nahariyya</th>\n",
       "      <th>Jerusalem</th>\n",
       "    </tr>\n",
       "  </thead>\n",
       "  <tbody>\n",
       "    <tr>\n",
       "      <th>0</th>\n",
       "      <td>2012-10-01 12:00:00</td>\n",
       "      <td>NaN</td>\n",
       "      <td>NaN</td>\n",
       "      <td>NaN</td>\n",
       "      <td>NaN</td>\n",
       "      <td>NaN</td>\n",
       "      <td>NaN</td>\n",
       "      <td>NaN</td>\n",
       "      <td>NaN</td>\n",
       "      <td>NaN</td>\n",
       "      <td>...</td>\n",
       "      <td>NaN</td>\n",
       "      <td>NaN</td>\n",
       "      <td>NaN</td>\n",
       "      <td>NaN</td>\n",
       "      <td>NaN</td>\n",
       "      <td>NaN</td>\n",
       "      <td>haze</td>\n",
       "      <td>NaN</td>\n",
       "      <td>NaN</td>\n",
       "      <td>NaN</td>\n",
       "    </tr>\n",
       "    <tr>\n",
       "      <th>1</th>\n",
       "      <td>2012-10-01 13:00:00</td>\n",
       "      <td>mist</td>\n",
       "      <td>scattered clouds</td>\n",
       "      <td>light rain</td>\n",
       "      <td>sky is clear</td>\n",
       "      <td>mist</td>\n",
       "      <td>sky is clear</td>\n",
       "      <td>sky is clear</td>\n",
       "      <td>sky is clear</td>\n",
       "      <td>sky is clear</td>\n",
       "      <td>...</td>\n",
       "      <td>broken clouds</td>\n",
       "      <td>few clouds</td>\n",
       "      <td>overcast clouds</td>\n",
       "      <td>sky is clear</td>\n",
       "      <td>sky is clear</td>\n",
       "      <td>sky is clear</td>\n",
       "      <td>haze</td>\n",
       "      <td>sky is clear</td>\n",
       "      <td>sky is clear</td>\n",
       "      <td>sky is clear</td>\n",
       "    </tr>\n",
       "    <tr>\n",
       "      <th>2</th>\n",
       "      <td>2012-10-01 14:00:00</td>\n",
       "      <td>broken clouds</td>\n",
       "      <td>scattered clouds</td>\n",
       "      <td>sky is clear</td>\n",
       "      <td>sky is clear</td>\n",
       "      <td>sky is clear</td>\n",
       "      <td>sky is clear</td>\n",
       "      <td>sky is clear</td>\n",
       "      <td>sky is clear</td>\n",
       "      <td>sky is clear</td>\n",
       "      <td>...</td>\n",
       "      <td>broken clouds</td>\n",
       "      <td>few clouds</td>\n",
       "      <td>sky is clear</td>\n",
       "      <td>few clouds</td>\n",
       "      <td>sky is clear</td>\n",
       "      <td>sky is clear</td>\n",
       "      <td>broken clouds</td>\n",
       "      <td>overcast clouds</td>\n",
       "      <td>sky is clear</td>\n",
       "      <td>overcast clouds</td>\n",
       "    </tr>\n",
       "    <tr>\n",
       "      <th>3</th>\n",
       "      <td>2012-10-01 15:00:00</td>\n",
       "      <td>broken clouds</td>\n",
       "      <td>scattered clouds</td>\n",
       "      <td>sky is clear</td>\n",
       "      <td>sky is clear</td>\n",
       "      <td>sky is clear</td>\n",
       "      <td>sky is clear</td>\n",
       "      <td>sky is clear</td>\n",
       "      <td>sky is clear</td>\n",
       "      <td>sky is clear</td>\n",
       "      <td>...</td>\n",
       "      <td>broken clouds</td>\n",
       "      <td>few clouds</td>\n",
       "      <td>sky is clear</td>\n",
       "      <td>few clouds</td>\n",
       "      <td>overcast clouds</td>\n",
       "      <td>sky is clear</td>\n",
       "      <td>broken clouds</td>\n",
       "      <td>overcast clouds</td>\n",
       "      <td>overcast clouds</td>\n",
       "      <td>overcast clouds</td>\n",
       "    </tr>\n",
       "    <tr>\n",
       "      <th>4</th>\n",
       "      <td>2012-10-01 16:00:00</td>\n",
       "      <td>broken clouds</td>\n",
       "      <td>scattered clouds</td>\n",
       "      <td>sky is clear</td>\n",
       "      <td>sky is clear</td>\n",
       "      <td>sky is clear</td>\n",
       "      <td>sky is clear</td>\n",
       "      <td>sky is clear</td>\n",
       "      <td>sky is clear</td>\n",
       "      <td>sky is clear</td>\n",
       "      <td>...</td>\n",
       "      <td>broken clouds</td>\n",
       "      <td>few clouds</td>\n",
       "      <td>sky is clear</td>\n",
       "      <td>few clouds</td>\n",
       "      <td>overcast clouds</td>\n",
       "      <td>sky is clear</td>\n",
       "      <td>broken clouds</td>\n",
       "      <td>overcast clouds</td>\n",
       "      <td>overcast clouds</td>\n",
       "      <td>overcast clouds</td>\n",
       "    </tr>\n",
       "  </tbody>\n",
       "</table>\n",
       "<p>5 rows × 37 columns</p>\n",
       "</div>"
      ],
      "text/plain": [
       "             datetime      Vancouver          Portland San Francisco  \\\n",
       "0 2012-10-01 12:00:00            NaN               NaN           NaN   \n",
       "1 2012-10-01 13:00:00           mist  scattered clouds    light rain   \n",
       "2 2012-10-01 14:00:00  broken clouds  scattered clouds  sky is clear   \n",
       "3 2012-10-01 15:00:00  broken clouds  scattered clouds  sky is clear   \n",
       "4 2012-10-01 16:00:00  broken clouds  scattered clouds  sky is clear   \n",
       "\n",
       "        Seattle   Los Angeles     San Diego     Las Vegas       Phoenix  \\\n",
       "0           NaN           NaN           NaN           NaN           NaN   \n",
       "1  sky is clear          mist  sky is clear  sky is clear  sky is clear   \n",
       "2  sky is clear  sky is clear  sky is clear  sky is clear  sky is clear   \n",
       "3  sky is clear  sky is clear  sky is clear  sky is clear  sky is clear   \n",
       "4  sky is clear  sky is clear  sky is clear  sky is clear  sky is clear   \n",
       "\n",
       "    Albuquerque       ...          Philadelphia    New York         Montreal  \\\n",
       "0           NaN       ...                   NaN         NaN              NaN   \n",
       "1  sky is clear       ...         broken clouds  few clouds  overcast clouds   \n",
       "2  sky is clear       ...         broken clouds  few clouds     sky is clear   \n",
       "3  sky is clear       ...         broken clouds  few clouds     sky is clear   \n",
       "4  sky is clear       ...         broken clouds  few clouds     sky is clear   \n",
       "\n",
       "         Boston        Beersheba Tel Aviv District          Eilat  \\\n",
       "0           NaN              NaN               NaN           haze   \n",
       "1  sky is clear     sky is clear      sky is clear           haze   \n",
       "2    few clouds     sky is clear      sky is clear  broken clouds   \n",
       "3    few clouds  overcast clouds      sky is clear  broken clouds   \n",
       "4    few clouds  overcast clouds      sky is clear  broken clouds   \n",
       "\n",
       "             Haifa        Nahariyya        Jerusalem  \n",
       "0              NaN              NaN              NaN  \n",
       "1     sky is clear     sky is clear     sky is clear  \n",
       "2  overcast clouds     sky is clear  overcast clouds  \n",
       "3  overcast clouds  overcast clouds  overcast clouds  \n",
       "4  overcast clouds  overcast clouds  overcast clouds  \n",
       "\n",
       "[5 rows x 37 columns]"
      ]
     },
     "execution_count": 1152,
     "metadata": {},
     "output_type": "execute_result"
    }
   ],
   "source": [
    "data_weather_description = pd.read_csv(\"weather_description.csv\", parse_dates=[\"datetime\"])\n",
    "data_weather_description.head()"
   ]
  },
  {
   "cell_type": "code",
   "execution_count": 1153,
   "metadata": {},
   "outputs": [
    {
     "data": {
      "text/plain": [
       "(1, 37)"
      ]
     },
     "execution_count": 1153,
     "metadata": {},
     "output_type": "execute_result"
    }
   ],
   "source": [
    "data_weather_description[\"Montreal\"].isna().sum(), data_weather_description[\"Montreal\"].nunique()"
   ]
  },
  {
   "cell_type": "code",
   "execution_count": 1154,
   "metadata": {},
   "outputs": [
    {
     "data": {
      "text/plain": [
       "broken clouds                   8151\n",
       "sky is clear                    7299\n",
       "overcast clouds                 6637\n",
       "few clouds                      6317\n",
       "light rain                      4015\n",
       "scattered clouds                3407\n",
       "mist                            3196\n",
       "light snow                      1796\n",
       "light intensity shower rain     1067\n",
       "moderate rain                    770\n",
       "heavy snow                       536\n",
       "fog                              456\n",
       "light shower snow                331\n",
       "proximity shower rain            281\n",
       "snow                             175\n",
       "haze                             171\n",
       "heavy intensity rain             168\n",
       "heavy shower snow                119\n",
       "light intensity drizzle          117\n",
       "thunderstorm with light rain      69\n",
       "proximity thunderstorm            39\n",
       "thunderstorm                      31\n",
       "smoke                             18\n",
       "thunderstorm with rain            16\n",
       "light intensity drizzle rain      14\n",
       "shower rain                       11\n",
       "light shower sleet                 9\n",
       "light rain and snow                7\n",
       "thunderstorm with heavy rain       6\n",
       "shower snow                        5\n",
       "very heavy rain                    5\n",
       "drizzle                            4\n",
       "freezing rain                      4\n",
       "sand                               2\n",
       "dust                               1\n",
       "heavy intensity shower rain        1\n",
       "shower drizzle                     1\n",
       "Name: Montreal, dtype: int64"
      ]
     },
     "execution_count": 1154,
     "metadata": {},
     "output_type": "execute_result"
    }
   ],
   "source": [
    "data_weather_description[\"Montreal\"].value_counts()"
   ]
  },
  {
   "cell_type": "code",
   "execution_count": 1155,
   "metadata": {
    "collapsed": true
   },
   "outputs": [],
   "source": [
    "data_montreal_description = data_weather_description[[\"Montreal\", \"datetime\"]]"
   ]
  },
  {
   "cell_type": "code",
   "execution_count": 1156,
   "metadata": {
    "collapsed": true
   },
   "outputs": [],
   "source": [
    "data_montreal_description = data_montreal_description.fillna(method = \"bfill\", axis=0).dropna()"
   ]
  },
  {
   "cell_type": "code",
   "execution_count": 1157,
   "metadata": {
    "collapsed": true
   },
   "outputs": [],
   "source": [
    "data_montreal_description = data_montreal_description.rename(columns={\"Montreal\":\"description\"})"
   ]
  },
  {
   "cell_type": "code",
   "execution_count": 1158,
   "metadata": {},
   "outputs": [
    {
     "data": {
      "text/html": [
       "<div>\n",
       "<style scoped>\n",
       "    .dataframe tbody tr th:only-of-type {\n",
       "        vertical-align: middle;\n",
       "    }\n",
       "\n",
       "    .dataframe tbody tr th {\n",
       "        vertical-align: top;\n",
       "    }\n",
       "\n",
       "    .dataframe thead th {\n",
       "        text-align: right;\n",
       "    }\n",
       "</style>\n",
       "<table border=\"1\" class=\"dataframe\">\n",
       "  <thead>\n",
       "    <tr style=\"text-align: right;\">\n",
       "      <th></th>\n",
       "      <th>description</th>\n",
       "      <th>datetime</th>\n",
       "    </tr>\n",
       "  </thead>\n",
       "  <tbody>\n",
       "    <tr>\n",
       "      <th>0</th>\n",
       "      <td>overcast clouds</td>\n",
       "      <td>2012-10-01 12:00:00</td>\n",
       "    </tr>\n",
       "    <tr>\n",
       "      <th>1</th>\n",
       "      <td>overcast clouds</td>\n",
       "      <td>2012-10-01 13:00:00</td>\n",
       "    </tr>\n",
       "  </tbody>\n",
       "</table>\n",
       "</div>"
      ],
      "text/plain": [
       "       description            datetime\n",
       "0  overcast clouds 2012-10-01 12:00:00\n",
       "1  overcast clouds 2012-10-01 13:00:00"
      ]
     },
     "execution_count": 1158,
     "metadata": {},
     "output_type": "execute_result"
    }
   ],
   "source": [
    "data_montreal_description.head(2)"
   ]
  },
  {
   "cell_type": "code",
   "execution_count": 1161,
   "metadata": {},
   "outputs": [
    {
     "data": {
      "text/html": [
       "<div>\n",
       "<style scoped>\n",
       "    .dataframe tbody tr th:only-of-type {\n",
       "        vertical-align: middle;\n",
       "    }\n",
       "\n",
       "    .dataframe tbody tr th {\n",
       "        vertical-align: top;\n",
       "    }\n",
       "\n",
       "    .dataframe thead th {\n",
       "        text-align: right;\n",
       "    }\n",
       "</style>\n",
       "<table border=\"1\" class=\"dataframe\">\n",
       "  <thead>\n",
       "    <tr style=\"text-align: right;\">\n",
       "      <th></th>\n",
       "      <th>temperature</th>\n",
       "      <th>datetime</th>\n",
       "      <th>hour</th>\n",
       "      <th>hour_sin</th>\n",
       "      <th>hour_cos</th>\n",
       "      <th>month</th>\n",
       "      <th>month_sin</th>\n",
       "      <th>month_cos</th>\n",
       "      <th>day</th>\n",
       "      <th>day_sin</th>\n",
       "      <th>day_cos</th>\n",
       "    </tr>\n",
       "  </thead>\n",
       "  <tbody>\n",
       "    <tr>\n",
       "      <th>0</th>\n",
       "      <td>7.193010</td>\n",
       "      <td>2012-10-01 12:00:00</td>\n",
       "      <td>12</td>\n",
       "      <td>-0.136167</td>\n",
       "      <td>-0.990686</td>\n",
       "      <td>10</td>\n",
       "      <td>-0.866025</td>\n",
       "      <td>0.5</td>\n",
       "      <td>1</td>\n",
       "      <td>0.017213</td>\n",
       "      <td>0.999852</td>\n",
       "    </tr>\n",
       "    <tr>\n",
       "      <th>1</th>\n",
       "      <td>12.680000</td>\n",
       "      <td>2012-10-01 13:00:00</td>\n",
       "      <td>13</td>\n",
       "      <td>-0.398401</td>\n",
       "      <td>-0.917211</td>\n",
       "      <td>10</td>\n",
       "      <td>-0.866025</td>\n",
       "      <td>0.5</td>\n",
       "      <td>1</td>\n",
       "      <td>0.017213</td>\n",
       "      <td>0.999852</td>\n",
       "    </tr>\n",
       "    <tr>\n",
       "      <th>2</th>\n",
       "      <td>12.684650</td>\n",
       "      <td>2012-10-01 14:00:00</td>\n",
       "      <td>14</td>\n",
       "      <td>-0.631088</td>\n",
       "      <td>-0.775711</td>\n",
       "      <td>10</td>\n",
       "      <td>-0.866025</td>\n",
       "      <td>0.5</td>\n",
       "      <td>1</td>\n",
       "      <td>0.017213</td>\n",
       "      <td>0.999852</td>\n",
       "    </tr>\n",
       "    <tr>\n",
       "      <th>3</th>\n",
       "      <td>12.697790</td>\n",
       "      <td>2012-10-01 15:00:00</td>\n",
       "      <td>15</td>\n",
       "      <td>-0.816970</td>\n",
       "      <td>-0.576680</td>\n",
       "      <td>10</td>\n",
       "      <td>-0.866025</td>\n",
       "      <td>0.5</td>\n",
       "      <td>1</td>\n",
       "      <td>0.017213</td>\n",
       "      <td>0.999852</td>\n",
       "    </tr>\n",
       "    <tr>\n",
       "      <th>4</th>\n",
       "      <td>12.710929</td>\n",
       "      <td>2012-10-01 16:00:00</td>\n",
       "      <td>16</td>\n",
       "      <td>-0.942261</td>\n",
       "      <td>-0.334880</td>\n",
       "      <td>10</td>\n",
       "      <td>-0.866025</td>\n",
       "      <td>0.5</td>\n",
       "      <td>1</td>\n",
       "      <td>0.017213</td>\n",
       "      <td>0.999852</td>\n",
       "    </tr>\n",
       "  </tbody>\n",
       "</table>\n",
       "</div>"
      ],
      "text/plain": [
       "   temperature            datetime  hour  hour_sin  hour_cos  month  \\\n",
       "0     7.193010 2012-10-01 12:00:00    12 -0.136167 -0.990686     10   \n",
       "1    12.680000 2012-10-01 13:00:00    13 -0.398401 -0.917211     10   \n",
       "2    12.684650 2012-10-01 14:00:00    14 -0.631088 -0.775711     10   \n",
       "3    12.697790 2012-10-01 15:00:00    15 -0.816970 -0.576680     10   \n",
       "4    12.710929 2012-10-01 16:00:00    16 -0.942261 -0.334880     10   \n",
       "\n",
       "   month_sin  month_cos  day   day_sin   day_cos  \n",
       "0  -0.866025        0.5    1  0.017213  0.999852  \n",
       "1  -0.866025        0.5    1  0.017213  0.999852  \n",
       "2  -0.866025        0.5    1  0.017213  0.999852  \n",
       "3  -0.866025        0.5    1  0.017213  0.999852  \n",
       "4  -0.866025        0.5    1  0.017213  0.999852  "
      ]
     },
     "execution_count": 1161,
     "metadata": {},
     "output_type": "execute_result"
    }
   ],
   "source": [
    "data_montreal_enc = get_montreal_data_encoded()\n",
    "data_montreal_enc.head()"
   ]
  },
  {
   "cell_type": "code",
   "execution_count": 1166,
   "metadata": {},
   "outputs": [
    {
     "data": {
      "text/plain": [
       "((45253, 2), (45253, 11))"
      ]
     },
     "execution_count": 1166,
     "metadata": {},
     "output_type": "execute_result"
    }
   ],
   "source": [
    "data_montreal_description.shape, data_montreal_enc.shape"
   ]
  },
  {
   "cell_type": "code",
   "execution_count": 1167,
   "metadata": {},
   "outputs": [],
   "source": [
    "data_montreal_with_descr = pd.concat([data_montreal_description, data_montreal_enc], axis=1)"
   ]
  },
  {
   "cell_type": "code",
   "execution_count": 1168,
   "metadata": {},
   "outputs": [
    {
     "data": {
      "text/html": [
       "<div>\n",
       "<style scoped>\n",
       "    .dataframe tbody tr th:only-of-type {\n",
       "        vertical-align: middle;\n",
       "    }\n",
       "\n",
       "    .dataframe tbody tr th {\n",
       "        vertical-align: top;\n",
       "    }\n",
       "\n",
       "    .dataframe thead th {\n",
       "        text-align: right;\n",
       "    }\n",
       "</style>\n",
       "<table border=\"1\" class=\"dataframe\">\n",
       "  <thead>\n",
       "    <tr style=\"text-align: right;\">\n",
       "      <th></th>\n",
       "      <th>description</th>\n",
       "      <th>datetime</th>\n",
       "      <th>temperature</th>\n",
       "      <th>datetime</th>\n",
       "      <th>hour</th>\n",
       "      <th>hour_sin</th>\n",
       "      <th>hour_cos</th>\n",
       "      <th>month</th>\n",
       "      <th>month_sin</th>\n",
       "      <th>month_cos</th>\n",
       "      <th>day</th>\n",
       "      <th>day_sin</th>\n",
       "      <th>day_cos</th>\n",
       "    </tr>\n",
       "  </thead>\n",
       "  <tbody>\n",
       "    <tr>\n",
       "      <th>0</th>\n",
       "      <td>overcast clouds</td>\n",
       "      <td>2012-10-01 12:00:00</td>\n",
       "      <td>7.193010</td>\n",
       "      <td>2012-10-01 12:00:00</td>\n",
       "      <td>12</td>\n",
       "      <td>-0.136167</td>\n",
       "      <td>-0.990686</td>\n",
       "      <td>10</td>\n",
       "      <td>-0.866025</td>\n",
       "      <td>0.5</td>\n",
       "      <td>1</td>\n",
       "      <td>0.017213</td>\n",
       "      <td>0.999852</td>\n",
       "    </tr>\n",
       "    <tr>\n",
       "      <th>1</th>\n",
       "      <td>overcast clouds</td>\n",
       "      <td>2012-10-01 13:00:00</td>\n",
       "      <td>12.680000</td>\n",
       "      <td>2012-10-01 13:00:00</td>\n",
       "      <td>13</td>\n",
       "      <td>-0.398401</td>\n",
       "      <td>-0.917211</td>\n",
       "      <td>10</td>\n",
       "      <td>-0.866025</td>\n",
       "      <td>0.5</td>\n",
       "      <td>1</td>\n",
       "      <td>0.017213</td>\n",
       "      <td>0.999852</td>\n",
       "    </tr>\n",
       "    <tr>\n",
       "      <th>2</th>\n",
       "      <td>sky is clear</td>\n",
       "      <td>2012-10-01 14:00:00</td>\n",
       "      <td>12.684650</td>\n",
       "      <td>2012-10-01 14:00:00</td>\n",
       "      <td>14</td>\n",
       "      <td>-0.631088</td>\n",
       "      <td>-0.775711</td>\n",
       "      <td>10</td>\n",
       "      <td>-0.866025</td>\n",
       "      <td>0.5</td>\n",
       "      <td>1</td>\n",
       "      <td>0.017213</td>\n",
       "      <td>0.999852</td>\n",
       "    </tr>\n",
       "    <tr>\n",
       "      <th>3</th>\n",
       "      <td>sky is clear</td>\n",
       "      <td>2012-10-01 15:00:00</td>\n",
       "      <td>12.697790</td>\n",
       "      <td>2012-10-01 15:00:00</td>\n",
       "      <td>15</td>\n",
       "      <td>-0.816970</td>\n",
       "      <td>-0.576680</td>\n",
       "      <td>10</td>\n",
       "      <td>-0.866025</td>\n",
       "      <td>0.5</td>\n",
       "      <td>1</td>\n",
       "      <td>0.017213</td>\n",
       "      <td>0.999852</td>\n",
       "    </tr>\n",
       "    <tr>\n",
       "      <th>4</th>\n",
       "      <td>sky is clear</td>\n",
       "      <td>2012-10-01 16:00:00</td>\n",
       "      <td>12.710929</td>\n",
       "      <td>2012-10-01 16:00:00</td>\n",
       "      <td>16</td>\n",
       "      <td>-0.942261</td>\n",
       "      <td>-0.334880</td>\n",
       "      <td>10</td>\n",
       "      <td>-0.866025</td>\n",
       "      <td>0.5</td>\n",
       "      <td>1</td>\n",
       "      <td>0.017213</td>\n",
       "      <td>0.999852</td>\n",
       "    </tr>\n",
       "  </tbody>\n",
       "</table>\n",
       "</div>"
      ],
      "text/plain": [
       "       description            datetime  temperature            datetime  hour  \\\n",
       "0  overcast clouds 2012-10-01 12:00:00     7.193010 2012-10-01 12:00:00    12   \n",
       "1  overcast clouds 2012-10-01 13:00:00    12.680000 2012-10-01 13:00:00    13   \n",
       "2     sky is clear 2012-10-01 14:00:00    12.684650 2012-10-01 14:00:00    14   \n",
       "3     sky is clear 2012-10-01 15:00:00    12.697790 2012-10-01 15:00:00    15   \n",
       "4     sky is clear 2012-10-01 16:00:00    12.710929 2012-10-01 16:00:00    16   \n",
       "\n",
       "   hour_sin  hour_cos  month  month_sin  month_cos  day   day_sin   day_cos  \n",
       "0 -0.136167 -0.990686     10  -0.866025        0.5    1  0.017213  0.999852  \n",
       "1 -0.398401 -0.917211     10  -0.866025        0.5    1  0.017213  0.999852  \n",
       "2 -0.631088 -0.775711     10  -0.866025        0.5    1  0.017213  0.999852  \n",
       "3 -0.816970 -0.576680     10  -0.866025        0.5    1  0.017213  0.999852  \n",
       "4 -0.942261 -0.334880     10  -0.866025        0.5    1  0.017213  0.999852  "
      ]
     },
     "execution_count": 1168,
     "metadata": {},
     "output_type": "execute_result"
    }
   ],
   "source": [
    "data_montreal_with_descr.head()"
   ]
  },
  {
   "cell_type": "code",
   "execution_count": 1169,
   "metadata": {
    "collapsed": true
   },
   "outputs": [],
   "source": [
    "train_set, test_set = train_test_split(data_montreal_with_descr, test_size=0.4)\n",
    "valid_set, test_set = train_test_split(test_set, test_size=0.5)"
   ]
  },
  {
   "cell_type": "code",
   "execution_count": 1170,
   "metadata": {
    "collapsed": true
   },
   "outputs": [],
   "source": [
    "def get_relevant_features(df):\n",
    "    return df[[\"day\",\"hour\",\"month\", \"description\"]]"
   ]
  },
  {
   "cell_type": "code",
   "execution_count": 1171,
   "metadata": {
    "collapsed": true
   },
   "outputs": [],
   "source": [
    "X_train_not_enc = get_relevant_features(train_set)\n",
    "X_valid_not_enc = get_relevant_features(valid_set)\n",
    "X_test_not_enc = get_relevant_features(test_set)"
   ]
  },
  {
   "cell_type": "code",
   "execution_count": 1172,
   "metadata": {
    "collapsed": true
   },
   "outputs": [],
   "source": [
    "y_train = train_set[\"temperature\"]\n",
    "y_valid = valid_set[\"temperature\"]\n",
    "y_test = test_set[\"temperature\"]"
   ]
  },
  {
   "cell_type": "code",
   "execution_count": 1173,
   "metadata": {},
   "outputs": [
    {
     "data": {
      "text/html": [
       "<div>\n",
       "<style scoped>\n",
       "    .dataframe tbody tr th:only-of-type {\n",
       "        vertical-align: middle;\n",
       "    }\n",
       "\n",
       "    .dataframe tbody tr th {\n",
       "        vertical-align: top;\n",
       "    }\n",
       "\n",
       "    .dataframe thead th {\n",
       "        text-align: right;\n",
       "    }\n",
       "</style>\n",
       "<table border=\"1\" class=\"dataframe\">\n",
       "  <thead>\n",
       "    <tr style=\"text-align: right;\">\n",
       "      <th></th>\n",
       "      <th>day</th>\n",
       "      <th>hour</th>\n",
       "      <th>month</th>\n",
       "      <th>description</th>\n",
       "    </tr>\n",
       "  </thead>\n",
       "  <tbody>\n",
       "    <tr>\n",
       "      <th>4449</th>\n",
       "      <td>4</td>\n",
       "      <td>21</td>\n",
       "      <td>4</td>\n",
       "      <td>overcast clouds</td>\n",
       "    </tr>\n",
       "    <tr>\n",
       "      <th>20503</th>\n",
       "      <td>2</td>\n",
       "      <td>19</td>\n",
       "      <td>2</td>\n",
       "      <td>overcast clouds</td>\n",
       "    </tr>\n",
       "    <tr>\n",
       "      <th>7844</th>\n",
       "      <td>24</td>\n",
       "      <td>8</td>\n",
       "      <td>8</td>\n",
       "      <td>sky is clear</td>\n",
       "    </tr>\n",
       "    <tr>\n",
       "      <th>6206</th>\n",
       "      <td>17</td>\n",
       "      <td>2</td>\n",
       "      <td>6</td>\n",
       "      <td>few clouds</td>\n",
       "    </tr>\n",
       "    <tr>\n",
       "      <th>8087</th>\n",
       "      <td>3</td>\n",
       "      <td>11</td>\n",
       "      <td>9</td>\n",
       "      <td>light rain</td>\n",
       "    </tr>\n",
       "  </tbody>\n",
       "</table>\n",
       "</div>"
      ],
      "text/plain": [
       "       day  hour  month      description\n",
       "4449     4    21      4  overcast clouds\n",
       "20503    2    19      2  overcast clouds\n",
       "7844    24     8      8     sky is clear\n",
       "6206    17     2      6       few clouds\n",
       "8087     3    11      9       light rain"
      ]
     },
     "execution_count": 1173,
     "metadata": {},
     "output_type": "execute_result"
    }
   ],
   "source": [
    "X_train_not_enc.head()"
   ]
  },
  {
   "cell_type": "code",
   "execution_count": 1174,
   "metadata": {},
   "outputs": [
    {
     "data": {
      "text/plain": [
       "OneHotEncoder(handle_unknown='ignore')"
      ]
     },
     "execution_count": 1174,
     "metadata": {},
     "output_type": "execute_result"
    }
   ],
   "source": [
    "ohe = OneHotEncoder(handle_unknown = 'ignore')\n",
    "ohe.fit(X_train_not_enc)"
   ]
  },
  {
   "cell_type": "code",
   "execution_count": 1175,
   "metadata": {},
   "outputs": [
    {
     "data": {
      "text/plain": [
       "36"
      ]
     },
     "execution_count": 1175,
     "metadata": {},
     "output_type": "execute_result"
    }
   ],
   "source": [
    "feature_names = list(X_train_not_enc[\"description\"].unique())\n",
    "len(feature_names)"
   ]
  },
  {
   "cell_type": "code",
   "execution_count": 1176,
   "metadata": {},
   "outputs": [],
   "source": [
    "X_object = X_train_not_enc.description.values.reshape(-1,1)"
   ]
  },
  {
   "cell_type": "code",
   "execution_count": 1177,
   "metadata": {
    "collapsed": true
   },
   "outputs": [],
   "source": [
    "X_test_obj = X_test_not_enc.description.values.reshape(-1,1)"
   ]
  },
  {
   "cell_type": "code",
   "execution_count": 1178,
   "metadata": {},
   "outputs": [
    {
     "data": {
      "text/plain": [
       "OneHotEncoder(handle_unknown='ignore')"
      ]
     },
     "execution_count": 1178,
     "metadata": {},
     "output_type": "execute_result"
    }
   ],
   "source": [
    "ohe.fit(X_object)"
   ]
  },
  {
   "cell_type": "code",
   "execution_count": 1179,
   "metadata": {
    "collapsed": true
   },
   "outputs": [],
   "source": [
    "codes = ohe.transform(X_object).toarray()"
   ]
  },
  {
   "cell_type": "code",
   "execution_count": 1180,
   "metadata": {},
   "outputs": [],
   "source": [
    "codes_test = ohe.transform(X_test_obj).toarray()"
   ]
  },
  {
   "cell_type": "code",
   "execution_count": 1181,
   "metadata": {
    "collapsed": true
   },
   "outputs": [],
   "source": [
    "enc_descriptions = pd.DataFrame(codes, columns=feature_names).astype(int)\n",
    "enc_descriptions_test = pd.DataFrame(codes_test, columns=feature_names).astype(int)"
   ]
  },
  {
   "cell_type": "code",
   "execution_count": 1182,
   "metadata": {},
   "outputs": [
    {
     "data": {
      "text/html": [
       "<div>\n",
       "<style scoped>\n",
       "    .dataframe tbody tr th:only-of-type {\n",
       "        vertical-align: middle;\n",
       "    }\n",
       "\n",
       "    .dataframe tbody tr th {\n",
       "        vertical-align: top;\n",
       "    }\n",
       "\n",
       "    .dataframe thead th {\n",
       "        text-align: right;\n",
       "    }\n",
       "</style>\n",
       "<table border=\"1\" class=\"dataframe\">\n",
       "  <thead>\n",
       "    <tr style=\"text-align: right;\">\n",
       "      <th></th>\n",
       "      <th>overcast clouds</th>\n",
       "      <th>sky is clear</th>\n",
       "      <th>few clouds</th>\n",
       "      <th>light rain</th>\n",
       "      <th>broken clouds</th>\n",
       "      <th>scattered clouds</th>\n",
       "      <th>heavy snow</th>\n",
       "      <th>haze</th>\n",
       "      <th>light intensity shower rain</th>\n",
       "      <th>mist</th>\n",
       "      <th>...</th>\n",
       "      <th>smoke</th>\n",
       "      <th>shower snow</th>\n",
       "      <th>dust</th>\n",
       "      <th>thunderstorm</th>\n",
       "      <th>thunderstorm with heavy rain</th>\n",
       "      <th>very heavy rain</th>\n",
       "      <th>sand</th>\n",
       "      <th>light intensity drizzle rain</th>\n",
       "      <th>heavy intensity shower rain</th>\n",
       "      <th>freezing rain</th>\n",
       "    </tr>\n",
       "  </thead>\n",
       "  <tbody>\n",
       "    <tr>\n",
       "      <th>0</th>\n",
       "      <td>1</td>\n",
       "      <td>0</td>\n",
       "      <td>0</td>\n",
       "      <td>0</td>\n",
       "      <td>0</td>\n",
       "      <td>0</td>\n",
       "      <td>0</td>\n",
       "      <td>0</td>\n",
       "      <td>0</td>\n",
       "      <td>0</td>\n",
       "      <td>...</td>\n",
       "      <td>0</td>\n",
       "      <td>0</td>\n",
       "      <td>0</td>\n",
       "      <td>0</td>\n",
       "      <td>0</td>\n",
       "      <td>0</td>\n",
       "      <td>0</td>\n",
       "      <td>0</td>\n",
       "      <td>0</td>\n",
       "      <td>0</td>\n",
       "    </tr>\n",
       "    <tr>\n",
       "      <th>1</th>\n",
       "      <td>1</td>\n",
       "      <td>0</td>\n",
       "      <td>0</td>\n",
       "      <td>0</td>\n",
       "      <td>0</td>\n",
       "      <td>0</td>\n",
       "      <td>0</td>\n",
       "      <td>0</td>\n",
       "      <td>0</td>\n",
       "      <td>0</td>\n",
       "      <td>...</td>\n",
       "      <td>0</td>\n",
       "      <td>0</td>\n",
       "      <td>0</td>\n",
       "      <td>0</td>\n",
       "      <td>0</td>\n",
       "      <td>0</td>\n",
       "      <td>0</td>\n",
       "      <td>0</td>\n",
       "      <td>0</td>\n",
       "      <td>0</td>\n",
       "    </tr>\n",
       "    <tr>\n",
       "      <th>2</th>\n",
       "      <td>0</td>\n",
       "      <td>0</td>\n",
       "      <td>0</td>\n",
       "      <td>0</td>\n",
       "      <td>0</td>\n",
       "      <td>0</td>\n",
       "      <td>0</td>\n",
       "      <td>0</td>\n",
       "      <td>0</td>\n",
       "      <td>0</td>\n",
       "      <td>...</td>\n",
       "      <td>0</td>\n",
       "      <td>0</td>\n",
       "      <td>0</td>\n",
       "      <td>0</td>\n",
       "      <td>0</td>\n",
       "      <td>0</td>\n",
       "      <td>0</td>\n",
       "      <td>0</td>\n",
       "      <td>0</td>\n",
       "      <td>0</td>\n",
       "    </tr>\n",
       "    <tr>\n",
       "      <th>3</th>\n",
       "      <td>0</td>\n",
       "      <td>0</td>\n",
       "      <td>0</td>\n",
       "      <td>0</td>\n",
       "      <td>0</td>\n",
       "      <td>0</td>\n",
       "      <td>0</td>\n",
       "      <td>0</td>\n",
       "      <td>0</td>\n",
       "      <td>0</td>\n",
       "      <td>...</td>\n",
       "      <td>0</td>\n",
       "      <td>0</td>\n",
       "      <td>0</td>\n",
       "      <td>0</td>\n",
       "      <td>0</td>\n",
       "      <td>0</td>\n",
       "      <td>0</td>\n",
       "      <td>0</td>\n",
       "      <td>0</td>\n",
       "      <td>0</td>\n",
       "    </tr>\n",
       "    <tr>\n",
       "      <th>4</th>\n",
       "      <td>0</td>\n",
       "      <td>0</td>\n",
       "      <td>0</td>\n",
       "      <td>0</td>\n",
       "      <td>0</td>\n",
       "      <td>0</td>\n",
       "      <td>0</td>\n",
       "      <td>0</td>\n",
       "      <td>0</td>\n",
       "      <td>0</td>\n",
       "      <td>...</td>\n",
       "      <td>0</td>\n",
       "      <td>0</td>\n",
       "      <td>0</td>\n",
       "      <td>0</td>\n",
       "      <td>0</td>\n",
       "      <td>0</td>\n",
       "      <td>0</td>\n",
       "      <td>0</td>\n",
       "      <td>0</td>\n",
       "      <td>0</td>\n",
       "    </tr>\n",
       "  </tbody>\n",
       "</table>\n",
       "<p>5 rows × 36 columns</p>\n",
       "</div>"
      ],
      "text/plain": [
       "   overcast clouds  sky is clear  few clouds  light rain  broken clouds  \\\n",
       "0                1             0           0           0              0   \n",
       "1                1             0           0           0              0   \n",
       "2                0             0           0           0              0   \n",
       "3                0             0           0           0              0   \n",
       "4                0             0           0           0              0   \n",
       "\n",
       "   scattered clouds  heavy snow  haze  light intensity shower rain  mist  \\\n",
       "0                 0           0     0                            0     0   \n",
       "1                 0           0     0                            0     0   \n",
       "2                 0           0     0                            0     0   \n",
       "3                 0           0     0                            0     0   \n",
       "4                 0           0     0                            0     0   \n",
       "\n",
       "       ...        smoke  shower snow  dust  thunderstorm  \\\n",
       "0      ...            0            0     0             0   \n",
       "1      ...            0            0     0             0   \n",
       "2      ...            0            0     0             0   \n",
       "3      ...            0            0     0             0   \n",
       "4      ...            0            0     0             0   \n",
       "\n",
       "   thunderstorm with heavy rain  very heavy rain  sand  \\\n",
       "0                             0                0     0   \n",
       "1                             0                0     0   \n",
       "2                             0                0     0   \n",
       "3                             0                0     0   \n",
       "4                             0                0     0   \n",
       "\n",
       "   light intensity drizzle rain  heavy intensity shower rain  freezing rain  \n",
       "0                             0                            0              0  \n",
       "1                             0                            0              0  \n",
       "2                             0                            0              0  \n",
       "3                             0                            0              0  \n",
       "4                             0                            0              0  \n",
       "\n",
       "[5 rows x 36 columns]"
      ]
     },
     "execution_count": 1182,
     "metadata": {},
     "output_type": "execute_result"
    }
   ],
   "source": [
    "enc_descriptions_test.head()"
   ]
  },
  {
   "cell_type": "code",
   "execution_count": 1183,
   "metadata": {},
   "outputs": [],
   "source": [
    "#feature_names = ohe.get_feature_names(feature_names)"
   ]
  },
  {
   "cell_type": "code",
   "execution_count": 1184,
   "metadata": {
    "collapsed": true
   },
   "outputs": [],
   "source": [
    "X_train_not_enc.reset_index(drop=True, inplace=True)\n",
    "enc_descriptions.reset_index(drop=True, inplace=True)"
   ]
  },
  {
   "cell_type": "code",
   "execution_count": 1185,
   "metadata": {},
   "outputs": [],
   "source": [
    "#feature_names = ohe.get_feature_names(feature_names)\n",
    "X_train_hot_encoded = pd.concat([X_train_not_enc, enc_descriptions], axis=1)\n",
    "X_train_hot_encoded = X_train_hot_encoded.drop(\"description\", axis=1)"
   ]
  },
  {
   "cell_type": "code",
   "execution_count": 1186,
   "metadata": {},
   "outputs": [
    {
     "data": {
      "text/html": [
       "<div>\n",
       "<style scoped>\n",
       "    .dataframe tbody tr th:only-of-type {\n",
       "        vertical-align: middle;\n",
       "    }\n",
       "\n",
       "    .dataframe tbody tr th {\n",
       "        vertical-align: top;\n",
       "    }\n",
       "\n",
       "    .dataframe thead th {\n",
       "        text-align: right;\n",
       "    }\n",
       "</style>\n",
       "<table border=\"1\" class=\"dataframe\">\n",
       "  <thead>\n",
       "    <tr style=\"text-align: right;\">\n",
       "      <th></th>\n",
       "      <th>day</th>\n",
       "      <th>hour</th>\n",
       "      <th>month</th>\n",
       "      <th>overcast clouds</th>\n",
       "      <th>sky is clear</th>\n",
       "      <th>few clouds</th>\n",
       "      <th>light rain</th>\n",
       "      <th>broken clouds</th>\n",
       "      <th>scattered clouds</th>\n",
       "      <th>heavy snow</th>\n",
       "      <th>...</th>\n",
       "      <th>smoke</th>\n",
       "      <th>shower snow</th>\n",
       "      <th>dust</th>\n",
       "      <th>thunderstorm</th>\n",
       "      <th>thunderstorm with heavy rain</th>\n",
       "      <th>very heavy rain</th>\n",
       "      <th>sand</th>\n",
       "      <th>light intensity drizzle rain</th>\n",
       "      <th>heavy intensity shower rain</th>\n",
       "      <th>freezing rain</th>\n",
       "    </tr>\n",
       "  </thead>\n",
       "  <tbody>\n",
       "    <tr>\n",
       "      <th>0</th>\n",
       "      <td>4</td>\n",
       "      <td>21</td>\n",
       "      <td>4</td>\n",
       "      <td>0</td>\n",
       "      <td>0</td>\n",
       "      <td>0</td>\n",
       "      <td>0</td>\n",
       "      <td>0</td>\n",
       "      <td>0</td>\n",
       "      <td>0</td>\n",
       "      <td>...</td>\n",
       "      <td>0</td>\n",
       "      <td>0</td>\n",
       "      <td>0</td>\n",
       "      <td>0</td>\n",
       "      <td>0</td>\n",
       "      <td>0</td>\n",
       "      <td>0</td>\n",
       "      <td>0</td>\n",
       "      <td>0</td>\n",
       "      <td>0</td>\n",
       "    </tr>\n",
       "    <tr>\n",
       "      <th>1</th>\n",
       "      <td>2</td>\n",
       "      <td>19</td>\n",
       "      <td>2</td>\n",
       "      <td>0</td>\n",
       "      <td>0</td>\n",
       "      <td>0</td>\n",
       "      <td>0</td>\n",
       "      <td>0</td>\n",
       "      <td>0</td>\n",
       "      <td>0</td>\n",
       "      <td>...</td>\n",
       "      <td>0</td>\n",
       "      <td>0</td>\n",
       "      <td>0</td>\n",
       "      <td>0</td>\n",
       "      <td>0</td>\n",
       "      <td>0</td>\n",
       "      <td>0</td>\n",
       "      <td>0</td>\n",
       "      <td>0</td>\n",
       "      <td>0</td>\n",
       "    </tr>\n",
       "    <tr>\n",
       "      <th>2</th>\n",
       "      <td>24</td>\n",
       "      <td>8</td>\n",
       "      <td>8</td>\n",
       "      <td>0</td>\n",
       "      <td>0</td>\n",
       "      <td>0</td>\n",
       "      <td>0</td>\n",
       "      <td>0</td>\n",
       "      <td>0</td>\n",
       "      <td>0</td>\n",
       "      <td>...</td>\n",
       "      <td>0</td>\n",
       "      <td>0</td>\n",
       "      <td>1</td>\n",
       "      <td>0</td>\n",
       "      <td>0</td>\n",
       "      <td>0</td>\n",
       "      <td>0</td>\n",
       "      <td>0</td>\n",
       "      <td>0</td>\n",
       "      <td>0</td>\n",
       "    </tr>\n",
       "    <tr>\n",
       "      <th>3</th>\n",
       "      <td>17</td>\n",
       "      <td>2</td>\n",
       "      <td>6</td>\n",
       "      <td>0</td>\n",
       "      <td>0</td>\n",
       "      <td>0</td>\n",
       "      <td>1</td>\n",
       "      <td>0</td>\n",
       "      <td>0</td>\n",
       "      <td>0</td>\n",
       "      <td>...</td>\n",
       "      <td>0</td>\n",
       "      <td>0</td>\n",
       "      <td>0</td>\n",
       "      <td>0</td>\n",
       "      <td>0</td>\n",
       "      <td>0</td>\n",
       "      <td>0</td>\n",
       "      <td>0</td>\n",
       "      <td>0</td>\n",
       "      <td>0</td>\n",
       "    </tr>\n",
       "    <tr>\n",
       "      <th>4</th>\n",
       "      <td>3</td>\n",
       "      <td>11</td>\n",
       "      <td>9</td>\n",
       "      <td>0</td>\n",
       "      <td>0</td>\n",
       "      <td>0</td>\n",
       "      <td>0</td>\n",
       "      <td>0</td>\n",
       "      <td>0</td>\n",
       "      <td>0</td>\n",
       "      <td>...</td>\n",
       "      <td>0</td>\n",
       "      <td>0</td>\n",
       "      <td>0</td>\n",
       "      <td>0</td>\n",
       "      <td>0</td>\n",
       "      <td>0</td>\n",
       "      <td>0</td>\n",
       "      <td>0</td>\n",
       "      <td>0</td>\n",
       "      <td>0</td>\n",
       "    </tr>\n",
       "  </tbody>\n",
       "</table>\n",
       "<p>5 rows × 39 columns</p>\n",
       "</div>"
      ],
      "text/plain": [
       "   day  hour  month  overcast clouds  sky is clear  few clouds  light rain  \\\n",
       "0    4    21      4                0             0           0           0   \n",
       "1    2    19      2                0             0           0           0   \n",
       "2   24     8      8                0             0           0           0   \n",
       "3   17     2      6                0             0           0           1   \n",
       "4    3    11      9                0             0           0           0   \n",
       "\n",
       "   broken clouds  scattered clouds  heavy snow      ...        smoke  \\\n",
       "0              0                 0           0      ...            0   \n",
       "1              0                 0           0      ...            0   \n",
       "2              0                 0           0      ...            0   \n",
       "3              0                 0           0      ...            0   \n",
       "4              0                 0           0      ...            0   \n",
       "\n",
       "   shower snow  dust  thunderstorm  thunderstorm with heavy rain  \\\n",
       "0            0     0             0                             0   \n",
       "1            0     0             0                             0   \n",
       "2            0     1             0                             0   \n",
       "3            0     0             0                             0   \n",
       "4            0     0             0                             0   \n",
       "\n",
       "   very heavy rain  sand  light intensity drizzle rain  \\\n",
       "0                0     0                             0   \n",
       "1                0     0                             0   \n",
       "2                0     0                             0   \n",
       "3                0     0                             0   \n",
       "4                0     0                             0   \n",
       "\n",
       "   heavy intensity shower rain  freezing rain  \n",
       "0                            0              0  \n",
       "1                            0              0  \n",
       "2                            0              0  \n",
       "3                            0              0  \n",
       "4                            0              0  \n",
       "\n",
       "[5 rows x 39 columns]"
      ]
     },
     "execution_count": 1186,
     "metadata": {},
     "output_type": "execute_result"
    }
   ],
   "source": [
    "X_train_hot_encoded.head()"
   ]
  },
  {
   "cell_type": "code",
   "execution_count": 1187,
   "metadata": {
    "collapsed": true
   },
   "outputs": [],
   "source": [
    "X_test_not_enc.reset_index(drop=True, inplace=True)\n",
    "enc_descriptions_test.reset_index(drop=True, inplace=True)\n",
    "\n",
    "X_test_hot_encoded = pd.concat([X_test_not_enc, enc_descriptions_test], axis=1)\n",
    "X_test_hot_encoded = X_test_hot_encoded.drop(\"description\", axis=1)"
   ]
  },
  {
   "cell_type": "code",
   "execution_count": 1188,
   "metadata": {},
   "outputs": [
    {
     "data": {
      "text/html": [
       "<div>\n",
       "<style scoped>\n",
       "    .dataframe tbody tr th:only-of-type {\n",
       "        vertical-align: middle;\n",
       "    }\n",
       "\n",
       "    .dataframe tbody tr th {\n",
       "        vertical-align: top;\n",
       "    }\n",
       "\n",
       "    .dataframe thead th {\n",
       "        text-align: right;\n",
       "    }\n",
       "</style>\n",
       "<table border=\"1\" class=\"dataframe\">\n",
       "  <thead>\n",
       "    <tr style=\"text-align: right;\">\n",
       "      <th></th>\n",
       "      <th>day</th>\n",
       "      <th>hour</th>\n",
       "      <th>month</th>\n",
       "      <th>overcast clouds</th>\n",
       "      <th>sky is clear</th>\n",
       "      <th>few clouds</th>\n",
       "      <th>light rain</th>\n",
       "      <th>broken clouds</th>\n",
       "      <th>scattered clouds</th>\n",
       "      <th>heavy snow</th>\n",
       "      <th>...</th>\n",
       "      <th>smoke</th>\n",
       "      <th>shower snow</th>\n",
       "      <th>dust</th>\n",
       "      <th>thunderstorm</th>\n",
       "      <th>thunderstorm with heavy rain</th>\n",
       "      <th>very heavy rain</th>\n",
       "      <th>sand</th>\n",
       "      <th>light intensity drizzle rain</th>\n",
       "      <th>heavy intensity shower rain</th>\n",
       "      <th>freezing rain</th>\n",
       "    </tr>\n",
       "  </thead>\n",
       "  <tbody>\n",
       "    <tr>\n",
       "      <th>0</th>\n",
       "      <td>2</td>\n",
       "      <td>22</td>\n",
       "      <td>8</td>\n",
       "      <td>1</td>\n",
       "      <td>0</td>\n",
       "      <td>0</td>\n",
       "      <td>0</td>\n",
       "      <td>0</td>\n",
       "      <td>0</td>\n",
       "      <td>0</td>\n",
       "      <td>...</td>\n",
       "      <td>0</td>\n",
       "      <td>0</td>\n",
       "      <td>0</td>\n",
       "      <td>0</td>\n",
       "      <td>0</td>\n",
       "      <td>0</td>\n",
       "      <td>0</td>\n",
       "      <td>0</td>\n",
       "      <td>0</td>\n",
       "      <td>0</td>\n",
       "    </tr>\n",
       "    <tr>\n",
       "      <th>1</th>\n",
       "      <td>27</td>\n",
       "      <td>17</td>\n",
       "      <td>6</td>\n",
       "      <td>1</td>\n",
       "      <td>0</td>\n",
       "      <td>0</td>\n",
       "      <td>0</td>\n",
       "      <td>0</td>\n",
       "      <td>0</td>\n",
       "      <td>0</td>\n",
       "      <td>...</td>\n",
       "      <td>0</td>\n",
       "      <td>0</td>\n",
       "      <td>0</td>\n",
       "      <td>0</td>\n",
       "      <td>0</td>\n",
       "      <td>0</td>\n",
       "      <td>0</td>\n",
       "      <td>0</td>\n",
       "      <td>0</td>\n",
       "      <td>0</td>\n",
       "    </tr>\n",
       "    <tr>\n",
       "      <th>2</th>\n",
       "      <td>1</td>\n",
       "      <td>10</td>\n",
       "      <td>11</td>\n",
       "      <td>0</td>\n",
       "      <td>0</td>\n",
       "      <td>0</td>\n",
       "      <td>0</td>\n",
       "      <td>0</td>\n",
       "      <td>0</td>\n",
       "      <td>0</td>\n",
       "      <td>...</td>\n",
       "      <td>0</td>\n",
       "      <td>0</td>\n",
       "      <td>0</td>\n",
       "      <td>0</td>\n",
       "      <td>0</td>\n",
       "      <td>0</td>\n",
       "      <td>0</td>\n",
       "      <td>0</td>\n",
       "      <td>0</td>\n",
       "      <td>0</td>\n",
       "    </tr>\n",
       "    <tr>\n",
       "      <th>3</th>\n",
       "      <td>16</td>\n",
       "      <td>9</td>\n",
       "      <td>7</td>\n",
       "      <td>0</td>\n",
       "      <td>0</td>\n",
       "      <td>0</td>\n",
       "      <td>0</td>\n",
       "      <td>0</td>\n",
       "      <td>0</td>\n",
       "      <td>0</td>\n",
       "      <td>...</td>\n",
       "      <td>0</td>\n",
       "      <td>0</td>\n",
       "      <td>0</td>\n",
       "      <td>0</td>\n",
       "      <td>0</td>\n",
       "      <td>0</td>\n",
       "      <td>0</td>\n",
       "      <td>0</td>\n",
       "      <td>0</td>\n",
       "      <td>0</td>\n",
       "    </tr>\n",
       "    <tr>\n",
       "      <th>4</th>\n",
       "      <td>17</td>\n",
       "      <td>7</td>\n",
       "      <td>1</td>\n",
       "      <td>0</td>\n",
       "      <td>0</td>\n",
       "      <td>0</td>\n",
       "      <td>0</td>\n",
       "      <td>0</td>\n",
       "      <td>0</td>\n",
       "      <td>0</td>\n",
       "      <td>...</td>\n",
       "      <td>0</td>\n",
       "      <td>0</td>\n",
       "      <td>0</td>\n",
       "      <td>0</td>\n",
       "      <td>0</td>\n",
       "      <td>0</td>\n",
       "      <td>0</td>\n",
       "      <td>0</td>\n",
       "      <td>0</td>\n",
       "      <td>0</td>\n",
       "    </tr>\n",
       "  </tbody>\n",
       "</table>\n",
       "<p>5 rows × 39 columns</p>\n",
       "</div>"
      ],
      "text/plain": [
       "   day  hour  month  overcast clouds  sky is clear  few clouds  light rain  \\\n",
       "0    2    22      8                1             0           0           0   \n",
       "1   27    17      6                1             0           0           0   \n",
       "2    1    10     11                0             0           0           0   \n",
       "3   16     9      7                0             0           0           0   \n",
       "4   17     7      1                0             0           0           0   \n",
       "\n",
       "   broken clouds  scattered clouds  heavy snow      ...        smoke  \\\n",
       "0              0                 0           0      ...            0   \n",
       "1              0                 0           0      ...            0   \n",
       "2              0                 0           0      ...            0   \n",
       "3              0                 0           0      ...            0   \n",
       "4              0                 0           0      ...            0   \n",
       "\n",
       "   shower snow  dust  thunderstorm  thunderstorm with heavy rain  \\\n",
       "0            0     0             0                             0   \n",
       "1            0     0             0                             0   \n",
       "2            0     0             0                             0   \n",
       "3            0     0             0                             0   \n",
       "4            0     0             0                             0   \n",
       "\n",
       "   very heavy rain  sand  light intensity drizzle rain  \\\n",
       "0                0     0                             0   \n",
       "1                0     0                             0   \n",
       "2                0     0                             0   \n",
       "3                0     0                             0   \n",
       "4                0     0                             0   \n",
       "\n",
       "   heavy intensity shower rain  freezing rain  \n",
       "0                            0              0  \n",
       "1                            0              0  \n",
       "2                            0              0  \n",
       "3                            0              0  \n",
       "4                            0              0  \n",
       "\n",
       "[5 rows x 39 columns]"
      ]
     },
     "execution_count": 1188,
     "metadata": {},
     "output_type": "execute_result"
    }
   ],
   "source": [
    "X_test_hot_encoded.head()"
   ]
  },
  {
   "cell_type": "code",
   "execution_count": 1189,
   "metadata": {},
   "outputs": [
    {
     "data": {
      "text/plain": [
       "{'max_depth': 15, 'min_samples_leaf': 10}"
      ]
     },
     "execution_count": 1189,
     "metadata": {},
     "output_type": "execute_result"
    }
   ],
   "source": [
    "param_grid = [{'min_samples_leaf': [5, 10,20,30], 'max_depth':[15,20,25,35,45,50]}]   \n",
    "\n",
    "grid_search = GridSearchCV(DecisionTreeRegressor(), param_grid, cv=5)\n",
    "grid_search.fit(X_train_hot_encoded, y_train)\n",
    "grid_search.best_params_"
   ]
  },
  {
   "cell_type": "code",
   "execution_count": 1190,
   "metadata": {},
   "outputs": [
    {
     "data": {
      "text/plain": [
       "DecisionTreeRegressor(max_depth=15, min_samples_leaf=10)"
      ]
     },
     "execution_count": 1190,
     "metadata": {},
     "output_type": "execute_result"
    }
   ],
   "source": [
    "dec_tree_model = DecisionTreeRegressor(min_samples_leaf=10, max_depth=15)\n",
    "dec_tree_model.fit(X_train_hot_encoded, y_train)"
   ]
  },
  {
   "cell_type": "code",
   "execution_count": 1191,
   "metadata": {},
   "outputs": [
    {
     "data": {
      "text/plain": [
       "<matplotlib.axes._subplots.AxesSubplot at 0x146ec6550>"
      ]
     },
     "execution_count": 1191,
     "metadata": {},
     "output_type": "execute_result"
    },
    {
     "data": {
      "image/png": "[encoded data removed]",
      "text/plain": [
       "<matplotlib.figure.Figure at 0x14fbb3160>"
      ]
     },
     "metadata": {},
     "output_type": "display_data"
    }
   ],
   "source": [
    "coef = pd.Series(dec_tree_model.feature_importances_[:10], index = X_train_hot_encoded.columns[:10])\n",
    "imp_coef = coef.sort_values()\n",
    "imp_coef.plot(kind = \"barh\")"
   ]
  },
  {
   "cell_type": "code",
   "execution_count": 1192,
   "metadata": {},
   "outputs": [
    {
     "name": "stdout",
     "output_type": "stream",
     "text": [
      "month 0.8540727947701983\n",
      "day 0.056651914270165145\n",
      "hour 0.045136769388770516\n",
      "dust 0.014276655465798229\n",
      "light rain 0.008945975885200496\n",
      "light shower snow 0.004292964930742187\n",
      "overcast clouds 0.0037122266176288095\n"
     ]
    }
   ],
   "source": [
    "for importance, name in sorted(zip(dec_tree_model.feature_importances_, X_train_hot_encoded.columns),reverse=True)[:7]:\n",
    "    print (name, importance)"
   ]
  },
  {
   "cell_type": "code",
   "execution_count": 1193,
   "metadata": {},
   "outputs": [
    {
     "data": {
      "text/plain": [
       "19.268817974644026"
      ]
     },
     "execution_count": 1193,
     "metadata": {},
     "output_type": "execute_result"
    }
   ],
   "source": [
    "MSE(y_test, dec_tree_model.predict(X_test_hot_encoded))"
   ]
  },
  {
   "cell_type": "code",
   "execution_count": 1194,
   "metadata": {},
   "outputs": [
    {
     "data": {
      "text/plain": [
       "{'max_depth': 60, 'min_samples_leaf': 5, 'n_estimators': 400}"
      ]
     },
     "execution_count": 1194,
     "metadata": {},
     "output_type": "execute_result"
    }
   ],
   "source": [
    "param_grid_rf = [{'min_samples_leaf': [5,10,15], 'max_depth':[40,50,60,70], 'n_estimators':[300,400,500]}]\n",
    "grid_search = GridSearchCV(RandomForestRegressor(), param_grid_rf, cv=5)\n",
    "grid_search.fit(X_train_hot_encoded, y_train)\n",
    "grid_search.best_params_"
   ]
  },
  {
   "cell_type": "code",
   "execution_count": 1197,
   "metadata": {},
   "outputs": [
    {
     "data": {
      "text/plain": [
       "RandomForestRegressor(max_depth=60, min_samples_leaf=5, n_estimators=400)"
      ]
     },
     "execution_count": 1197,
     "metadata": {},
     "output_type": "execute_result"
    }
   ],
   "source": [
    "rf_model = RandomForestRegressor(min_samples_leaf=5, max_depth=60, n_estimators=400)\n",
    "rf_model.fit(X_train_hot_encoded, y_train)"
   ]
  },
  {
   "cell_type": "code",
   "execution_count": 1198,
   "metadata": {},
   "outputs": [
    {
     "data": {
      "text/plain": [
       "16.808063177131807"
      ]
     },
     "execution_count": 1198,
     "metadata": {},
     "output_type": "execute_result"
    }
   ],
   "source": [
    "MSE(y_test, rf_model.predict(X_test_hot_encoded))"
   ]
  },
  {
   "cell_type": "markdown",
   "metadata": {},
   "source": [
    "### Testing encoding pipelines\n",
    "- here we experiment with pre-processing functionalities of sklearn"
   ]
  },
  {
   "cell_type": "code",
   "execution_count": 1203,
   "metadata": {
    "collapsed": true
   },
   "outputs": [],
   "source": [
    "from sklearn.compose import make_column_transformer\n",
    "from sklearn.compose import ColumnTransformer\n",
    "from sklearn.preprocessing import StandardScaler\n",
    "from sklearn.pipeline import Pipeline"
   ]
  },
  {
   "cell_type": "code",
   "execution_count": 1204,
   "metadata": {},
   "outputs": [
    {
     "data": {
      "text/html": [
       "<div>\n",
       "<style scoped>\n",
       "    .dataframe tbody tr th:only-of-type {\n",
       "        vertical-align: middle;\n",
       "    }\n",
       "\n",
       "    .dataframe tbody tr th {\n",
       "        vertical-align: top;\n",
       "    }\n",
       "\n",
       "    .dataframe thead th {\n",
       "        text-align: right;\n",
       "    }\n",
       "</style>\n",
       "<table border=\"1\" class=\"dataframe\">\n",
       "  <thead>\n",
       "    <tr style=\"text-align: right;\">\n",
       "      <th></th>\n",
       "      <th>day</th>\n",
       "      <th>hour</th>\n",
       "      <th>month</th>\n",
       "      <th>description</th>\n",
       "    </tr>\n",
       "  </thead>\n",
       "  <tbody>\n",
       "    <tr>\n",
       "      <th>0</th>\n",
       "      <td>4</td>\n",
       "      <td>21</td>\n",
       "      <td>4</td>\n",
       "      <td>overcast clouds</td>\n",
       "    </tr>\n",
       "    <tr>\n",
       "      <th>1</th>\n",
       "      <td>2</td>\n",
       "      <td>19</td>\n",
       "      <td>2</td>\n",
       "      <td>overcast clouds</td>\n",
       "    </tr>\n",
       "    <tr>\n",
       "      <th>2</th>\n",
       "      <td>24</td>\n",
       "      <td>8</td>\n",
       "      <td>8</td>\n",
       "      <td>sky is clear</td>\n",
       "    </tr>\n",
       "    <tr>\n",
       "      <th>3</th>\n",
       "      <td>17</td>\n",
       "      <td>2</td>\n",
       "      <td>6</td>\n",
       "      <td>few clouds</td>\n",
       "    </tr>\n",
       "    <tr>\n",
       "      <th>4</th>\n",
       "      <td>3</td>\n",
       "      <td>11</td>\n",
       "      <td>9</td>\n",
       "      <td>light rain</td>\n",
       "    </tr>\n",
       "  </tbody>\n",
       "</table>\n",
       "</div>"
      ],
      "text/plain": [
       "   day  hour  month      description\n",
       "0    4    21      4  overcast clouds\n",
       "1    2    19      2  overcast clouds\n",
       "2   24     8      8     sky is clear\n",
       "3   17     2      6       few clouds\n",
       "4    3    11      9       light rain"
      ]
     },
     "execution_count": 1204,
     "metadata": {},
     "output_type": "execute_result"
    }
   ],
   "source": [
    "X_train_not_enc.head()"
   ]
  },
  {
   "cell_type": "code",
   "execution_count": 1205,
   "metadata": {
    "collapsed": true
   },
   "outputs": [],
   "source": [
    "categorical_columns = ['description']\n",
    "numerical_columns = ['hour'] # taking hour just as a sample"
   ]
  },
  {
   "cell_type": "code",
   "execution_count": 1206,
   "metadata": {},
   "outputs": [],
   "source": [
    "num_pipeline = Pipeline([\n",
    "                        (\"imputer\", SimpleImputer(strategy=\"mean\")),\n",
    "                        (\"std_scaler\", StandardScaler())\n",
    "])"
   ]
  },
  {
   "cell_type": "code",
   "execution_count": 1218,
   "metadata": {},
   "outputs": [],
   "source": [
    "full_preprocessor_pipeline = ColumnTransformer([\n",
    "                            (\"cat\", OneHotEncoder(handle_unknown = 'ignore'), categorical_columns),\n",
    "                            (\"num\", num_pipeline, numerical_columns)], \n",
    "                            remainder='passthrough')"
   ]
  },
  {
   "cell_type": "code",
   "execution_count": 1219,
   "metadata": {
    "collapsed": true
   },
   "outputs": [],
   "source": [
    "#, handle_unknown = 'ignore', drop='if_binary'"
   ]
  },
  {
   "cell_type": "code",
   "execution_count": 639,
   "metadata": {},
   "outputs": [],
   "source": [
    "preprocessor = make_column_transformer(\n",
    "    (OneHotEncoder(handle_unknown = 'ignore', dtype=int), categorical_columns),\n",
    "    (StandardScaler(), numerical_columns),\n",
    "    remainder='passthrough'\n",
    ")"
   ]
  },
  {
   "cell_type": "code",
   "execution_count": 1220,
   "metadata": {},
   "outputs": [],
   "source": [
    "X_train_enc_test = full_preprocessor_pipeline.fit_transform(X_train_not_enc).toarray()"
   ]
  },
  {
   "cell_type": "code",
   "execution_count": 1221,
   "metadata": {},
   "outputs": [
    {
     "data": {
      "text/plain": [
       "(['overcast clouds',\n",
       "  'sky is clear',\n",
       "  'few clouds',\n",
       "  'light rain',\n",
       "  'broken clouds'],\n",
       " 36)"
      ]
     },
     "execution_count": 1221,
     "metadata": {},
     "output_type": "execute_result"
    }
   ],
   "source": [
    "feature_names[:5], len(feature_names)"
   ]
  },
  {
   "cell_type": "code",
   "execution_count": 1222,
   "metadata": {},
   "outputs": [],
   "source": [
    "all_features = feature_names + [\"hour\", \"day\", \"month\"]"
   ]
  },
  {
   "cell_type": "code",
   "execution_count": 1223,
   "metadata": {},
   "outputs": [],
   "source": [
    "df_pipeline_results = pd.DataFrame(X_train_enc_test, columns = all_features)#.astype(int)"
   ]
  },
  {
   "cell_type": "code",
   "execution_count": 1224,
   "metadata": {},
   "outputs": [
    {
     "data": {
      "text/html": [
       "<div>\n",
       "<style scoped>\n",
       "    .dataframe tbody tr th:only-of-type {\n",
       "        vertical-align: middle;\n",
       "    }\n",
       "\n",
       "    .dataframe tbody tr th {\n",
       "        vertical-align: top;\n",
       "    }\n",
       "\n",
       "    .dataframe thead th {\n",
       "        text-align: right;\n",
       "    }\n",
       "</style>\n",
       "<table border=\"1\" class=\"dataframe\">\n",
       "  <thead>\n",
       "    <tr style=\"text-align: right;\">\n",
       "      <th></th>\n",
       "      <th>overcast clouds</th>\n",
       "      <th>sky is clear</th>\n",
       "      <th>few clouds</th>\n",
       "      <th>light rain</th>\n",
       "      <th>broken clouds</th>\n",
       "      <th>scattered clouds</th>\n",
       "      <th>heavy snow</th>\n",
       "      <th>haze</th>\n",
       "      <th>light intensity shower rain</th>\n",
       "      <th>mist</th>\n",
       "      <th>...</th>\n",
       "      <th>thunderstorm</th>\n",
       "      <th>thunderstorm with heavy rain</th>\n",
       "      <th>very heavy rain</th>\n",
       "      <th>sand</th>\n",
       "      <th>light intensity drizzle rain</th>\n",
       "      <th>heavy intensity shower rain</th>\n",
       "      <th>freezing rain</th>\n",
       "      <th>hour</th>\n",
       "      <th>day</th>\n",
       "      <th>month</th>\n",
       "    </tr>\n",
       "  </thead>\n",
       "  <tbody>\n",
       "    <tr>\n",
       "      <th>0</th>\n",
       "      <td>0.0</td>\n",
       "      <td>0.0</td>\n",
       "      <td>0.0</td>\n",
       "      <td>0.0</td>\n",
       "      <td>0.0</td>\n",
       "      <td>0.0</td>\n",
       "      <td>0.0</td>\n",
       "      <td>0.0</td>\n",
       "      <td>0.0</td>\n",
       "      <td>0.0</td>\n",
       "      <td>...</td>\n",
       "      <td>0.0</td>\n",
       "      <td>0.0</td>\n",
       "      <td>0.0</td>\n",
       "      <td>0.0</td>\n",
       "      <td>0.0</td>\n",
       "      <td>0.0</td>\n",
       "      <td>0.0</td>\n",
       "      <td>1.379288</td>\n",
       "      <td>4.0</td>\n",
       "      <td>4.0</td>\n",
       "    </tr>\n",
       "    <tr>\n",
       "      <th>1</th>\n",
       "      <td>0.0</td>\n",
       "      <td>0.0</td>\n",
       "      <td>0.0</td>\n",
       "      <td>0.0</td>\n",
       "      <td>0.0</td>\n",
       "      <td>0.0</td>\n",
       "      <td>0.0</td>\n",
       "      <td>0.0</td>\n",
       "      <td>0.0</td>\n",
       "      <td>0.0</td>\n",
       "      <td>...</td>\n",
       "      <td>0.0</td>\n",
       "      <td>0.0</td>\n",
       "      <td>0.0</td>\n",
       "      <td>0.0</td>\n",
       "      <td>0.0</td>\n",
       "      <td>0.0</td>\n",
       "      <td>0.0</td>\n",
       "      <td>1.089689</td>\n",
       "      <td>2.0</td>\n",
       "      <td>2.0</td>\n",
       "    </tr>\n",
       "    <tr>\n",
       "      <th>2</th>\n",
       "      <td>0.0</td>\n",
       "      <td>0.0</td>\n",
       "      <td>0.0</td>\n",
       "      <td>0.0</td>\n",
       "      <td>0.0</td>\n",
       "      <td>0.0</td>\n",
       "      <td>0.0</td>\n",
       "      <td>0.0</td>\n",
       "      <td>0.0</td>\n",
       "      <td>0.0</td>\n",
       "      <td>...</td>\n",
       "      <td>0.0</td>\n",
       "      <td>0.0</td>\n",
       "      <td>0.0</td>\n",
       "      <td>0.0</td>\n",
       "      <td>0.0</td>\n",
       "      <td>0.0</td>\n",
       "      <td>0.0</td>\n",
       "      <td>-0.503105</td>\n",
       "      <td>24.0</td>\n",
       "      <td>8.0</td>\n",
       "    </tr>\n",
       "    <tr>\n",
       "      <th>3</th>\n",
       "      <td>0.0</td>\n",
       "      <td>0.0</td>\n",
       "      <td>0.0</td>\n",
       "      <td>1.0</td>\n",
       "      <td>0.0</td>\n",
       "      <td>0.0</td>\n",
       "      <td>0.0</td>\n",
       "      <td>0.0</td>\n",
       "      <td>0.0</td>\n",
       "      <td>0.0</td>\n",
       "      <td>...</td>\n",
       "      <td>0.0</td>\n",
       "      <td>0.0</td>\n",
       "      <td>0.0</td>\n",
       "      <td>0.0</td>\n",
       "      <td>0.0</td>\n",
       "      <td>0.0</td>\n",
       "      <td>0.0</td>\n",
       "      <td>-1.371902</td>\n",
       "      <td>17.0</td>\n",
       "      <td>6.0</td>\n",
       "    </tr>\n",
       "    <tr>\n",
       "      <th>4</th>\n",
       "      <td>0.0</td>\n",
       "      <td>0.0</td>\n",
       "      <td>0.0</td>\n",
       "      <td>0.0</td>\n",
       "      <td>0.0</td>\n",
       "      <td>0.0</td>\n",
       "      <td>0.0</td>\n",
       "      <td>0.0</td>\n",
       "      <td>0.0</td>\n",
       "      <td>0.0</td>\n",
       "      <td>...</td>\n",
       "      <td>0.0</td>\n",
       "      <td>0.0</td>\n",
       "      <td>0.0</td>\n",
       "      <td>0.0</td>\n",
       "      <td>0.0</td>\n",
       "      <td>0.0</td>\n",
       "      <td>0.0</td>\n",
       "      <td>-0.068707</td>\n",
       "      <td>3.0</td>\n",
       "      <td>9.0</td>\n",
       "    </tr>\n",
       "  </tbody>\n",
       "</table>\n",
       "<p>5 rows × 39 columns</p>\n",
       "</div>"
      ],
      "text/plain": [
       "   overcast clouds  sky is clear  few clouds  light rain  broken clouds  \\\n",
       "0              0.0           0.0         0.0         0.0            0.0   \n",
       "1              0.0           0.0         0.0         0.0            0.0   \n",
       "2              0.0           0.0         0.0         0.0            0.0   \n",
       "3              0.0           0.0         0.0         1.0            0.0   \n",
       "4              0.0           0.0         0.0         0.0            0.0   \n",
       "\n",
       "   scattered clouds  heavy snow  haze  light intensity shower rain  mist  \\\n",
       "0               0.0         0.0   0.0                          0.0   0.0   \n",
       "1               0.0         0.0   0.0                          0.0   0.0   \n",
       "2               0.0         0.0   0.0                          0.0   0.0   \n",
       "3               0.0         0.0   0.0                          0.0   0.0   \n",
       "4               0.0         0.0   0.0                          0.0   0.0   \n",
       "\n",
       "   ...    thunderstorm  thunderstorm with heavy rain  very heavy rain  sand  \\\n",
       "0  ...             0.0                           0.0              0.0   0.0   \n",
       "1  ...             0.0                           0.0              0.0   0.0   \n",
       "2  ...             0.0                           0.0              0.0   0.0   \n",
       "3  ...             0.0                           0.0              0.0   0.0   \n",
       "4  ...             0.0                           0.0              0.0   0.0   \n",
       "\n",
       "   light intensity drizzle rain  heavy intensity shower rain  freezing rain  \\\n",
       "0                           0.0                          0.0            0.0   \n",
       "1                           0.0                          0.0            0.0   \n",
       "2                           0.0                          0.0            0.0   \n",
       "3                           0.0                          0.0            0.0   \n",
       "4                           0.0                          0.0            0.0   \n",
       "\n",
       "       hour   day  month  \n",
       "0  1.379288   4.0    4.0  \n",
       "1  1.089689   2.0    2.0  \n",
       "2 -0.503105  24.0    8.0  \n",
       "3 -1.371902  17.0    6.0  \n",
       "4 -0.068707   3.0    9.0  \n",
       "\n",
       "[5 rows x 39 columns]"
      ]
     },
     "execution_count": 1224,
     "metadata": {},
     "output_type": "execute_result"
    }
   ],
   "source": [
    "df_pipeline_results.head()"
   ]
  },
  {
   "cell_type": "code",
   "execution_count": 1225,
   "metadata": {},
   "outputs": [
    {
     "data": {
      "text/html": [
       "<div>\n",
       "<style scoped>\n",
       "    .dataframe tbody tr th:only-of-type {\n",
       "        vertical-align: middle;\n",
       "    }\n",
       "\n",
       "    .dataframe tbody tr th {\n",
       "        vertical-align: top;\n",
       "    }\n",
       "\n",
       "    .dataframe thead th {\n",
       "        text-align: right;\n",
       "    }\n",
       "</style>\n",
       "<table border=\"1\" class=\"dataframe\">\n",
       "  <thead>\n",
       "    <tr style=\"text-align: right;\">\n",
       "      <th></th>\n",
       "      <th>day</th>\n",
       "      <th>hour</th>\n",
       "      <th>month</th>\n",
       "      <th>description</th>\n",
       "    </tr>\n",
       "  </thead>\n",
       "  <tbody>\n",
       "    <tr>\n",
       "      <th>0</th>\n",
       "      <td>2</td>\n",
       "      <td>22</td>\n",
       "      <td>8</td>\n",
       "      <td>broken clouds</td>\n",
       "    </tr>\n",
       "    <tr>\n",
       "      <th>1</th>\n",
       "      <td>27</td>\n",
       "      <td>17</td>\n",
       "      <td>6</td>\n",
       "      <td>broken clouds</td>\n",
       "    </tr>\n",
       "  </tbody>\n",
       "</table>\n",
       "</div>"
      ],
      "text/plain": [
       "   day  hour  month    description\n",
       "0    2    22      8  broken clouds\n",
       "1   27    17      6  broken clouds"
      ]
     },
     "execution_count": 1225,
     "metadata": {},
     "output_type": "execute_result"
    }
   ],
   "source": [
    "X_test_not_enc.head(2)"
   ]
  },
  {
   "cell_type": "code",
   "execution_count": 1226,
   "metadata": {},
   "outputs": [],
   "source": [
    "X_test_enc_test = full_preprocessor_pipeline.transform(X_test_not_enc).toarray()"
   ]
  },
  {
   "cell_type": "code",
   "execution_count": 1227,
   "metadata": {
    "collapsed": true
   },
   "outputs": [],
   "source": [
    "df_pipeline_results_test_data = pd.DataFrame(X_test_enc_test, columns = all_features)"
   ]
  },
  {
   "cell_type": "code",
   "execution_count": 1228,
   "metadata": {},
   "outputs": [
    {
     "data": {
      "text/html": [
       "<div>\n",
       "<style scoped>\n",
       "    .dataframe tbody tr th:only-of-type {\n",
       "        vertical-align: middle;\n",
       "    }\n",
       "\n",
       "    .dataframe tbody tr th {\n",
       "        vertical-align: top;\n",
       "    }\n",
       "\n",
       "    .dataframe thead th {\n",
       "        text-align: right;\n",
       "    }\n",
       "</style>\n",
       "<table border=\"1\" class=\"dataframe\">\n",
       "  <thead>\n",
       "    <tr style=\"text-align: right;\">\n",
       "      <th></th>\n",
       "      <th>overcast clouds</th>\n",
       "      <th>sky is clear</th>\n",
       "      <th>few clouds</th>\n",
       "      <th>light rain</th>\n",
       "      <th>broken clouds</th>\n",
       "      <th>scattered clouds</th>\n",
       "      <th>heavy snow</th>\n",
       "      <th>haze</th>\n",
       "      <th>light intensity shower rain</th>\n",
       "      <th>mist</th>\n",
       "      <th>...</th>\n",
       "      <th>thunderstorm</th>\n",
       "      <th>thunderstorm with heavy rain</th>\n",
       "      <th>very heavy rain</th>\n",
       "      <th>sand</th>\n",
       "      <th>light intensity drizzle rain</th>\n",
       "      <th>heavy intensity shower rain</th>\n",
       "      <th>freezing rain</th>\n",
       "      <th>hour</th>\n",
       "      <th>day</th>\n",
       "      <th>month</th>\n",
       "    </tr>\n",
       "  </thead>\n",
       "  <tbody>\n",
       "    <tr>\n",
       "      <th>0</th>\n",
       "      <td>1.0</td>\n",
       "      <td>0.0</td>\n",
       "      <td>0.0</td>\n",
       "      <td>0.0</td>\n",
       "      <td>0.0</td>\n",
       "      <td>0.0</td>\n",
       "      <td>0.0</td>\n",
       "      <td>0.0</td>\n",
       "      <td>0.0</td>\n",
       "      <td>0.0</td>\n",
       "      <td>...</td>\n",
       "      <td>0.0</td>\n",
       "      <td>0.0</td>\n",
       "      <td>0.0</td>\n",
       "      <td>0.0</td>\n",
       "      <td>0.0</td>\n",
       "      <td>0.0</td>\n",
       "      <td>0.0</td>\n",
       "      <td>1.524088</td>\n",
       "      <td>2.0</td>\n",
       "      <td>8.0</td>\n",
       "    </tr>\n",
       "    <tr>\n",
       "      <th>1</th>\n",
       "      <td>1.0</td>\n",
       "      <td>0.0</td>\n",
       "      <td>0.0</td>\n",
       "      <td>0.0</td>\n",
       "      <td>0.0</td>\n",
       "      <td>0.0</td>\n",
       "      <td>0.0</td>\n",
       "      <td>0.0</td>\n",
       "      <td>0.0</td>\n",
       "      <td>0.0</td>\n",
       "      <td>...</td>\n",
       "      <td>0.0</td>\n",
       "      <td>0.0</td>\n",
       "      <td>0.0</td>\n",
       "      <td>0.0</td>\n",
       "      <td>0.0</td>\n",
       "      <td>0.0</td>\n",
       "      <td>0.0</td>\n",
       "      <td>0.800090</td>\n",
       "      <td>27.0</td>\n",
       "      <td>6.0</td>\n",
       "    </tr>\n",
       "    <tr>\n",
       "      <th>2</th>\n",
       "      <td>0.0</td>\n",
       "      <td>0.0</td>\n",
       "      <td>0.0</td>\n",
       "      <td>0.0</td>\n",
       "      <td>0.0</td>\n",
       "      <td>0.0</td>\n",
       "      <td>0.0</td>\n",
       "      <td>0.0</td>\n",
       "      <td>0.0</td>\n",
       "      <td>0.0</td>\n",
       "      <td>...</td>\n",
       "      <td>0.0</td>\n",
       "      <td>0.0</td>\n",
       "      <td>0.0</td>\n",
       "      <td>0.0</td>\n",
       "      <td>0.0</td>\n",
       "      <td>0.0</td>\n",
       "      <td>0.0</td>\n",
       "      <td>-0.213506</td>\n",
       "      <td>1.0</td>\n",
       "      <td>11.0</td>\n",
       "    </tr>\n",
       "    <tr>\n",
       "      <th>3</th>\n",
       "      <td>0.0</td>\n",
       "      <td>0.0</td>\n",
       "      <td>0.0</td>\n",
       "      <td>0.0</td>\n",
       "      <td>0.0</td>\n",
       "      <td>0.0</td>\n",
       "      <td>0.0</td>\n",
       "      <td>0.0</td>\n",
       "      <td>0.0</td>\n",
       "      <td>0.0</td>\n",
       "      <td>...</td>\n",
       "      <td>0.0</td>\n",
       "      <td>0.0</td>\n",
       "      <td>0.0</td>\n",
       "      <td>0.0</td>\n",
       "      <td>0.0</td>\n",
       "      <td>0.0</td>\n",
       "      <td>0.0</td>\n",
       "      <td>-0.358306</td>\n",
       "      <td>16.0</td>\n",
       "      <td>7.0</td>\n",
       "    </tr>\n",
       "    <tr>\n",
       "      <th>4</th>\n",
       "      <td>0.0</td>\n",
       "      <td>0.0</td>\n",
       "      <td>0.0</td>\n",
       "      <td>0.0</td>\n",
       "      <td>0.0</td>\n",
       "      <td>0.0</td>\n",
       "      <td>0.0</td>\n",
       "      <td>0.0</td>\n",
       "      <td>0.0</td>\n",
       "      <td>0.0</td>\n",
       "      <td>...</td>\n",
       "      <td>0.0</td>\n",
       "      <td>0.0</td>\n",
       "      <td>0.0</td>\n",
       "      <td>0.0</td>\n",
       "      <td>0.0</td>\n",
       "      <td>0.0</td>\n",
       "      <td>0.0</td>\n",
       "      <td>-0.647905</td>\n",
       "      <td>17.0</td>\n",
       "      <td>1.0</td>\n",
       "    </tr>\n",
       "  </tbody>\n",
       "</table>\n",
       "<p>5 rows × 39 columns</p>\n",
       "</div>"
      ],
      "text/plain": [
       "   overcast clouds  sky is clear  few clouds  light rain  broken clouds  \\\n",
       "0              1.0           0.0         0.0         0.0            0.0   \n",
       "1              1.0           0.0         0.0         0.0            0.0   \n",
       "2              0.0           0.0         0.0         0.0            0.0   \n",
       "3              0.0           0.0         0.0         0.0            0.0   \n",
       "4              0.0           0.0         0.0         0.0            0.0   \n",
       "\n",
       "   scattered clouds  heavy snow  haze  light intensity shower rain  mist  \\\n",
       "0               0.0         0.0   0.0                          0.0   0.0   \n",
       "1               0.0         0.0   0.0                          0.0   0.0   \n",
       "2               0.0         0.0   0.0                          0.0   0.0   \n",
       "3               0.0         0.0   0.0                          0.0   0.0   \n",
       "4               0.0         0.0   0.0                          0.0   0.0   \n",
       "\n",
       "   ...    thunderstorm  thunderstorm with heavy rain  very heavy rain  sand  \\\n",
       "0  ...             0.0                           0.0              0.0   0.0   \n",
       "1  ...             0.0                           0.0              0.0   0.0   \n",
       "2  ...             0.0                           0.0              0.0   0.0   \n",
       "3  ...             0.0                           0.0              0.0   0.0   \n",
       "4  ...             0.0                           0.0              0.0   0.0   \n",
       "\n",
       "   light intensity drizzle rain  heavy intensity shower rain  freezing rain  \\\n",
       "0                           0.0                          0.0            0.0   \n",
       "1                           0.0                          0.0            0.0   \n",
       "2                           0.0                          0.0            0.0   \n",
       "3                           0.0                          0.0            0.0   \n",
       "4                           0.0                          0.0            0.0   \n",
       "\n",
       "       hour   day  month  \n",
       "0  1.524088   2.0    8.0  \n",
       "1  0.800090  27.0    6.0  \n",
       "2 -0.213506   1.0   11.0  \n",
       "3 -0.358306  16.0    7.0  \n",
       "4 -0.647905  17.0    1.0  \n",
       "\n",
       "[5 rows x 39 columns]"
      ]
     },
     "execution_count": 1228,
     "metadata": {},
     "output_type": "execute_result"
    }
   ],
   "source": [
    "df_pipeline_results_test_data.head()"
   ]
  },
  {
   "cell_type": "code",
   "execution_count": null,
   "metadata": {
    "collapsed": true
   },
   "outputs": [],
   "source": []
  }
 ],
 "metadata": {
  "kernelspec": {
   "display_name": "Python 3",
   "language": "python",
   "name": "python3"
  },
  "language_info": {
   "codemirror_mode": {
    "name": "ipython",
    "version": 3
   },
   "file_extension": ".py",
   "mimetype": "text/x-python",
   "name": "python",
   "nbconvert_exporter": "python",
   "pygments_lexer": "ipython3",
   "version": "3.6.10"
  }
 },
 "nbformat": 4,
 "nbformat_minor": 2
}
